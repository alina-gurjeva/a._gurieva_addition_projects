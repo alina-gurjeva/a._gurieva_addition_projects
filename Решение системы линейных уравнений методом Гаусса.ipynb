{
 "cells": [
  {
   "cell_type": "markdown",
   "metadata": {},
   "source": [
    "# Решение системы линейных уравнений методом Гаусса"
   ]
  },
  {
   "cell_type": "markdown",
   "metadata": {},
   "source": [
    "Задача:\n",
    "\n",
    "Напишите программу, которая решает систему линейных алгебраических уравнений методом Гаусса.\n",
    "\n",
    "Формат входных данных: \n",
    "\n",
    "В первой строке задаются два числа: количество уравнений n≥1 и количество неизвестных m≥1. Далее идут n строк, каждая из которых содержит m+1 число. Первые m чисел — это коэффициенты 1-го уравнения системы, а последнее, (m+1)-е число — последний коэффициент последней строки. \n",
    "\n",
    "Формат выходных данных:\n",
    "\n",
    "- В первой строке следует вывести слово YES, если решение существует и единственно, \n",
    "- слово NO в случае, если решение не существует, \n",
    "- и слово INF в случае, когда решений существует бесконечно много. \n",
    "\n",
    "Если решение существует и единственно, то во второй строке следует вывести решение системы в виде m чисел, разделенных пробелом."
   ]
  },
  {
   "cell_type": "code",
   "execution_count": 1,
   "metadata": {},
   "outputs": [],
   "source": [
    "import numpy as np\n",
    "import pandas as pd"
   ]
  },
  {
   "cell_type": "markdown",
   "metadata": {},
   "source": [
    "1. Считаем количество строк и количество переменных с input."
   ]
  },
  {
   "cell_type": "code",
   "execution_count": 8,
   "metadata": {},
   "outputs": [
    {
     "name": "stdout",
     "output_type": "stream",
     "text": [
      "3 3\n"
     ]
    }
   ],
   "source": [
    "a = input()\n",
    "a.split()\n",
    "numb_equil, numb_x = int(a[0]), int(a[2])\n",
    "numbers_expand = np.zeros([numb_equil, numb_x+1])"
   ]
  },
  {
   "cell_type": "markdown",
   "metadata": {},
   "source": [
    "Мы сразу создали основу для будущей расширенной матрицы - numbers_expand (пока она заполнена нулями)."
   ]
  },
  {
   "cell_type": "markdown",
   "metadata": {},
   "source": [
    "Теперь считаем построчно числа с input() и заполним построчно матрицу numbers_expand.\n",
    "\n",
    "Для теста зададим матрицу в три строки и с тремя неизвестными со следующими коэффициентами: \n",
    "2 3 1 8\n",
    "4 7 5 20\n",
    "0 -2 2 0"
   ]
  },
  {
   "cell_type": "code",
   "execution_count": 9,
   "metadata": {},
   "outputs": [
    {
     "name": "stdout",
     "output_type": "stream",
     "text": [
      "2 3 1 8\n",
      "4 7 5 20\n",
      "0 -2 2 0\n"
     ]
    }
   ],
   "source": [
    "for i in range(numb_equil):\n",
    "    series = pd.Series([float(item) for item in input().split()]).astype('float').values\n",
    "    numbers_expand[i] = series"
   ]
  },
  {
   "cell_type": "markdown",
   "metadata": {},
   "source": [
    "У нас получилась матрица, которая выглядит для наших данных так:"
   ]
  },
  {
   "cell_type": "code",
   "execution_count": 10,
   "metadata": {},
   "outputs": [
    {
     "data": {
      "text/plain": [
       "array([[ 2.,  3.,  1.,  8.],\n",
       "       [ 4.,  7.,  5., 20.],\n",
       "       [ 0., -2.,  2.,  0.]])"
      ]
     },
     "execution_count": 10,
     "metadata": {},
     "output_type": "execute_result"
    }
   ],
   "source": [
    "numbers_expand"
   ]
  },
  {
   "cell_type": "markdown",
   "metadata": {},
   "source": [
    "Теперь нам понадобится обычный вариант матрицы (не расширенный), а также понадобится вычислить ранги этих обеих матриц."
   ]
  },
  {
   "cell_type": "code",
   "execution_count": 11,
   "metadata": {},
   "outputs": [],
   "source": [
    "#взяли все строки и все кроме последнего столбцы:\n",
    "numbers = numbers_expand[:, 0:numb_x] \n",
    "#Вычисляем ранги:\n",
    "rank_numbers_expand = np.linalg.matrix_rank(numbers_expand)\n",
    "rank_numbers = np.linalg.matrix_rank(numbers)"
   ]
  },
  {
   "cell_type": "markdown",
   "metadata": {},
   "source": [
    "Теперь напишем программу, которая будет действовать следующим образом.\n",
    "\n",
    "I\n",
    "\n",
    "Проверка матрицы на количество решений\n",
    "---\n",
    "\n",
    "Для проверки нам нужно сравнить между собой ранги матриц. Если ранги не равны, то система не имеет решений. Тогда - согласно задаче - программа выведет NO.\n",
    "\n",
    "Если ранги равны, но  ранг меньше, чем количество неизвестных, то мы имеем дело с переопределенной системой уравнений. Ответом будет INF.\n",
    "\n",
    "Ну и наконец, если матрица имеет решение, то от нас требуется написать алгоритм, который решит эту систему уравнений методом Гаусса. \n",
    "\n",
    "И мы переходим ко второй части программы.\n",
    "\n",
    "II\n",
    "\n",
    "Решение системы уравнений методом Гаусса.\n",
    "---\n",
    "1) Сортировка. \n",
    "\n",
    "Для начала отсортируем матрицу построчно. Нам нужно добиться, чтобы на первой строке стояло уравнение с самым высоким коэффициентом при $x_1$, на второй строке - с самым высоким коэффициентом при $x_2$ среди оставшихся строк, и так далее. \n",
    "\n",
    "Для этого мы сначала создадим \"свободную\" матрицу размером с расширенную, изначально заполненную единицами. В нее мы будем построчно вклыдывать строки из изначальной матрицы в нужном порядке. Также создадим вторую матрицу - копию расширенной: ее мы будем укорачивать по мере того, как будем из нее вытаскивать строки для первой матрицы. \n",
    "\n",
    "Далее мы пробежимся циклом по числу неизвестных. В каждом цикле k мы по k - тому столбцу будем искать максимальное значение и передавать логическое выражение в качестве индекса укорачивающейся с каждым шагом матрице. \n",
    "\n",
    "2) Алгоритм решения:\n",
    "\n",
    "Сначала приведем матрицу к верхнетреугольному виду. Для этого сначала мы будем домножать каждую строку, начиная со второй, на число, которое равно отношению коэффициента при переменный $x_1$ и вычитать из этой строки первую. \n",
    "\n",
    "Затем точно также поступим с каждой последующей строкой, с каждым шагом спускаясь все ниже, вплоть до последней строки. \n",
    "\n",
    "Когда мы получили треугольную матрицу, реализуем алгоритм последующего решения: \n",
    "\n",
    "- Начиная с последней (m) строки выражать переменную $x_m$ как отношение числа, стоящего последним в этом ряду к коэффициенту при этой переменной. \n",
    "\n",
    "- Из верхней по отношению к этой строки вычитать эту строку. \n",
    "\n",
    "- И так ступенчато продвигаться вплоть до верхней строки. \n",
    "\n",
    "По итогу у нас получится матрица, где по диагонале будут стоять решения этой системы уравнений. \n",
    "\n",
    "Реализуем этот механизм и посмотрим , что получится. "
   ]
  },
  {
   "cell_type": "code",
   "execution_count": null,
   "metadata": {},
   "outputs": [],
   "source": [
    "import numpy as np\n",
    "import pandas as pd\n",
    "a = input()\n",
    "a.split(' ')\n",
    "numb_equil, numb_x = int(a[0]), int(a[2])\n",
    "numbers_expand = np.zeros([numb_equil, numb_x+1])\n",
    "\n",
    "for i in range(numb_equil):\n",
    "    try:\n",
    "        series = pd.Series([float(item) for item in input().split()]).astype('float').values\n",
    "        numbers_expand[i] = series\n",
    "    except:\n",
    "        print('INF')\n",
    "    \n",
    "        \n",
    "\n",
    "numbers = numbers_expand[:, 0:numb_x]\n",
    "rank_numbers_expand = np.linalg.matrix_rank(numbers_expand)\n",
    "rank_numbers = np.linalg.matrix_rank(numbers)\n",
    "if rank_numbers_expand != rank_numbers:\n",
    "    print('NO')\n",
    "elif rank_numbers_expand == rank_numbers and rank_numbers_expand < numb_x:\n",
    "    print('INF')\n",
    "else:\n",
    "    print('YES')\n",
    "    a = numbers_expand[:, 0:numb_x]\n",
    "    b = numbers_expand[:, numb_x]\n",
    "    answer = np.linalg.solve(a, b)\n",
    "    answerlist = list(answer)\n",
    "    for i in range(len(answerlist)):\n",
    "        print(answerlist[i], end=' ')"
   ]
  },
  {
   "cell_type": "markdown",
   "metadata": {},
   "source": [
    "Напишем цикл для проверки, имеет ли система решения: NO - если решений нет, INF - если решений бесконечно много, YES - если решение есть и единственно."
   ]
  },
  {
   "cell_type": "code",
   "execution_count": 12,
   "metadata": {},
   "outputs": [
    {
     "name": "stdout",
     "output_type": "stream",
     "text": [
      "YES\n",
      "2.0 1.0 1.0 "
     ]
    }
   ],
   "source": [
    "if rank_numbers_expand != rank_numbers:\n",
    "    print('NO')\n",
    "elif rank_numbers_expand == rank_numbers and rank_numbers_expand < numb_x:\n",
    "    print('INF')\n",
    "else:\n",
    "    print('YES')\n",
    "    matrix_expand2 = np.ones(numbers_expand.shape)\n",
    "    matrix_expandshorten = numbers_expand\n",
    "    for k in range(numb_equil):\n",
    "        matrix_expand2[k] = matrix_expandshorten[matrix_expandshorten[:, k] == matrix_expandshorten[:, k].max()][0]\n",
    "        matrix_expandshorten = matrix_expandshorten[matrix_expandshorten[:, k] != matrix_expandshorten[:, k].max()]\n",
    "        podmatrix = matrix_expand2\n",
    "        for k in range(numb_x):\n",
    "            for x in range(numb_x):\n",
    "                if 0 <= x <= k:\n",
    "                    pass    \n",
    "                else:\n",
    "                    if podmatrix[x, k]== 0:\n",
    "                        pass\n",
    "                    else:\n",
    "                        koef = podmatrix[k, k] / podmatrix[x, k]\n",
    "                        podmatrix[x] = podmatrix[x]*koef - podmatrix[k]\n",
    "    for x in range(numb_x-1, -1, -1):\n",
    "        podmatrix[x, numb_x] = podmatrix[x, numb_x]/podmatrix[x,x]\n",
    "        podmatrix[x,x] = 1\n",
    "        for k in range(x-1, -1, -1):\n",
    "            podmatrix[k, x] = podmatrix[k, x]*podmatrix[x, numb_x]\n",
    "            podmatrix[k, numb_x] = podmatrix[k, numb_x] - podmatrix[k, x]\n",
    "            podmatrix[k, x] = 0\n",
    "    answers = list(podmatrix[:, numb_x])\n",
    "    for ans in answers:\n",
    "        print(ans, end=' ')"
   ]
  },
  {
   "cell_type": "markdown",
   "metadata": {},
   "source": [
    "Мы получили решение системы уравнений для указанных входных данных: 2, 1 и 1.\n",
    "\n",
    "Проверить это решение можно либо подставив решения в систему уравнений, либо воспользовавшись, например, библиотекой numpy. Мы выберем второй путь. "
   ]
  },
  {
   "cell_type": "code",
   "execution_count": 15,
   "metadata": {},
   "outputs": [
    {
     "name": "stdout",
     "output_type": "stream",
     "text": [
      "2.0 1.0 1.0 "
     ]
    }
   ],
   "source": [
    "a = numbers_expand[:, 0:numb_x]\n",
    "b = numbers_expand[:, numb_x]\n",
    "\n",
    "answer2 = np.linalg.solve(a, b)\n",
    "answerlist2 = list(answer2)\n",
    "for i in range(len(answerlist2)):\n",
    "    print(answerlist2[i], end=' ')"
   ]
  },
  {
   "cell_type": "markdown",
   "metadata": {},
   "source": [
    "Решения совпали. \n",
    "\n",
    "Таким образом, мы реализовали алгоритм решения матричных уравнений методом Гаусса в случае если эта система имеет решение. "
   ]
  }
 ],
 "metadata": {
  "kernelspec": {
   "display_name": "Python 3",
   "language": "python",
   "name": "python3"
  },
  "language_info": {
   "codemirror_mode": {
    "name": "ipython",
    "version": 3
   },
   "file_extension": ".py",
   "mimetype": "text/x-python",
   "name": "python",
   "nbconvert_exporter": "python",
   "pygments_lexer": "ipython3",
   "version": "3.7.4"
  }
 },
 "nbformat": 4,
 "nbformat_minor": 2
}
