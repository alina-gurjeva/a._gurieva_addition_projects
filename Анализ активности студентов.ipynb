{
 "cells": [
  {
   "cell_type": "markdown",
   "metadata": {},
   "source": [
    "# Анализ активности студентов онлайн курса Введение в анализ данных в R"
   ]
  },
  {
   "cell_type": "markdown",
   "metadata": {},
   "source": [
    "Данный проект реализован в рамках обучения на курсе \"Введение в Data Science и машинное обучение\".\n",
    "\n",
    "У нас есть данные по активности студентов онлайн курса \"Введение в анализ данных в R\" с платформы Stepic (данные реальные).  Необходимо построить модель, которая будет предсказывать, покинет ли пользователь курс или дойдет его до конца. "
   ]
  },
  {
   "cell_type": "markdown",
   "metadata": {},
   "source": [
    "# Шаг 1. Предобработка и анализ данных"
   ]
  },
  {
   "cell_type": "markdown",
   "metadata": {},
   "source": [
    "- Откроем данные,\n",
    "- Проанализируем поведение пользователей на платформе,\n",
    "- Подготовим данные со статистикой действий по каждому пользователю."
   ]
  },
  {
   "cell_type": "code",
   "execution_count": 2,
   "metadata": {},
   "outputs": [],
   "source": [
    "import pandas as pd\n",
    "import numpy as np"
   ]
  },
  {
   "cell_type": "code",
   "execution_count": 3,
   "metadata": {},
   "outputs": [
    {
     "data": {
      "text/html": [
       "<div>\n",
       "<style scoped>\n",
       "    .dataframe tbody tr th:only-of-type {\n",
       "        vertical-align: middle;\n",
       "    }\n",
       "\n",
       "    .dataframe tbody tr th {\n",
       "        vertical-align: top;\n",
       "    }\n",
       "\n",
       "    .dataframe thead th {\n",
       "        text-align: right;\n",
       "    }\n",
       "</style>\n",
       "<table border=\"1\" class=\"dataframe\">\n",
       "  <thead>\n",
       "    <tr style=\"text-align: right;\">\n",
       "      <th></th>\n",
       "      <th>step_id</th>\n",
       "      <th>timestamp</th>\n",
       "      <th>action</th>\n",
       "      <th>user_id</th>\n",
       "    </tr>\n",
       "  </thead>\n",
       "  <tbody>\n",
       "    <tr>\n",
       "      <td>0</td>\n",
       "      <td>32815</td>\n",
       "      <td>1434340848</td>\n",
       "      <td>viewed</td>\n",
       "      <td>17632</td>\n",
       "    </tr>\n",
       "    <tr>\n",
       "      <td>1</td>\n",
       "      <td>32815</td>\n",
       "      <td>1434340848</td>\n",
       "      <td>passed</td>\n",
       "      <td>17632</td>\n",
       "    </tr>\n",
       "    <tr>\n",
       "      <td>2</td>\n",
       "      <td>32815</td>\n",
       "      <td>1434340848</td>\n",
       "      <td>discovered</td>\n",
       "      <td>17632</td>\n",
       "    </tr>\n",
       "    <tr>\n",
       "      <td>3</td>\n",
       "      <td>32811</td>\n",
       "      <td>1434340895</td>\n",
       "      <td>discovered</td>\n",
       "      <td>17632</td>\n",
       "    </tr>\n",
       "    <tr>\n",
       "      <td>4</td>\n",
       "      <td>32811</td>\n",
       "      <td>1434340895</td>\n",
       "      <td>viewed</td>\n",
       "      <td>17632</td>\n",
       "    </tr>\n",
       "    <tr>\n",
       "      <td>...</td>\n",
       "      <td>...</td>\n",
       "      <td>...</td>\n",
       "      <td>...</td>\n",
       "      <td>...</td>\n",
       "    </tr>\n",
       "    <tr>\n",
       "      <td>3480698</td>\n",
       "      <td>33375</td>\n",
       "      <td>1526772685</td>\n",
       "      <td>viewed</td>\n",
       "      <td>11677</td>\n",
       "    </tr>\n",
       "    <tr>\n",
       "      <td>3480699</td>\n",
       "      <td>32815</td>\n",
       "      <td>1526772750</td>\n",
       "      <td>viewed</td>\n",
       "      <td>5198</td>\n",
       "    </tr>\n",
       "    <tr>\n",
       "      <td>3480700</td>\n",
       "      <td>32815</td>\n",
       "      <td>1526772750</td>\n",
       "      <td>discovered</td>\n",
       "      <td>5198</td>\n",
       "    </tr>\n",
       "    <tr>\n",
       "      <td>3480701</td>\n",
       "      <td>32815</td>\n",
       "      <td>1526772750</td>\n",
       "      <td>passed</td>\n",
       "      <td>5198</td>\n",
       "    </tr>\n",
       "    <tr>\n",
       "      <td>3480702</td>\n",
       "      <td>33892</td>\n",
       "      <td>1526772811</td>\n",
       "      <td>viewed</td>\n",
       "      <td>18526</td>\n",
       "    </tr>\n",
       "  </tbody>\n",
       "</table>\n",
       "<p>3480703 rows × 4 columns</p>\n",
       "</div>"
      ],
      "text/plain": [
       "         step_id   timestamp      action  user_id\n",
       "0          32815  1434340848      viewed    17632\n",
       "1          32815  1434340848      passed    17632\n",
       "2          32815  1434340848  discovered    17632\n",
       "3          32811  1434340895  discovered    17632\n",
       "4          32811  1434340895      viewed    17632\n",
       "...          ...         ...         ...      ...\n",
       "3480698    33375  1526772685      viewed    11677\n",
       "3480699    32815  1526772750      viewed     5198\n",
       "3480700    32815  1526772750  discovered     5198\n",
       "3480701    32815  1526772750      passed     5198\n",
       "3480702    33892  1526772811      viewed    18526\n",
       "\n",
       "[3480703 rows x 4 columns]"
      ]
     },
     "execution_count": 3,
     "metadata": {},
     "output_type": "execute_result"
    }
   ],
   "source": [
    "event_data = pd.read_csv('https://stepik.org/media/attachments/course/4852/event_data_train.zip')\n",
    "event_data"
   ]
  },
  {
   "cell_type": "markdown",
   "metadata": {},
   "source": [
    "Описание данных: \n",
    "\n",
    "events_train.csv - данные о действиях, которые совершают студенты со стэпами\n",
    "\n",
    "1. step_id - id стэпа\n",
    "2. user_id - анонимизированный id юзера\n",
    "3. timestamp - время наступления события в формате unix date\n",
    "4. action - событие. \n",
    "\n",
    "Возможные значения столбца action:\n",
    "\n",
    "-discovered - пользователь перешел на стэп\n",
    "\n",
    "-viewed - просмотр шага,\n",
    "\n",
    "-started_attempt - начало попытки решить шаг, ранее нужно было явно нажать на кнопку - начать решение, перед тем как приступить к решению практического шага\n",
    "\n",
    "-passed - удачное решение практического шага"
   ]
  },
  {
   "cell_type": "code",
   "execution_count": 4,
   "metadata": {},
   "outputs": [
    {
     "data": {
      "text/html": [
       "<div>\n",
       "<style scoped>\n",
       "    .dataframe tbody tr th:only-of-type {\n",
       "        vertical-align: middle;\n",
       "    }\n",
       "\n",
       "    .dataframe tbody tr th {\n",
       "        vertical-align: top;\n",
       "    }\n",
       "\n",
       "    .dataframe thead th {\n",
       "        text-align: right;\n",
       "    }\n",
       "</style>\n",
       "<table border=\"1\" class=\"dataframe\">\n",
       "  <thead>\n",
       "    <tr style=\"text-align: right;\">\n",
       "      <th></th>\n",
       "      <th>step_id</th>\n",
       "      <th>timestamp</th>\n",
       "      <th>submission_status</th>\n",
       "      <th>user_id</th>\n",
       "    </tr>\n",
       "  </thead>\n",
       "  <tbody>\n",
       "    <tr>\n",
       "      <td>0</td>\n",
       "      <td>31971</td>\n",
       "      <td>1434349275</td>\n",
       "      <td>correct</td>\n",
       "      <td>15853</td>\n",
       "    </tr>\n",
       "    <tr>\n",
       "      <td>1</td>\n",
       "      <td>31972</td>\n",
       "      <td>1434348300</td>\n",
       "      <td>correct</td>\n",
       "      <td>15853</td>\n",
       "    </tr>\n",
       "    <tr>\n",
       "      <td>2</td>\n",
       "      <td>31972</td>\n",
       "      <td>1478852149</td>\n",
       "      <td>wrong</td>\n",
       "      <td>15853</td>\n",
       "    </tr>\n",
       "    <tr>\n",
       "      <td>3</td>\n",
       "      <td>31972</td>\n",
       "      <td>1478852164</td>\n",
       "      <td>correct</td>\n",
       "      <td>15853</td>\n",
       "    </tr>\n",
       "    <tr>\n",
       "      <td>4</td>\n",
       "      <td>31976</td>\n",
       "      <td>1434348123</td>\n",
       "      <td>wrong</td>\n",
       "      <td>15853</td>\n",
       "    </tr>\n",
       "    <tr>\n",
       "      <td>...</td>\n",
       "      <td>...</td>\n",
       "      <td>...</td>\n",
       "      <td>...</td>\n",
       "      <td>...</td>\n",
       "    </tr>\n",
       "    <tr>\n",
       "      <td>509099</td>\n",
       "      <td>120745</td>\n",
       "      <td>1501946959</td>\n",
       "      <td>wrong</td>\n",
       "      <td>2615</td>\n",
       "    </tr>\n",
       "    <tr>\n",
       "      <td>509100</td>\n",
       "      <td>120745</td>\n",
       "      <td>1503059927</td>\n",
       "      <td>correct</td>\n",
       "      <td>13177</td>\n",
       "    </tr>\n",
       "    <tr>\n",
       "      <td>509101</td>\n",
       "      <td>120745</td>\n",
       "      <td>1506348153</td>\n",
       "      <td>wrong</td>\n",
       "      <td>15253</td>\n",
       "    </tr>\n",
       "    <tr>\n",
       "      <td>509102</td>\n",
       "      <td>120745</td>\n",
       "      <td>1523035316</td>\n",
       "      <td>wrong</td>\n",
       "      <td>1424</td>\n",
       "    </tr>\n",
       "    <tr>\n",
       "      <td>509103</td>\n",
       "      <td>120745</td>\n",
       "      <td>1523382825</td>\n",
       "      <td>wrong</td>\n",
       "      <td>9422</td>\n",
       "    </tr>\n",
       "  </tbody>\n",
       "</table>\n",
       "<p>509104 rows × 4 columns</p>\n",
       "</div>"
      ],
      "text/plain": [
       "        step_id   timestamp submission_status  user_id\n",
       "0         31971  1434349275           correct    15853\n",
       "1         31972  1434348300           correct    15853\n",
       "2         31972  1478852149             wrong    15853\n",
       "3         31972  1478852164           correct    15853\n",
       "4         31976  1434348123             wrong    15853\n",
       "...         ...         ...               ...      ...\n",
       "509099   120745  1501946959             wrong     2615\n",
       "509100   120745  1503059927           correct    13177\n",
       "509101   120745  1506348153             wrong    15253\n",
       "509102   120745  1523035316             wrong     1424\n",
       "509103   120745  1523382825             wrong     9422\n",
       "\n",
       "[509104 rows x 4 columns]"
      ]
     },
     "execution_count": 4,
     "metadata": {},
     "output_type": "execute_result"
    }
   ],
   "source": [
    "submissions_data_train = pd.read_csv('https://stepik.org/media/attachments/course/4852/submissions_data_train.zip')\n",
    "submissions_data_train"
   ]
  },
  {
   "cell_type": "markdown",
   "metadata": {},
   "source": [
    "Описание данных: \n",
    "\n",
    "submissions_data_train - данные о времени и статусах сабмитов к практическим заданиям.\n",
    "\n",
    "1. step_id - id стэпа\n",
    "- timestamp - время отправки решения в формате unix date\n",
    "- submission_status - статус решения\n",
    "- user_id - анонимизированный id юзера"
   ]
  },
  {
   "cell_type": "markdown",
   "metadata": {},
   "source": [
    "Для удобства работы с таблицами, чтобы было удобно группировать данные по времени и вообще анализировать время, создадим столбцы с привычным форматом отображения времени. Для этого используем функцию to_datetime."
   ]
  },
  {
   "cell_type": "code",
   "execution_count": 5,
   "metadata": {},
   "outputs": [
    {
     "data": {
      "text/html": [
       "<div>\n",
       "<style scoped>\n",
       "    .dataframe tbody tr th:only-of-type {\n",
       "        vertical-align: middle;\n",
       "    }\n",
       "\n",
       "    .dataframe tbody tr th {\n",
       "        vertical-align: top;\n",
       "    }\n",
       "\n",
       "    .dataframe thead th {\n",
       "        text-align: right;\n",
       "    }\n",
       "</style>\n",
       "<table border=\"1\" class=\"dataframe\">\n",
       "  <thead>\n",
       "    <tr style=\"text-align: right;\">\n",
       "      <th></th>\n",
       "      <th>step_id</th>\n",
       "      <th>timestamp</th>\n",
       "      <th>action</th>\n",
       "      <th>user_id</th>\n",
       "      <th>date</th>\n",
       "    </tr>\n",
       "  </thead>\n",
       "  <tbody>\n",
       "    <tr>\n",
       "      <td>0</td>\n",
       "      <td>32815</td>\n",
       "      <td>1434340848</td>\n",
       "      <td>viewed</td>\n",
       "      <td>17632</td>\n",
       "      <td>2015-06-15 04:00:48</td>\n",
       "    </tr>\n",
       "    <tr>\n",
       "      <td>1</td>\n",
       "      <td>32815</td>\n",
       "      <td>1434340848</td>\n",
       "      <td>passed</td>\n",
       "      <td>17632</td>\n",
       "      <td>2015-06-15 04:00:48</td>\n",
       "    </tr>\n",
       "    <tr>\n",
       "      <td>2</td>\n",
       "      <td>32815</td>\n",
       "      <td>1434340848</td>\n",
       "      <td>discovered</td>\n",
       "      <td>17632</td>\n",
       "      <td>2015-06-15 04:00:48</td>\n",
       "    </tr>\n",
       "    <tr>\n",
       "      <td>3</td>\n",
       "      <td>32811</td>\n",
       "      <td>1434340895</td>\n",
       "      <td>discovered</td>\n",
       "      <td>17632</td>\n",
       "      <td>2015-06-15 04:01:35</td>\n",
       "    </tr>\n",
       "    <tr>\n",
       "      <td>4</td>\n",
       "      <td>32811</td>\n",
       "      <td>1434340895</td>\n",
       "      <td>viewed</td>\n",
       "      <td>17632</td>\n",
       "      <td>2015-06-15 04:01:35</td>\n",
       "    </tr>\n",
       "  </tbody>\n",
       "</table>\n",
       "</div>"
      ],
      "text/plain": [
       "   step_id   timestamp      action  user_id                date\n",
       "0    32815  1434340848      viewed    17632 2015-06-15 04:00:48\n",
       "1    32815  1434340848      passed    17632 2015-06-15 04:00:48\n",
       "2    32815  1434340848  discovered    17632 2015-06-15 04:00:48\n",
       "3    32811  1434340895  discovered    17632 2015-06-15 04:01:35\n",
       "4    32811  1434340895      viewed    17632 2015-06-15 04:01:35"
      ]
     },
     "execution_count": 5,
     "metadata": {},
     "output_type": "execute_result"
    }
   ],
   "source": [
    "event_data['date'] = pd.to_datetime(event_data.timestamp, unit='s')\n",
    "event_data.head()"
   ]
  },
  {
   "cell_type": "code",
   "execution_count": 6,
   "metadata": {},
   "outputs": [
    {
     "data": {
      "text/html": [
       "<div>\n",
       "<style scoped>\n",
       "    .dataframe tbody tr th:only-of-type {\n",
       "        vertical-align: middle;\n",
       "    }\n",
       "\n",
       "    .dataframe tbody tr th {\n",
       "        vertical-align: top;\n",
       "    }\n",
       "\n",
       "    .dataframe thead th {\n",
       "        text-align: right;\n",
       "    }\n",
       "</style>\n",
       "<table border=\"1\" class=\"dataframe\">\n",
       "  <thead>\n",
       "    <tr style=\"text-align: right;\">\n",
       "      <th></th>\n",
       "      <th>step_id</th>\n",
       "      <th>timestamp</th>\n",
       "      <th>submission_status</th>\n",
       "      <th>user_id</th>\n",
       "      <th>date</th>\n",
       "      <th>day</th>\n",
       "    </tr>\n",
       "  </thead>\n",
       "  <tbody>\n",
       "    <tr>\n",
       "      <td>0</td>\n",
       "      <td>31971</td>\n",
       "      <td>1434349275</td>\n",
       "      <td>correct</td>\n",
       "      <td>15853</td>\n",
       "      <td>2015-06-15 06:21:15</td>\n",
       "      <td>2015-06-15</td>\n",
       "    </tr>\n",
       "    <tr>\n",
       "      <td>1</td>\n",
       "      <td>31972</td>\n",
       "      <td>1434348300</td>\n",
       "      <td>correct</td>\n",
       "      <td>15853</td>\n",
       "      <td>2015-06-15 06:05:00</td>\n",
       "      <td>2015-06-15</td>\n",
       "    </tr>\n",
       "    <tr>\n",
       "      <td>2</td>\n",
       "      <td>31972</td>\n",
       "      <td>1478852149</td>\n",
       "      <td>wrong</td>\n",
       "      <td>15853</td>\n",
       "      <td>2016-11-11 08:15:49</td>\n",
       "      <td>2016-11-11</td>\n",
       "    </tr>\n",
       "    <tr>\n",
       "      <td>3</td>\n",
       "      <td>31972</td>\n",
       "      <td>1478852164</td>\n",
       "      <td>correct</td>\n",
       "      <td>15853</td>\n",
       "      <td>2016-11-11 08:16:04</td>\n",
       "      <td>2016-11-11</td>\n",
       "    </tr>\n",
       "    <tr>\n",
       "      <td>4</td>\n",
       "      <td>31976</td>\n",
       "      <td>1434348123</td>\n",
       "      <td>wrong</td>\n",
       "      <td>15853</td>\n",
       "      <td>2015-06-15 06:02:03</td>\n",
       "      <td>2015-06-15</td>\n",
       "    </tr>\n",
       "  </tbody>\n",
       "</table>\n",
       "</div>"
      ],
      "text/plain": [
       "   step_id   timestamp submission_status  user_id                date  \\\n",
       "0    31971  1434349275           correct    15853 2015-06-15 06:21:15   \n",
       "1    31972  1434348300           correct    15853 2015-06-15 06:05:00   \n",
       "2    31972  1478852149             wrong    15853 2016-11-11 08:15:49   \n",
       "3    31972  1478852164           correct    15853 2016-11-11 08:16:04   \n",
       "4    31976  1434348123             wrong    15853 2015-06-15 06:02:03   \n",
       "\n",
       "          day  \n",
       "0  2015-06-15  \n",
       "1  2015-06-15  \n",
       "2  2016-11-11  \n",
       "3  2016-11-11  \n",
       "4  2015-06-15  "
      ]
     },
     "execution_count": 6,
     "metadata": {},
     "output_type": "execute_result"
    }
   ],
   "source": [
    "submissions_data_train['date'] = pd.to_datetime(submissions_data_train.timestamp, unit='s')\n",
    "submissions_data_train['day'] = submissions_data_train['date'].dt.date\n",
    "submissions_data_train.head()"
   ]
  },
  {
   "cell_type": "markdown",
   "metadata": {},
   "source": [
    "Посмотрим, за какой период у нас представлены данные:"
   ]
  },
  {
   "cell_type": "code",
   "execution_count": 7,
   "metadata": {},
   "outputs": [
    {
     "data": {
      "text/plain": [
       "(Timestamp('2015-06-15 04:00:48'), Timestamp('2018-05-19 23:33:31'))"
      ]
     },
     "execution_count": 7,
     "metadata": {},
     "output_type": "execute_result"
    }
   ],
   "source": [
    "event_data.date.min(), event_data.date.max()"
   ]
  },
  {
   "cell_type": "markdown",
   "metadata": {},
   "source": [
    "В первой таблице данные представлены за почти 3 года: с июня 2015 по май 2018 гг."
   ]
  },
  {
   "cell_type": "code",
   "execution_count": 8,
   "metadata": {},
   "outputs": [
    {
     "data": {
      "text/plain": [
       "(Timestamp('2015-06-15 04:02:24'), Timestamp('2018-05-19 23:07:07'))"
      ]
     },
     "execution_count": 8,
     "metadata": {},
     "output_type": "execute_result"
    }
   ],
   "source": [
    "submissions_data_train.date.min(), submissions_data_train.date.max()"
   ]
  },
  {
   "cell_type": "markdown",
   "metadata": {},
   "source": [
    "Во второй таблице период совпадает с первой."
   ]
  },
  {
   "cell_type": "code",
   "execution_count": 9,
   "metadata": {},
   "outputs": [
    {
     "data": {
      "text/html": [
       "<div>\n",
       "<style scoped>\n",
       "    .dataframe tbody tr th:only-of-type {\n",
       "        vertical-align: middle;\n",
       "    }\n",
       "\n",
       "    .dataframe tbody tr th {\n",
       "        vertical-align: top;\n",
       "    }\n",
       "\n",
       "    .dataframe thead th {\n",
       "        text-align: right;\n",
       "    }\n",
       "</style>\n",
       "<table border=\"1\" class=\"dataframe\">\n",
       "  <thead>\n",
       "    <tr style=\"text-align: right;\">\n",
       "      <th></th>\n",
       "      <th>step_id</th>\n",
       "      <th>timestamp</th>\n",
       "      <th>action</th>\n",
       "      <th>user_id</th>\n",
       "      <th>date</th>\n",
       "      <th>month</th>\n",
       "    </tr>\n",
       "  </thead>\n",
       "  <tbody>\n",
       "    <tr>\n",
       "      <td>0</td>\n",
       "      <td>32815</td>\n",
       "      <td>1434340848</td>\n",
       "      <td>viewed</td>\n",
       "      <td>17632</td>\n",
       "      <td>2015-06-15 04:00:48</td>\n",
       "      <td>6</td>\n",
       "    </tr>\n",
       "    <tr>\n",
       "      <td>1</td>\n",
       "      <td>32815</td>\n",
       "      <td>1434340848</td>\n",
       "      <td>passed</td>\n",
       "      <td>17632</td>\n",
       "      <td>2015-06-15 04:00:48</td>\n",
       "      <td>6</td>\n",
       "    </tr>\n",
       "    <tr>\n",
       "      <td>2</td>\n",
       "      <td>32815</td>\n",
       "      <td>1434340848</td>\n",
       "      <td>discovered</td>\n",
       "      <td>17632</td>\n",
       "      <td>2015-06-15 04:00:48</td>\n",
       "      <td>6</td>\n",
       "    </tr>\n",
       "    <tr>\n",
       "      <td>3</td>\n",
       "      <td>32811</td>\n",
       "      <td>1434340895</td>\n",
       "      <td>discovered</td>\n",
       "      <td>17632</td>\n",
       "      <td>2015-06-15 04:01:35</td>\n",
       "      <td>6</td>\n",
       "    </tr>\n",
       "    <tr>\n",
       "      <td>4</td>\n",
       "      <td>32811</td>\n",
       "      <td>1434340895</td>\n",
       "      <td>viewed</td>\n",
       "      <td>17632</td>\n",
       "      <td>2015-06-15 04:01:35</td>\n",
       "      <td>6</td>\n",
       "    </tr>\n",
       "  </tbody>\n",
       "</table>\n",
       "</div>"
      ],
      "text/plain": [
       "   step_id   timestamp      action  user_id                date  month\n",
       "0    32815  1434340848      viewed    17632 2015-06-15 04:00:48      6\n",
       "1    32815  1434340848      passed    17632 2015-06-15 04:00:48      6\n",
       "2    32815  1434340848  discovered    17632 2015-06-15 04:00:48      6\n",
       "3    32811  1434340895  discovered    17632 2015-06-15 04:01:35      6\n",
       "4    32811  1434340895      viewed    17632 2015-06-15 04:01:35      6"
      ]
     },
     "execution_count": 9,
     "metadata": {},
     "output_type": "execute_result"
    }
   ],
   "source": [
    "event_data['month'] = event_data['date'].dt.month\n",
    "event_data.head()"
   ]
  },
  {
   "cell_type": "code",
   "execution_count": 10,
   "metadata": {},
   "outputs": [
    {
     "data": {
      "text/html": [
       "<div>\n",
       "<style scoped>\n",
       "    .dataframe tbody tr th:only-of-type {\n",
       "        vertical-align: middle;\n",
       "    }\n",
       "\n",
       "    .dataframe tbody tr th {\n",
       "        vertical-align: top;\n",
       "    }\n",
       "\n",
       "    .dataframe thead th {\n",
       "        text-align: right;\n",
       "    }\n",
       "</style>\n",
       "<table border=\"1\" class=\"dataframe\">\n",
       "  <thead>\n",
       "    <tr style=\"text-align: right;\">\n",
       "      <th></th>\n",
       "      <th>step_id</th>\n",
       "      <th>timestamp</th>\n",
       "      <th>action</th>\n",
       "      <th>user_id</th>\n",
       "      <th>date</th>\n",
       "      <th>month</th>\n",
       "      <th>day</th>\n",
       "    </tr>\n",
       "  </thead>\n",
       "  <tbody>\n",
       "    <tr>\n",
       "      <td>0</td>\n",
       "      <td>32815</td>\n",
       "      <td>1434340848</td>\n",
       "      <td>viewed</td>\n",
       "      <td>17632</td>\n",
       "      <td>2015-06-15 04:00:48</td>\n",
       "      <td>6</td>\n",
       "      <td>2015-06-15</td>\n",
       "    </tr>\n",
       "    <tr>\n",
       "      <td>1</td>\n",
       "      <td>32815</td>\n",
       "      <td>1434340848</td>\n",
       "      <td>passed</td>\n",
       "      <td>17632</td>\n",
       "      <td>2015-06-15 04:00:48</td>\n",
       "      <td>6</td>\n",
       "      <td>2015-06-15</td>\n",
       "    </tr>\n",
       "    <tr>\n",
       "      <td>2</td>\n",
       "      <td>32815</td>\n",
       "      <td>1434340848</td>\n",
       "      <td>discovered</td>\n",
       "      <td>17632</td>\n",
       "      <td>2015-06-15 04:00:48</td>\n",
       "      <td>6</td>\n",
       "      <td>2015-06-15</td>\n",
       "    </tr>\n",
       "    <tr>\n",
       "      <td>3</td>\n",
       "      <td>32811</td>\n",
       "      <td>1434340895</td>\n",
       "      <td>discovered</td>\n",
       "      <td>17632</td>\n",
       "      <td>2015-06-15 04:01:35</td>\n",
       "      <td>6</td>\n",
       "      <td>2015-06-15</td>\n",
       "    </tr>\n",
       "    <tr>\n",
       "      <td>4</td>\n",
       "      <td>32811</td>\n",
       "      <td>1434340895</td>\n",
       "      <td>viewed</td>\n",
       "      <td>17632</td>\n",
       "      <td>2015-06-15 04:01:35</td>\n",
       "      <td>6</td>\n",
       "      <td>2015-06-15</td>\n",
       "    </tr>\n",
       "  </tbody>\n",
       "</table>\n",
       "</div>"
      ],
      "text/plain": [
       "   step_id   timestamp      action  user_id                date  month  \\\n",
       "0    32815  1434340848      viewed    17632 2015-06-15 04:00:48      6   \n",
       "1    32815  1434340848      passed    17632 2015-06-15 04:00:48      6   \n",
       "2    32815  1434340848  discovered    17632 2015-06-15 04:00:48      6   \n",
       "3    32811  1434340895  discovered    17632 2015-06-15 04:01:35      6   \n",
       "4    32811  1434340895      viewed    17632 2015-06-15 04:01:35      6   \n",
       "\n",
       "          day  \n",
       "0  2015-06-15  \n",
       "1  2015-06-15  \n",
       "2  2015-06-15  \n",
       "3  2015-06-15  \n",
       "4  2015-06-15  "
      ]
     },
     "execution_count": 10,
     "metadata": {},
     "output_type": "execute_result"
    }
   ],
   "source": [
    "event_data['day'] = event_data['date'].dt.date\n",
    "event_data.head()"
   ]
  },
  {
   "cell_type": "markdown",
   "metadata": {},
   "source": [
    "Мы добавили в таблицу столбцы с месяцем и днем. Теперь мы можем посмотреть, как менялась со временем популярность курса. "
   ]
  },
  {
   "cell_type": "code",
   "execution_count": 11,
   "metadata": {},
   "outputs": [],
   "source": [
    "import matplotlib.pyplot as plt\n",
    "import seaborn as sns"
   ]
  },
  {
   "cell_type": "code",
   "execution_count": 12,
   "metadata": {},
   "outputs": [],
   "source": [
    "from matplotlib import rcParams"
   ]
  },
  {
   "cell_type": "code",
   "execution_count": 13,
   "metadata": {},
   "outputs": [],
   "source": [
    "rcParams['figure.figsize'] = 13, 9"
   ]
  },
  {
   "cell_type": "code",
   "execution_count": 14,
   "metadata": {},
   "outputs": [
    {
     "data": {
      "text/plain": [
       "<matplotlib.axes._subplots.AxesSubplot at 0x1541062c648>"
      ]
     },
     "execution_count": 14,
     "metadata": {},
     "output_type": "execute_result"
    },
    {
     "data": {
      "image/png": "[encoded data removed]",
      "text/plain": [
       "<Figure size 936x648 with 1 Axes>"
      ]
     },
     "metadata": {
      "needs_background": "light"
     },
     "output_type": "display_data"
    }
   ],
   "source": [
    "event_data.groupby('day')['user_id'].nunique().plot()"
   ]
  },
  {
   "cell_type": "markdown",
   "metadata": {},
   "source": [
    "Мы можем видеть, что наибольшее количество пользователей наблюдалось в самом начале запуска курса, затем оно резко снизилось до некоторой отметки, после чего стало медленно расти. Первый скачок связан с тем, что курс только запустился, был в акивной фазе, были дедлайны и пользователи регистрировались, чтобы успеть уложиться в сроки. Затем курс был переведен в более пассивную фазу без дедлайнов, и его популярность неуклонно растет. \n",
    "\n",
    "Посмотрим, как распределены пользователи по количеству баллов, которые они набрали. Это поможет отобразить картину, как много пользователей сколько баллов в итоге набирают - и как много доходит курс до конца и получает сертификат.\n",
    "\n",
    "Чтобы решить задачу, сгруппируем пользователей по id, и для каждого из них посчитаем количество действий со значением \"passed\", после чего посмотрим на распределение."
   ]
  },
  {
   "cell_type": "code",
   "execution_count": 15,
   "metadata": {},
   "outputs": [
    {
     "data": {
      "text/html": [
       "<div>\n",
       "<style scoped>\n",
       "    .dataframe tbody tr th:only-of-type {\n",
       "        vertical-align: middle;\n",
       "    }\n",
       "\n",
       "    .dataframe tbody tr th {\n",
       "        vertical-align: top;\n",
       "    }\n",
       "\n",
       "    .dataframe thead th {\n",
       "        text-align: right;\n",
       "    }\n",
       "</style>\n",
       "<table border=\"1\" class=\"dataframe\">\n",
       "  <thead>\n",
       "    <tr style=\"text-align: right;\">\n",
       "      <th></th>\n",
       "      <th>step_id</th>\n",
       "      <th>timestamp</th>\n",
       "      <th>action</th>\n",
       "      <th>user_id</th>\n",
       "      <th>date</th>\n",
       "      <th>month</th>\n",
       "      <th>day</th>\n",
       "    </tr>\n",
       "  </thead>\n",
       "  <tbody>\n",
       "    <tr>\n",
       "      <td>0</td>\n",
       "      <td>32815</td>\n",
       "      <td>1434340848</td>\n",
       "      <td>viewed</td>\n",
       "      <td>17632</td>\n",
       "      <td>2015-06-15 04:00:48</td>\n",
       "      <td>6</td>\n",
       "      <td>2015-06-15</td>\n",
       "    </tr>\n",
       "    <tr>\n",
       "      <td>1</td>\n",
       "      <td>32815</td>\n",
       "      <td>1434340848</td>\n",
       "      <td>passed</td>\n",
       "      <td>17632</td>\n",
       "      <td>2015-06-15 04:00:48</td>\n",
       "      <td>6</td>\n",
       "      <td>2015-06-15</td>\n",
       "    </tr>\n",
       "    <tr>\n",
       "      <td>2</td>\n",
       "      <td>32815</td>\n",
       "      <td>1434340848</td>\n",
       "      <td>discovered</td>\n",
       "      <td>17632</td>\n",
       "      <td>2015-06-15 04:00:48</td>\n",
       "      <td>6</td>\n",
       "      <td>2015-06-15</td>\n",
       "    </tr>\n",
       "    <tr>\n",
       "      <td>3</td>\n",
       "      <td>32811</td>\n",
       "      <td>1434340895</td>\n",
       "      <td>discovered</td>\n",
       "      <td>17632</td>\n",
       "      <td>2015-06-15 04:01:35</td>\n",
       "      <td>6</td>\n",
       "      <td>2015-06-15</td>\n",
       "    </tr>\n",
       "    <tr>\n",
       "      <td>4</td>\n",
       "      <td>32811</td>\n",
       "      <td>1434340895</td>\n",
       "      <td>viewed</td>\n",
       "      <td>17632</td>\n",
       "      <td>2015-06-15 04:01:35</td>\n",
       "      <td>6</td>\n",
       "      <td>2015-06-15</td>\n",
       "    </tr>\n",
       "  </tbody>\n",
       "</table>\n",
       "</div>"
      ],
      "text/plain": [
       "   step_id   timestamp      action  user_id                date  month  \\\n",
       "0    32815  1434340848      viewed    17632 2015-06-15 04:00:48      6   \n",
       "1    32815  1434340848      passed    17632 2015-06-15 04:00:48      6   \n",
       "2    32815  1434340848  discovered    17632 2015-06-15 04:00:48      6   \n",
       "3    32811  1434340895  discovered    17632 2015-06-15 04:01:35      6   \n",
       "4    32811  1434340895      viewed    17632 2015-06-15 04:01:35      6   \n",
       "\n",
       "          day  \n",
       "0  2015-06-15  \n",
       "1  2015-06-15  \n",
       "2  2015-06-15  \n",
       "3  2015-06-15  \n",
       "4  2015-06-15  "
      ]
     },
     "execution_count": 15,
     "metadata": {},
     "output_type": "execute_result"
    }
   ],
   "source": [
    "event_data.head()"
   ]
  },
  {
   "cell_type": "code",
   "execution_count": 16,
   "metadata": {},
   "outputs": [
    {
     "data": {
      "text/html": [
       "<div>\n",
       "<style scoped>\n",
       "    .dataframe tbody tr th:only-of-type {\n",
       "        vertical-align: middle;\n",
       "    }\n",
       "\n",
       "    .dataframe tbody tr th {\n",
       "        vertical-align: top;\n",
       "    }\n",
       "\n",
       "    .dataframe thead th {\n",
       "        text-align: right;\n",
       "    }\n",
       "</style>\n",
       "<table border=\"1\" class=\"dataframe\">\n",
       "  <thead>\n",
       "    <tr style=\"text-align: right;\">\n",
       "      <th></th>\n",
       "      <th>user_id</th>\n",
       "      <th>action_passed</th>\n",
       "    </tr>\n",
       "  </thead>\n",
       "  <tbody>\n",
       "    <tr>\n",
       "      <td>0</td>\n",
       "      <td>2</td>\n",
       "      <td>9</td>\n",
       "    </tr>\n",
       "    <tr>\n",
       "      <td>1</td>\n",
       "      <td>3</td>\n",
       "      <td>87</td>\n",
       "    </tr>\n",
       "    <tr>\n",
       "      <td>2</td>\n",
       "      <td>5</td>\n",
       "      <td>11</td>\n",
       "    </tr>\n",
       "    <tr>\n",
       "      <td>3</td>\n",
       "      <td>7</td>\n",
       "      <td>1</td>\n",
       "    </tr>\n",
       "    <tr>\n",
       "      <td>4</td>\n",
       "      <td>8</td>\n",
       "      <td>84</td>\n",
       "    </tr>\n",
       "  </tbody>\n",
       "</table>\n",
       "</div>"
      ],
      "text/plain": [
       "   user_id  action_passed\n",
       "0        2              9\n",
       "1        3             87\n",
       "2        5             11\n",
       "3        7              1\n",
       "4        8             84"
      ]
     },
     "execution_count": 16,
     "metadata": {},
     "output_type": "execute_result"
    }
   ],
   "source": [
    "passed = (event_data.query('action==\"passed\"').groupby\n",
    "          ('user_id', as_index=False).agg({'action':'count'}).rename(columns={'action':'action_passed'}))\n",
    "passed.head()"
   ]
  },
  {
   "cell_type": "code",
   "execution_count": 17,
   "metadata": {},
   "outputs": [
    {
     "data": {
      "text/plain": [
       "<matplotlib.axes._subplots.AxesSubplot at 0x1540babf7c8>"
      ]
     },
     "execution_count": 17,
     "metadata": {},
     "output_type": "execute_result"
    },
    {
     "data": {
      "image/png": "[encoded data removed]",
      "text/plain": [
       "<Figure size 576x432 with 1 Axes>"
      ]
     },
     "metadata": {
      "needs_background": "light"
     },
     "output_type": "display_data"
    }
   ],
   "source": [
    "rcParams['figure.figsize'] = 8, 6\n",
    "passed['action_passed'].hist()"
   ]
  },
  {
   "cell_type": "markdown",
   "metadata": {},
   "source": [
    "Мы можем видеть, что значительное большинство пользователей выполнило меньше 25 заданий, затем количество набравших определенное количество баллов снижается, и есть некоторый пик тех, кто набрал максимальное количество баллов и сдал все задания (вероятно, это те пользователи, кому было важно сдать все задания, а не просто сдавать задания, которые по силам). \n",
    "\n",
    "Однако, в получившемся графике есть одна проблема: в них нет пользователей, которые не сдали ни одного задания, то есть мы не видим нулевых значений, а они есть. "
   ]
  },
  {
   "cell_type": "code",
   "execution_count": 18,
   "metadata": {},
   "outputs": [
    {
     "data": {
      "text/html": [
       "<div>\n",
       "<style scoped>\n",
       "    .dataframe tbody tr th:only-of-type {\n",
       "        vertical-align: middle;\n",
       "    }\n",
       "\n",
       "    .dataframe tbody tr th {\n",
       "        vertical-align: top;\n",
       "    }\n",
       "\n",
       "    .dataframe thead th {\n",
       "        text-align: right;\n",
       "    }\n",
       "</style>\n",
       "<table border=\"1\" class=\"dataframe\">\n",
       "  <thead>\n",
       "    <tr style=\"text-align: right;\">\n",
       "      <th></th>\n",
       "      <th>step_id</th>\n",
       "      <th>timestamp</th>\n",
       "      <th>action</th>\n",
       "      <th>user_id</th>\n",
       "      <th>date</th>\n",
       "      <th>month</th>\n",
       "      <th>day</th>\n",
       "    </tr>\n",
       "  </thead>\n",
       "  <tbody>\n",
       "    <tr>\n",
       "      <td>0</td>\n",
       "      <td>32815</td>\n",
       "      <td>1434340848</td>\n",
       "      <td>viewed</td>\n",
       "      <td>17632</td>\n",
       "      <td>2015-06-15 04:00:48</td>\n",
       "      <td>6</td>\n",
       "      <td>2015-06-15</td>\n",
       "    </tr>\n",
       "    <tr>\n",
       "      <td>1</td>\n",
       "      <td>32815</td>\n",
       "      <td>1434340848</td>\n",
       "      <td>passed</td>\n",
       "      <td>17632</td>\n",
       "      <td>2015-06-15 04:00:48</td>\n",
       "      <td>6</td>\n",
       "      <td>2015-06-15</td>\n",
       "    </tr>\n",
       "    <tr>\n",
       "      <td>2</td>\n",
       "      <td>32815</td>\n",
       "      <td>1434340848</td>\n",
       "      <td>discovered</td>\n",
       "      <td>17632</td>\n",
       "      <td>2015-06-15 04:00:48</td>\n",
       "      <td>6</td>\n",
       "      <td>2015-06-15</td>\n",
       "    </tr>\n",
       "    <tr>\n",
       "      <td>3</td>\n",
       "      <td>32811</td>\n",
       "      <td>1434340895</td>\n",
       "      <td>discovered</td>\n",
       "      <td>17632</td>\n",
       "      <td>2015-06-15 04:01:35</td>\n",
       "      <td>6</td>\n",
       "      <td>2015-06-15</td>\n",
       "    </tr>\n",
       "    <tr>\n",
       "      <td>4</td>\n",
       "      <td>32811</td>\n",
       "      <td>1434340895</td>\n",
       "      <td>viewed</td>\n",
       "      <td>17632</td>\n",
       "      <td>2015-06-15 04:01:35</td>\n",
       "      <td>6</td>\n",
       "      <td>2015-06-15</td>\n",
       "    </tr>\n",
       "  </tbody>\n",
       "</table>\n",
       "</div>"
      ],
      "text/plain": [
       "   step_id   timestamp      action  user_id                date  month  \\\n",
       "0    32815  1434340848      viewed    17632 2015-06-15 04:00:48      6   \n",
       "1    32815  1434340848      passed    17632 2015-06-15 04:00:48      6   \n",
       "2    32815  1434340848  discovered    17632 2015-06-15 04:00:48      6   \n",
       "3    32811  1434340895  discovered    17632 2015-06-15 04:01:35      6   \n",
       "4    32811  1434340895      viewed    17632 2015-06-15 04:01:35      6   \n",
       "\n",
       "          day  \n",
       "0  2015-06-15  \n",
       "1  2015-06-15  \n",
       "2  2015-06-15  \n",
       "3  2015-06-15  \n",
       "4  2015-06-15  "
      ]
     },
     "execution_count": 18,
     "metadata": {},
     "output_type": "execute_result"
    }
   ],
   "source": [
    "event_data.head()"
   ]
  },
  {
   "cell_type": "code",
   "execution_count": 19,
   "metadata": {},
   "outputs": [
    {
     "data": {
      "text/html": [
       "<div>\n",
       "<style scoped>\n",
       "    .dataframe tbody tr th:only-of-type {\n",
       "        vertical-align: middle;\n",
       "    }\n",
       "\n",
       "    .dataframe tbody tr th {\n",
       "        vertical-align: top;\n",
       "    }\n",
       "\n",
       "    .dataframe thead tr th {\n",
       "        text-align: left;\n",
       "    }\n",
       "\n",
       "    .dataframe thead tr:last-of-type th {\n",
       "        text-align: right;\n",
       "    }\n",
       "</style>\n",
       "<table border=\"1\" class=\"dataframe\">\n",
       "  <thead>\n",
       "    <tr>\n",
       "      <th></th>\n",
       "      <th colspan=\"4\" halign=\"left\">step_id</th>\n",
       "    </tr>\n",
       "    <tr>\n",
       "      <th>action</th>\n",
       "      <th>discovered</th>\n",
       "      <th>passed</th>\n",
       "      <th>started_attempt</th>\n",
       "      <th>viewed</th>\n",
       "    </tr>\n",
       "    <tr>\n",
       "      <th>user_id</th>\n",
       "      <th></th>\n",
       "      <th></th>\n",
       "      <th></th>\n",
       "      <th></th>\n",
       "    </tr>\n",
       "  </thead>\n",
       "  <tbody>\n",
       "    <tr>\n",
       "      <td>1</td>\n",
       "      <td>1.0</td>\n",
       "      <td>NaN</td>\n",
       "      <td>NaN</td>\n",
       "      <td>1.0</td>\n",
       "    </tr>\n",
       "    <tr>\n",
       "      <td>2</td>\n",
       "      <td>9.0</td>\n",
       "      <td>9.0</td>\n",
       "      <td>2.0</td>\n",
       "      <td>10.0</td>\n",
       "    </tr>\n",
       "    <tr>\n",
       "      <td>3</td>\n",
       "      <td>91.0</td>\n",
       "      <td>87.0</td>\n",
       "      <td>30.0</td>\n",
       "      <td>192.0</td>\n",
       "    </tr>\n",
       "    <tr>\n",
       "      <td>5</td>\n",
       "      <td>11.0</td>\n",
       "      <td>11.0</td>\n",
       "      <td>4.0</td>\n",
       "      <td>12.0</td>\n",
       "    </tr>\n",
       "    <tr>\n",
       "      <td>7</td>\n",
       "      <td>1.0</td>\n",
       "      <td>1.0</td>\n",
       "      <td>NaN</td>\n",
       "      <td>1.0</td>\n",
       "    </tr>\n",
       "    <tr>\n",
       "      <td>...</td>\n",
       "      <td>...</td>\n",
       "      <td>...</td>\n",
       "      <td>...</td>\n",
       "      <td>...</td>\n",
       "    </tr>\n",
       "    <tr>\n",
       "      <td>26790</td>\n",
       "      <td>8.0</td>\n",
       "      <td>8.0</td>\n",
       "      <td>1.0</td>\n",
       "      <td>9.0</td>\n",
       "    </tr>\n",
       "    <tr>\n",
       "      <td>26793</td>\n",
       "      <td>1.0</td>\n",
       "      <td>NaN</td>\n",
       "      <td>1.0</td>\n",
       "      <td>1.0</td>\n",
       "    </tr>\n",
       "    <tr>\n",
       "      <td>26794</td>\n",
       "      <td>69.0</td>\n",
       "      <td>69.0</td>\n",
       "      <td>34.0</td>\n",
       "      <td>180.0</td>\n",
       "    </tr>\n",
       "    <tr>\n",
       "      <td>26797</td>\n",
       "      <td>10.0</td>\n",
       "      <td>10.0</td>\n",
       "      <td>2.0</td>\n",
       "      <td>13.0</td>\n",
       "    </tr>\n",
       "    <tr>\n",
       "      <td>26798</td>\n",
       "      <td>12.0</td>\n",
       "      <td>12.0</td>\n",
       "      <td>3.0</td>\n",
       "      <td>12.0</td>\n",
       "    </tr>\n",
       "  </tbody>\n",
       "</table>\n",
       "<p>19234 rows × 4 columns</p>\n",
       "</div>"
      ],
      "text/plain": [
       "           step_id                              \n",
       "action  discovered passed started_attempt viewed\n",
       "user_id                                         \n",
       "1              1.0    NaN             NaN    1.0\n",
       "2              9.0    9.0             2.0   10.0\n",
       "3             91.0   87.0            30.0  192.0\n",
       "5             11.0   11.0             4.0   12.0\n",
       "7              1.0    1.0             NaN    1.0\n",
       "...            ...    ...             ...    ...\n",
       "26790          8.0    8.0             1.0    9.0\n",
       "26793          1.0    NaN             1.0    1.0\n",
       "26794         69.0   69.0            34.0  180.0\n",
       "26797         10.0   10.0             2.0   13.0\n",
       "26798         12.0   12.0             3.0   12.0\n",
       "\n",
       "[19234 rows x 4 columns]"
      ]
     },
     "execution_count": 19,
     "metadata": {},
     "output_type": "execute_result"
    }
   ],
   "source": [
    "passed2 = event_data[['step_id', 'action', 'user_id']].pivot_table(index = 'user_id', columns = 'action', aggfunc = 'count')\n",
    "passed2"
   ]
  },
  {
   "cell_type": "code",
   "execution_count": 20,
   "metadata": {},
   "outputs": [
    {
     "data": {
      "text/html": [
       "<div>\n",
       "<style scoped>\n",
       "    .dataframe tbody tr th:only-of-type {\n",
       "        vertical-align: middle;\n",
       "    }\n",
       "\n",
       "    .dataframe tbody tr th {\n",
       "        vertical-align: top;\n",
       "    }\n",
       "\n",
       "    .dataframe thead tr th {\n",
       "        text-align: left;\n",
       "    }\n",
       "\n",
       "    .dataframe thead tr:last-of-type th {\n",
       "        text-align: right;\n",
       "    }\n",
       "</style>\n",
       "<table border=\"1\" class=\"dataframe\">\n",
       "  <thead>\n",
       "    <tr>\n",
       "      <th></th>\n",
       "      <th colspan=\"4\" halign=\"left\">step_id</th>\n",
       "    </tr>\n",
       "    <tr>\n",
       "      <th>action</th>\n",
       "      <th>discovered</th>\n",
       "      <th>passed</th>\n",
       "      <th>started_attempt</th>\n",
       "      <th>viewed</th>\n",
       "    </tr>\n",
       "    <tr>\n",
       "      <th>user_id</th>\n",
       "      <th></th>\n",
       "      <th></th>\n",
       "      <th></th>\n",
       "      <th></th>\n",
       "    </tr>\n",
       "  </thead>\n",
       "  <tbody>\n",
       "    <tr>\n",
       "      <td>1</td>\n",
       "      <td>1.0</td>\n",
       "      <td>0.0</td>\n",
       "      <td>0.0</td>\n",
       "      <td>1.0</td>\n",
       "    </tr>\n",
       "    <tr>\n",
       "      <td>2</td>\n",
       "      <td>9.0</td>\n",
       "      <td>9.0</td>\n",
       "      <td>2.0</td>\n",
       "      <td>10.0</td>\n",
       "    </tr>\n",
       "    <tr>\n",
       "      <td>3</td>\n",
       "      <td>91.0</td>\n",
       "      <td>87.0</td>\n",
       "      <td>30.0</td>\n",
       "      <td>192.0</td>\n",
       "    </tr>\n",
       "    <tr>\n",
       "      <td>5</td>\n",
       "      <td>11.0</td>\n",
       "      <td>11.0</td>\n",
       "      <td>4.0</td>\n",
       "      <td>12.0</td>\n",
       "    </tr>\n",
       "    <tr>\n",
       "      <td>7</td>\n",
       "      <td>1.0</td>\n",
       "      <td>1.0</td>\n",
       "      <td>0.0</td>\n",
       "      <td>1.0</td>\n",
       "    </tr>\n",
       "  </tbody>\n",
       "</table>\n",
       "</div>"
      ],
      "text/plain": [
       "           step_id                              \n",
       "action  discovered passed started_attempt viewed\n",
       "user_id                                         \n",
       "1              1.0    0.0             0.0    1.0\n",
       "2              9.0    9.0             2.0   10.0\n",
       "3             91.0   87.0            30.0  192.0\n",
       "5             11.0   11.0             4.0   12.0\n",
       "7              1.0    1.0             0.0    1.0"
      ]
     },
     "execution_count": 20,
     "metadata": {},
     "output_type": "execute_result"
    }
   ],
   "source": [
    "passed2 = passed2.fillna(0)\n",
    "passed2.head()"
   ]
  },
  {
   "cell_type": "markdown",
   "metadata": {},
   "source": [
    "Теперь у нас есть сводная таблица, в которой для каждого user_id посчитано, сколько действий определенного типа он совершил. При этом, если он не прошел ни одного задания, то количество для таких пользователей мы отобразили 0. Посмотрим теперь на график."
   ]
  },
  {
   "cell_type": "code",
   "execution_count": 21,
   "metadata": {},
   "outputs": [
    {
     "data": {
      "text/html": [
       "<div>\n",
       "<style scoped>\n",
       "    .dataframe tbody tr th:only-of-type {\n",
       "        vertical-align: middle;\n",
       "    }\n",
       "\n",
       "    .dataframe tbody tr th {\n",
       "        vertical-align: top;\n",
       "    }\n",
       "\n",
       "    .dataframe thead th {\n",
       "        text-align: right;\n",
       "    }\n",
       "</style>\n",
       "<table border=\"1\" class=\"dataframe\">\n",
       "  <thead>\n",
       "    <tr style=\"text-align: right;\">\n",
       "      <th></th>\n",
       "      <th>discovered</th>\n",
       "      <th>passed</th>\n",
       "      <th>started_attempt</th>\n",
       "      <th>viewed</th>\n",
       "    </tr>\n",
       "    <tr>\n",
       "      <th>user_id</th>\n",
       "      <th></th>\n",
       "      <th></th>\n",
       "      <th></th>\n",
       "      <th></th>\n",
       "    </tr>\n",
       "  </thead>\n",
       "  <tbody>\n",
       "    <tr>\n",
       "      <td>1</td>\n",
       "      <td>1.0</td>\n",
       "      <td>0.0</td>\n",
       "      <td>0.0</td>\n",
       "      <td>1.0</td>\n",
       "    </tr>\n",
       "    <tr>\n",
       "      <td>2</td>\n",
       "      <td>9.0</td>\n",
       "      <td>9.0</td>\n",
       "      <td>2.0</td>\n",
       "      <td>10.0</td>\n",
       "    </tr>\n",
       "    <tr>\n",
       "      <td>3</td>\n",
       "      <td>91.0</td>\n",
       "      <td>87.0</td>\n",
       "      <td>30.0</td>\n",
       "      <td>192.0</td>\n",
       "    </tr>\n",
       "    <tr>\n",
       "      <td>5</td>\n",
       "      <td>11.0</td>\n",
       "      <td>11.0</td>\n",
       "      <td>4.0</td>\n",
       "      <td>12.0</td>\n",
       "    </tr>\n",
       "    <tr>\n",
       "      <td>7</td>\n",
       "      <td>1.0</td>\n",
       "      <td>1.0</td>\n",
       "      <td>0.0</td>\n",
       "      <td>1.0</td>\n",
       "    </tr>\n",
       "  </tbody>\n",
       "</table>\n",
       "</div>"
      ],
      "text/plain": [
       "         discovered  passed  started_attempt  viewed\n",
       "user_id                                             \n",
       "1               1.0     0.0              0.0     1.0\n",
       "2               9.0     9.0              2.0    10.0\n",
       "3              91.0    87.0             30.0   192.0\n",
       "5              11.0    11.0              4.0    12.0\n",
       "7               1.0     1.0              0.0     1.0"
      ]
     },
     "execution_count": 21,
     "metadata": {},
     "output_type": "execute_result"
    }
   ],
   "source": [
    "passed2.columns = ['discovered', 'passed', 'started_attempt', 'viewed']\n",
    "passed2.head()"
   ]
  },
  {
   "cell_type": "code",
   "execution_count": 22,
   "metadata": {},
   "outputs": [
    {
     "data": {
      "text/html": [
       "<div>\n",
       "<style scoped>\n",
       "    .dataframe tbody tr th:only-of-type {\n",
       "        vertical-align: middle;\n",
       "    }\n",
       "\n",
       "    .dataframe tbody tr th {\n",
       "        vertical-align: top;\n",
       "    }\n",
       "\n",
       "    .dataframe thead th {\n",
       "        text-align: right;\n",
       "    }\n",
       "</style>\n",
       "<table border=\"1\" class=\"dataframe\">\n",
       "  <thead>\n",
       "    <tr style=\"text-align: right;\">\n",
       "      <th></th>\n",
       "      <th>discovered</th>\n",
       "      <th>passed</th>\n",
       "      <th>started_attempt</th>\n",
       "      <th>viewed</th>\n",
       "      <th>user_id</th>\n",
       "    </tr>\n",
       "  </thead>\n",
       "  <tbody>\n",
       "    <tr>\n",
       "      <td>0</td>\n",
       "      <td>1.0</td>\n",
       "      <td>0.0</td>\n",
       "      <td>0.0</td>\n",
       "      <td>1.0</td>\n",
       "      <td>1</td>\n",
       "    </tr>\n",
       "    <tr>\n",
       "      <td>1</td>\n",
       "      <td>9.0</td>\n",
       "      <td>9.0</td>\n",
       "      <td>2.0</td>\n",
       "      <td>10.0</td>\n",
       "      <td>2</td>\n",
       "    </tr>\n",
       "    <tr>\n",
       "      <td>2</td>\n",
       "      <td>91.0</td>\n",
       "      <td>87.0</td>\n",
       "      <td>30.0</td>\n",
       "      <td>192.0</td>\n",
       "      <td>3</td>\n",
       "    </tr>\n",
       "    <tr>\n",
       "      <td>3</td>\n",
       "      <td>11.0</td>\n",
       "      <td>11.0</td>\n",
       "      <td>4.0</td>\n",
       "      <td>12.0</td>\n",
       "      <td>5</td>\n",
       "    </tr>\n",
       "    <tr>\n",
       "      <td>4</td>\n",
       "      <td>1.0</td>\n",
       "      <td>1.0</td>\n",
       "      <td>0.0</td>\n",
       "      <td>1.0</td>\n",
       "      <td>7</td>\n",
       "    </tr>\n",
       "    <tr>\n",
       "      <td>...</td>\n",
       "      <td>...</td>\n",
       "      <td>...</td>\n",
       "      <td>...</td>\n",
       "      <td>...</td>\n",
       "      <td>...</td>\n",
       "    </tr>\n",
       "    <tr>\n",
       "      <td>19229</td>\n",
       "      <td>8.0</td>\n",
       "      <td>8.0</td>\n",
       "      <td>1.0</td>\n",
       "      <td>9.0</td>\n",
       "      <td>26790</td>\n",
       "    </tr>\n",
       "    <tr>\n",
       "      <td>19230</td>\n",
       "      <td>1.0</td>\n",
       "      <td>0.0</td>\n",
       "      <td>1.0</td>\n",
       "      <td>1.0</td>\n",
       "      <td>26793</td>\n",
       "    </tr>\n",
       "    <tr>\n",
       "      <td>19231</td>\n",
       "      <td>69.0</td>\n",
       "      <td>69.0</td>\n",
       "      <td>34.0</td>\n",
       "      <td>180.0</td>\n",
       "      <td>26794</td>\n",
       "    </tr>\n",
       "    <tr>\n",
       "      <td>19232</td>\n",
       "      <td>10.0</td>\n",
       "      <td>10.0</td>\n",
       "      <td>2.0</td>\n",
       "      <td>13.0</td>\n",
       "      <td>26797</td>\n",
       "    </tr>\n",
       "    <tr>\n",
       "      <td>19233</td>\n",
       "      <td>12.0</td>\n",
       "      <td>12.0</td>\n",
       "      <td>3.0</td>\n",
       "      <td>12.0</td>\n",
       "      <td>26798</td>\n",
       "    </tr>\n",
       "  </tbody>\n",
       "</table>\n",
       "<p>19234 rows × 5 columns</p>\n",
       "</div>"
      ],
      "text/plain": [
       "       discovered  passed  started_attempt  viewed  user_id\n",
       "0             1.0     0.0              0.0     1.0        1\n",
       "1             9.0     9.0              2.0    10.0        2\n",
       "2            91.0    87.0             30.0   192.0        3\n",
       "3            11.0    11.0              4.0    12.0        5\n",
       "4             1.0     1.0              0.0     1.0        7\n",
       "...           ...     ...              ...     ...      ...\n",
       "19229         8.0     8.0              1.0     9.0    26790\n",
       "19230         1.0     0.0              1.0     1.0    26793\n",
       "19231        69.0    69.0             34.0   180.0    26794\n",
       "19232        10.0    10.0              2.0    13.0    26797\n",
       "19233        12.0    12.0              3.0    12.0    26798\n",
       "\n",
       "[19234 rows x 5 columns]"
      ]
     },
     "execution_count": 22,
     "metadata": {},
     "output_type": "execute_result"
    }
   ],
   "source": [
    "passed2['user_id'] = passed2.index\n",
    "passed2 = passed2.reset_index(drop=True)\n",
    "passed2"
   ]
  },
  {
   "cell_type": "code",
   "execution_count": 23,
   "metadata": {},
   "outputs": [
    {
     "data": {
      "text/plain": [
       "<matplotlib.axes._subplots.AxesSubplot at 0x1540b8f1388>"
      ]
     },
     "execution_count": 23,
     "metadata": {},
     "output_type": "execute_result"
    },
    {
     "data": {
      "image/png": "[encoded data removed]",
      "text/plain": [
       "<Figure size 576x432 with 1 Axes>"
      ]
     },
     "metadata": {
      "needs_background": "light"
     },
     "output_type": "display_data"
    }
   ],
   "source": [
    "passed2['passed'].hist()"
   ]
  },
  {
   "cell_type": "markdown",
   "metadata": {},
   "source": [
    "По сравнению с предыдущей гистограммой, столбец по левому край гистограммы теперь вплоную приближен к нулю, и мы видим, что пользователей, которые не выполнили ни одного задания было возле 2х тысяч. "
   ]
  },
  {
   "cell_type": "markdown",
   "metadata": {},
   "source": [
    "Теперь проанализируем вторую таблицу: посмотрим для каждого юзера количество правильных и неправильных решений задач."
   ]
  },
  {
   "cell_type": "code",
   "execution_count": 24,
   "metadata": {},
   "outputs": [
    {
     "data": {
      "text/html": [
       "<div>\n",
       "<style scoped>\n",
       "    .dataframe tbody tr th:only-of-type {\n",
       "        vertical-align: middle;\n",
       "    }\n",
       "\n",
       "    .dataframe tbody tr th {\n",
       "        vertical-align: top;\n",
       "    }\n",
       "\n",
       "    .dataframe thead th {\n",
       "        text-align: right;\n",
       "    }\n",
       "</style>\n",
       "<table border=\"1\" class=\"dataframe\">\n",
       "  <thead>\n",
       "    <tr style=\"text-align: right;\">\n",
       "      <th></th>\n",
       "      <th>step_id</th>\n",
       "      <th>timestamp</th>\n",
       "      <th>submission_status</th>\n",
       "      <th>user_id</th>\n",
       "      <th>date</th>\n",
       "      <th>day</th>\n",
       "    </tr>\n",
       "  </thead>\n",
       "  <tbody>\n",
       "    <tr>\n",
       "      <td>0</td>\n",
       "      <td>31971</td>\n",
       "      <td>1434349275</td>\n",
       "      <td>correct</td>\n",
       "      <td>15853</td>\n",
       "      <td>2015-06-15 06:21:15</td>\n",
       "      <td>2015-06-15</td>\n",
       "    </tr>\n",
       "    <tr>\n",
       "      <td>1</td>\n",
       "      <td>31972</td>\n",
       "      <td>1434348300</td>\n",
       "      <td>correct</td>\n",
       "      <td>15853</td>\n",
       "      <td>2015-06-15 06:05:00</td>\n",
       "      <td>2015-06-15</td>\n",
       "    </tr>\n",
       "    <tr>\n",
       "      <td>2</td>\n",
       "      <td>31972</td>\n",
       "      <td>1478852149</td>\n",
       "      <td>wrong</td>\n",
       "      <td>15853</td>\n",
       "      <td>2016-11-11 08:15:49</td>\n",
       "      <td>2016-11-11</td>\n",
       "    </tr>\n",
       "    <tr>\n",
       "      <td>3</td>\n",
       "      <td>31972</td>\n",
       "      <td>1478852164</td>\n",
       "      <td>correct</td>\n",
       "      <td>15853</td>\n",
       "      <td>2016-11-11 08:16:04</td>\n",
       "      <td>2016-11-11</td>\n",
       "    </tr>\n",
       "    <tr>\n",
       "      <td>4</td>\n",
       "      <td>31976</td>\n",
       "      <td>1434348123</td>\n",
       "      <td>wrong</td>\n",
       "      <td>15853</td>\n",
       "      <td>2015-06-15 06:02:03</td>\n",
       "      <td>2015-06-15</td>\n",
       "    </tr>\n",
       "  </tbody>\n",
       "</table>\n",
       "</div>"
      ],
      "text/plain": [
       "   step_id   timestamp submission_status  user_id                date  \\\n",
       "0    31971  1434349275           correct    15853 2015-06-15 06:21:15   \n",
       "1    31972  1434348300           correct    15853 2015-06-15 06:05:00   \n",
       "2    31972  1478852149             wrong    15853 2016-11-11 08:15:49   \n",
       "3    31972  1478852164           correct    15853 2016-11-11 08:16:04   \n",
       "4    31976  1434348123             wrong    15853 2015-06-15 06:02:03   \n",
       "\n",
       "          day  \n",
       "0  2015-06-15  \n",
       "1  2015-06-15  \n",
       "2  2016-11-11  \n",
       "3  2016-11-11  \n",
       "4  2015-06-15  "
      ]
     },
     "execution_count": 24,
     "metadata": {},
     "output_type": "execute_result"
    }
   ],
   "source": [
    "submissions_data_train.head()"
   ]
  },
  {
   "cell_type": "code",
   "execution_count": 25,
   "metadata": {},
   "outputs": [
    {
     "data": {
      "text/html": [
       "<div>\n",
       "<style scoped>\n",
       "    .dataframe tbody tr th:only-of-type {\n",
       "        vertical-align: middle;\n",
       "    }\n",
       "\n",
       "    .dataframe tbody tr th {\n",
       "        vertical-align: top;\n",
       "    }\n",
       "\n",
       "    .dataframe thead th {\n",
       "        text-align: right;\n",
       "    }\n",
       "</style>\n",
       "<table border=\"1\" class=\"dataframe\">\n",
       "  <thead>\n",
       "    <tr style=\"text-align: right;\">\n",
       "      <th>submission_status</th>\n",
       "      <th>correct</th>\n",
       "      <th>wrong</th>\n",
       "    </tr>\n",
       "    <tr>\n",
       "      <th>user_id</th>\n",
       "      <th></th>\n",
       "      <th></th>\n",
       "    </tr>\n",
       "  </thead>\n",
       "  <tbody>\n",
       "    <tr>\n",
       "      <td>2</td>\n",
       "      <td>2.0</td>\n",
       "      <td>NaN</td>\n",
       "    </tr>\n",
       "    <tr>\n",
       "      <td>3</td>\n",
       "      <td>29.0</td>\n",
       "      <td>23.0</td>\n",
       "    </tr>\n",
       "    <tr>\n",
       "      <td>5</td>\n",
       "      <td>2.0</td>\n",
       "      <td>2.0</td>\n",
       "    </tr>\n",
       "    <tr>\n",
       "      <td>8</td>\n",
       "      <td>9.0</td>\n",
       "      <td>21.0</td>\n",
       "    </tr>\n",
       "    <tr>\n",
       "      <td>14</td>\n",
       "      <td>NaN</td>\n",
       "      <td>1.0</td>\n",
       "    </tr>\n",
       "  </tbody>\n",
       "</table>\n",
       "</div>"
      ],
      "text/plain": [
       "submission_status  correct  wrong\n",
       "user_id                          \n",
       "2                      2.0    NaN\n",
       "3                     29.0   23.0\n",
       "5                      2.0    2.0\n",
       "8                      9.0   21.0\n",
       "14                     NaN    1.0"
      ]
     },
     "execution_count": 25,
     "metadata": {},
     "output_type": "execute_result"
    }
   ],
   "source": [
    "submissions_data_train_pivot = (submissions_data_train.pivot_table(index='user_id', columns='submission_status',\n",
    "                                                                   values='date', aggfunc='count'))\n",
    "submissions_data_train_pivot.head()"
   ]
  },
  {
   "cell_type": "code",
   "execution_count": 26,
   "metadata": {},
   "outputs": [],
   "source": [
    "submissions_data_train_pivot = submissions_data_train_pivot.fillna(0)#заполним пропуски"
   ]
  },
  {
   "cell_type": "code",
   "execution_count": 27,
   "metadata": {},
   "outputs": [
    {
     "data": {
      "text/html": [
       "<div>\n",
       "<style scoped>\n",
       "    .dataframe tbody tr th:only-of-type {\n",
       "        vertical-align: middle;\n",
       "    }\n",
       "\n",
       "    .dataframe tbody tr th {\n",
       "        vertical-align: top;\n",
       "    }\n",
       "\n",
       "    .dataframe thead th {\n",
       "        text-align: right;\n",
       "    }\n",
       "</style>\n",
       "<table border=\"1\" class=\"dataframe\">\n",
       "  <thead>\n",
       "    <tr style=\"text-align: right;\">\n",
       "      <th>submission_status</th>\n",
       "      <th>correct</th>\n",
       "      <th>wrong</th>\n",
       "    </tr>\n",
       "    <tr>\n",
       "      <th>user_id</th>\n",
       "      <th></th>\n",
       "      <th></th>\n",
       "    </tr>\n",
       "  </thead>\n",
       "  <tbody>\n",
       "    <tr>\n",
       "      <td>2</td>\n",
       "      <td>2.0</td>\n",
       "      <td>0.0</td>\n",
       "    </tr>\n",
       "    <tr>\n",
       "      <td>3</td>\n",
       "      <td>29.0</td>\n",
       "      <td>23.0</td>\n",
       "    </tr>\n",
       "    <tr>\n",
       "      <td>5</td>\n",
       "      <td>2.0</td>\n",
       "      <td>2.0</td>\n",
       "    </tr>\n",
       "    <tr>\n",
       "      <td>8</td>\n",
       "      <td>9.0</td>\n",
       "      <td>21.0</td>\n",
       "    </tr>\n",
       "    <tr>\n",
       "      <td>14</td>\n",
       "      <td>0.0</td>\n",
       "      <td>1.0</td>\n",
       "    </tr>\n",
       "  </tbody>\n",
       "</table>\n",
       "</div>"
      ],
      "text/plain": [
       "submission_status  correct  wrong\n",
       "user_id                          \n",
       "2                      2.0    0.0\n",
       "3                     29.0   23.0\n",
       "5                      2.0    2.0\n",
       "8                      9.0   21.0\n",
       "14                     0.0    1.0"
      ]
     },
     "execution_count": 27,
     "metadata": {},
     "output_type": "execute_result"
    }
   ],
   "source": [
    "submissions_data_train_pivot.head()"
   ]
  },
  {
   "cell_type": "code",
   "execution_count": 28,
   "metadata": {},
   "outputs": [
    {
     "data": {
      "text/plain": [
       "<matplotlib.axes._subplots.AxesSubplot at 0x1540b981688>"
      ]
     },
     "execution_count": 28,
     "metadata": {},
     "output_type": "execute_result"
    },
    {
     "data": {
      "image/png": "[encoded data removed]",
      "text/plain": [
       "<Figure size 576x432 with 1 Axes>"
      ]
     },
     "metadata": {
      "needs_background": "light"
     },
     "output_type": "display_data"
    }
   ],
   "source": [
    "ax = submissions_data_train_pivot.correct.plot(kind='hist', histtype='step', label='correct', linewidth=5, legend=True)\n",
    "submissions_data_train_pivot.wrong.plot(kind='hist', histtype='step', ax=ax, label='wrong', linewidth=5, legend=True)"
   ]
  },
  {
   "cell_type": "markdown",
   "metadata": {},
   "source": [
    "Как и было ожидаемо, ошибочных решений больше, чем верных. При этом 0 ошибок и 0 верных решений могут наблюдаться у тех (их много), кто не стал в итоге проходить курс или забросил его.\n",
    "\n",
    "Посмотрим для каждого юзера соотношение его ошибочных и верных решений:"
   ]
  },
  {
   "cell_type": "code",
   "execution_count": 29,
   "metadata": {},
   "outputs": [
    {
     "data": {
      "text/plain": [
       "<matplotlib.axes._subplots.AxesSubplot at 0x154005403c8>"
      ]
     },
     "execution_count": 29,
     "metadata": {},
     "output_type": "execute_result"
    },
    {
     "data": {
      "image/png": "[encoded data removed]",
      "text/plain": [
       "<Figure size 576x432 with 1 Axes>"
      ]
     },
     "metadata": {
      "needs_background": "light"
     },
     "output_type": "display_data"
    }
   ],
   "source": [
    "sns.scatterplot(data = submissions_data_train_pivot, x='correct', y='wrong')"
   ]
  },
  {
   "cell_type": "markdown",
   "metadata": {},
   "source": [
    "Мы видим, что для каждого пользователя определено его положение относительно верных и неверных решений. Наибольшее количество неверных решений (1000) набрал пользователь, решивший верно всего 50 заданий. Наибольшее количество верных решений (400) решил одинокий юзер, при этом у него 600 неверных решений (то есть в среднем его решения оказывались верными со второй-третьей попытки). Большая часть пользователей решила максимум 100 заданий, при этом на каждый верный ответ наиболее часто приходилось 2-4 неверных. "
   ]
  },
  {
   "cell_type": "code",
   "execution_count": 30,
   "metadata": {},
   "outputs": [
    {
     "data": {
      "text/plain": [
       "0.6166124775910634"
      ]
     },
     "execution_count": 30,
     "metadata": {},
     "output_type": "execute_result"
    }
   ],
   "source": [
    "submissions_data_train_pivot.correct.corr(submissions_data_train_pivot['wrong'])"
   ]
  },
  {
   "cell_type": "markdown",
   "metadata": {},
   "source": [
    "Мы видим некоторую (среднюю) линейную корреляцию между количеством решенных верно заданий и количеством неверных ответов, впрочем такая корреляция вполне объяснима. \n",
    "\n",
    "Для того, чтобы решить задачу, необходимо понять, каких пользователей считать забросившими обучение. Для этого нужно определить срок отсутствия для не получивших сертификаты пользователей, достаточный для того, чтобы считать, что он больше не вернется на курс. \n",
    "\n",
    "Чтобы определиться, какой срок считать корректным, нам нужно посмотреть на распределение количества дней перерыва для юзеров. "
   ]
  },
  {
   "cell_type": "markdown",
   "metadata": {},
   "source": [
    "1. Отберем из таблицы нужные колонки и удалим дубликаты. Нам нужно, чтобы для каждого пользователя был зафиксирован день его активности, и чтобы эти пары значений не повторялись, т.к. нам достаточно только одного действия пользователя в какой-то из дней, чтобы не считать этот день перерывом. \n",
    "\n",
    "Также нам понадобится колонка timestamp для подсчета времени дней перерыва. "
   ]
  },
  {
   "cell_type": "code",
   "execution_count": 31,
   "metadata": {},
   "outputs": [
    {
     "data": {
      "text/html": [
       "<div>\n",
       "<style scoped>\n",
       "    .dataframe tbody tr th:only-of-type {\n",
       "        vertical-align: middle;\n",
       "    }\n",
       "\n",
       "    .dataframe tbody tr th {\n",
       "        vertical-align: top;\n",
       "    }\n",
       "\n",
       "    .dataframe thead th {\n",
       "        text-align: right;\n",
       "    }\n",
       "</style>\n",
       "<table border=\"1\" class=\"dataframe\">\n",
       "  <thead>\n",
       "    <tr style=\"text-align: right;\">\n",
       "      <th></th>\n",
       "      <th>step_id</th>\n",
       "      <th>timestamp</th>\n",
       "      <th>action</th>\n",
       "      <th>user_id</th>\n",
       "      <th>date</th>\n",
       "      <th>month</th>\n",
       "      <th>day</th>\n",
       "    </tr>\n",
       "  </thead>\n",
       "  <tbody>\n",
       "    <tr>\n",
       "      <td>0</td>\n",
       "      <td>32815</td>\n",
       "      <td>1434340848</td>\n",
       "      <td>viewed</td>\n",
       "      <td>17632</td>\n",
       "      <td>2015-06-15 04:00:48</td>\n",
       "      <td>6</td>\n",
       "      <td>2015-06-15</td>\n",
       "    </tr>\n",
       "    <tr>\n",
       "      <td>1</td>\n",
       "      <td>32815</td>\n",
       "      <td>1434340848</td>\n",
       "      <td>passed</td>\n",
       "      <td>17632</td>\n",
       "      <td>2015-06-15 04:00:48</td>\n",
       "      <td>6</td>\n",
       "      <td>2015-06-15</td>\n",
       "    </tr>\n",
       "    <tr>\n",
       "      <td>2</td>\n",
       "      <td>32815</td>\n",
       "      <td>1434340848</td>\n",
       "      <td>discovered</td>\n",
       "      <td>17632</td>\n",
       "      <td>2015-06-15 04:00:48</td>\n",
       "      <td>6</td>\n",
       "      <td>2015-06-15</td>\n",
       "    </tr>\n",
       "    <tr>\n",
       "      <td>3</td>\n",
       "      <td>32811</td>\n",
       "      <td>1434340895</td>\n",
       "      <td>discovered</td>\n",
       "      <td>17632</td>\n",
       "      <td>2015-06-15 04:01:35</td>\n",
       "      <td>6</td>\n",
       "      <td>2015-06-15</td>\n",
       "    </tr>\n",
       "    <tr>\n",
       "      <td>4</td>\n",
       "      <td>32811</td>\n",
       "      <td>1434340895</td>\n",
       "      <td>viewed</td>\n",
       "      <td>17632</td>\n",
       "      <td>2015-06-15 04:01:35</td>\n",
       "      <td>6</td>\n",
       "      <td>2015-06-15</td>\n",
       "    </tr>\n",
       "  </tbody>\n",
       "</table>\n",
       "</div>"
      ],
      "text/plain": [
       "   step_id   timestamp      action  user_id                date  month  \\\n",
       "0    32815  1434340848      viewed    17632 2015-06-15 04:00:48      6   \n",
       "1    32815  1434340848      passed    17632 2015-06-15 04:00:48      6   \n",
       "2    32815  1434340848  discovered    17632 2015-06-15 04:00:48      6   \n",
       "3    32811  1434340895  discovered    17632 2015-06-15 04:01:35      6   \n",
       "4    32811  1434340895      viewed    17632 2015-06-15 04:01:35      6   \n",
       "\n",
       "          day  \n",
       "0  2015-06-15  \n",
       "1  2015-06-15  \n",
       "2  2015-06-15  \n",
       "3  2015-06-15  \n",
       "4  2015-06-15  "
      ]
     },
     "execution_count": 31,
     "metadata": {},
     "output_type": "execute_result"
    }
   ],
   "source": [
    "event_data.head()"
   ]
  },
  {
   "cell_type": "code",
   "execution_count": 32,
   "metadata": {},
   "outputs": [
    {
     "data": {
      "text/html": [
       "<div>\n",
       "<style scoped>\n",
       "    .dataframe tbody tr th:only-of-type {\n",
       "        vertical-align: middle;\n",
       "    }\n",
       "\n",
       "    .dataframe tbody tr th {\n",
       "        vertical-align: top;\n",
       "    }\n",
       "\n",
       "    .dataframe thead th {\n",
       "        text-align: right;\n",
       "    }\n",
       "</style>\n",
       "<table border=\"1\" class=\"dataframe\">\n",
       "  <thead>\n",
       "    <tr style=\"text-align: right;\">\n",
       "      <th></th>\n",
       "      <th>user_id</th>\n",
       "      <th>timestamp</th>\n",
       "      <th>day</th>\n",
       "    </tr>\n",
       "  </thead>\n",
       "  <tbody>\n",
       "    <tr>\n",
       "      <td>0</td>\n",
       "      <td>17632</td>\n",
       "      <td>1434340848</td>\n",
       "      <td>2015-06-15</td>\n",
       "    </tr>\n",
       "    <tr>\n",
       "      <td>36</td>\n",
       "      <td>12494</td>\n",
       "      <td>1434341931</td>\n",
       "      <td>2015-06-15</td>\n",
       "    </tr>\n",
       "    <tr>\n",
       "      <td>59</td>\n",
       "      <td>442</td>\n",
       "      <td>1434342029</td>\n",
       "      <td>2015-06-15</td>\n",
       "    </tr>\n",
       "    <tr>\n",
       "      <td>62</td>\n",
       "      <td>22254</td>\n",
       "      <td>1434342042</td>\n",
       "      <td>2015-06-15</td>\n",
       "    </tr>\n",
       "    <tr>\n",
       "      <td>94</td>\n",
       "      <td>6646</td>\n",
       "      <td>1434342230</td>\n",
       "      <td>2015-06-15</td>\n",
       "    </tr>\n",
       "  </tbody>\n",
       "</table>\n",
       "</div>"
      ],
      "text/plain": [
       "    user_id   timestamp         day\n",
       "0     17632  1434340848  2015-06-15\n",
       "36    12494  1434341931  2015-06-15\n",
       "59      442  1434342029  2015-06-15\n",
       "62    22254  1434342042  2015-06-15\n",
       "94     6646  1434342230  2015-06-15"
      ]
     },
     "execution_count": 32,
     "metadata": {},
     "output_type": "execute_result"
    }
   ],
   "source": [
    "gap_data = event_data[['user_id', 'timestamp', 'day']].drop_duplicates(subset=['user_id', 'day'])\n",
    "gap_data.head()"
   ]
  },
  {
   "cell_type": "markdown",
   "metadata": {},
   "source": [
    "Сгруппируем пользователей по id, и применим функцию list к столбцу timestamp."
   ]
  },
  {
   "cell_type": "code",
   "execution_count": 33,
   "metadata": {
    "scrolled": true
   },
   "outputs": [
    {
     "data": {
      "text/plain": [
       "user_id\n",
       "1                                         [1472827464]\n",
       "2                             [1514383364, 1519226966]\n",
       "3    [1434358476, 1441257725, 1441440209, 144153391...\n",
       "5                             [1466156809, 1499859621]\n",
       "7                                         [1521634660]\n",
       "Name: timestamp, dtype: object"
      ]
     },
     "execution_count": 33,
     "metadata": {},
     "output_type": "execute_result"
    }
   ],
   "source": [
    "gap_data_grouped = gap_data.groupby('user_id')['timestamp'].apply(list)\n",
    "gap_data_grouped.head()"
   ]
  },
  {
   "cell_type": "markdown",
   "metadata": {},
   "source": [
    "Посчитаем перерывы между активностями для пользователей методом np.diff, который вместо списка записей timestamp вернет список перерывов между ними (в секундах)."
   ]
  },
  {
   "cell_type": "code",
   "execution_count": 34,
   "metadata": {},
   "outputs": [
    {
     "data": {
      "text/plain": [
       "user_id\n",
       "1                                                       []\n",
       "2                                                [4843602]\n",
       "3         [6899249, 182484, 93710, 2768870, 171400, 78712]\n",
       "5                                               [33702812]\n",
       "7                                                       []\n",
       "                               ...                        \n",
       "26790                           [238225, 893964, 64879648]\n",
       "26793                                                   []\n",
       "26794    [86128, 136759, 94899, 1422583, 14347289, 5050...\n",
       "26797                                            [1567990]\n",
       "26798                                                   []\n",
       "Name: timestamp, Length: 19234, dtype: object"
      ]
     },
     "execution_count": 34,
     "metadata": {},
     "output_type": "execute_result"
    }
   ],
   "source": [
    "gap_data_diff = gap_data_grouped.apply(np.diff)\n",
    "gap_data_diff"
   ]
  },
  {
   "cell_type": "markdown",
   "metadata": {},
   "source": [
    "Теперь разобьем эти списки на отдельные элементы."
   ]
  },
  {
   "cell_type": "code",
   "execution_count": 35,
   "metadata": {},
   "outputs": [
    {
     "data": {
      "text/plain": [
       "array([array([], dtype=int32), array([4843602]),\n",
       "       array([6899249,  182484,   93710, 2768870,  171400,   78712]), ...,\n",
       "       array([   86128,   136759,    94899,  1422583, 14347289,   505061,\n",
       "          98252,    57019]),\n",
       "       array([1567990]), array([], dtype=int32)], dtype=object)"
      ]
     },
     "execution_count": 35,
     "metadata": {},
     "output_type": "execute_result"
    }
   ],
   "source": [
    "gaps_values = gap_data_diff.values\n",
    "gaps_values"
   ]
  },
  {
   "cell_type": "markdown",
   "metadata": {},
   "source": [
    "Объеденим значения в единый список из получившихся блоков."
   ]
  },
  {
   "cell_type": "code",
   "execution_count": 36,
   "metadata": {},
   "outputs": [
    {
     "data": {
      "text/plain": [
       "array([4843602, 6899249,  182484, ...,   98252,   57019, 1567990])"
      ]
     },
     "execution_count": 36,
     "metadata": {},
     "output_type": "execute_result"
    }
   ],
   "source": [
    "splited = np.concatenate(gaps_values)\n",
    "splited"
   ]
  },
  {
   "cell_type": "code",
   "execution_count": 37,
   "metadata": {},
   "outputs": [
    {
     "data": {
      "text/plain": [
       "0    4843602\n",
       "1    6899249\n",
       "2     182484\n",
       "3      93710\n",
       "4    2768870\n",
       "dtype: int32"
      ]
     },
     "execution_count": 37,
     "metadata": {},
     "output_type": "execute_result"
    }
   ],
   "source": [
    "gaps = pd.Series(splited)\n",
    "gaps.head()"
   ]
  },
  {
   "cell_type": "markdown",
   "metadata": {},
   "source": [
    "Мы получили список значений перерывов между днями активности для пользователей. Переведем значения в дни."
   ]
  },
  {
   "cell_type": "code",
   "execution_count": 38,
   "metadata": {},
   "outputs": [
    {
     "data": {
      "text/plain": [
       "0         56\n",
       "1         79\n",
       "2          2\n",
       "3          1\n",
       "4         32\n",
       "        ... \n",
       "97867    166\n",
       "97868      5\n",
       "97869      1\n",
       "97870      0\n",
       "97871     18\n",
       "Length: 97872, dtype: int32"
      ]
     },
     "execution_count": 38,
     "metadata": {},
     "output_type": "execute_result"
    }
   ],
   "source": [
    "gaps_days = (gaps / 60 /60 /24).astype('int')\n",
    "gaps_days"
   ]
  },
  {
   "cell_type": "markdown",
   "metadata": {},
   "source": [
    "Теперь построим гистограмму и посмотрим на распределение."
   ]
  },
  {
   "cell_type": "code",
   "execution_count": 39,
   "metadata": {},
   "outputs": [
    {
     "data": {
      "text/plain": [
       "<matplotlib.axes._subplots.AxesSubplot at 0x15400593b88>"
      ]
     },
     "execution_count": 39,
     "metadata": {},
     "output_type": "execute_result"
    },
    {
     "data": {
      "image/png": "[encoded data removed]",
      "text/plain": [
       "<Figure size 576x432 with 1 Axes>"
      ]
     },
     "metadata": {
      "needs_background": "light"
     },
     "output_type": "display_data"
    }
   ],
   "source": [
    "gaps_days.hist()"
   ]
  },
  {
   "cell_type": "markdown",
   "metadata": {},
   "source": [
    "Из-за выбросовых значений почти все данные оказались в одном столбце. "
   ]
  },
  {
   "cell_type": "code",
   "execution_count": 40,
   "metadata": {},
   "outputs": [
    {
     "data": {
      "text/plain": [
       "<matplotlib.axes._subplots.AxesSubplot at 0x15400556a48>"
      ]
     },
     "execution_count": 40,
     "metadata": {},
     "output_type": "execute_result"
    },
    {
     "data": {
      "image/png": "[encoded data removed]",
      "text/plain": [
       "<Figure size 576x432 with 1 Axes>"
      ]
     },
     "metadata": {
      "needs_background": "light"
     },
     "output_type": "display_data"
    }
   ],
   "source": [
    "gaps_days[gaps_days<100].hist()"
   ]
  },
  {
   "cell_type": "markdown",
   "metadata": {},
   "source": [
    "По гистограмме видим, что для большинства пользователей максимальный перерыв между активными днями - 30 дней. Очень малое их количество заходило на курс еще раз, если проходило более, чем 30 дней перерыва. Убедимся в этом, посмотрев на значение 95%-нтного квантиля:"
   ]
  },
  {
   "cell_type": "code",
   "execution_count": 41,
   "metadata": {},
   "outputs": [
    {
     "data": {
      "text/plain": [
       "25.0"
      ]
     },
     "execution_count": 41,
     "metadata": {},
     "output_type": "execute_result"
    }
   ],
   "source": [
    "gaps_days[gaps_days<100].quantile(.95)"
   ]
  },
  {
   "cell_type": "markdown",
   "metadata": {},
   "source": [
    "Мы ограничили данные 100 днями, т.к. по графику это очень отклоняющиеся значения. Если мы возьмем все данные и чуть более низкий квантиль от них, 90%, мы получим еще более низкие цифры:"
   ]
  },
  {
   "cell_type": "code",
   "execution_count": 42,
   "metadata": {},
   "outputs": [
    {
     "data": {
      "text/plain": [
       "18.0"
      ]
     },
     "execution_count": 42,
     "metadata": {},
     "output_type": "execute_result"
    }
   ],
   "source": [
    "gaps_days.quantile(.90)"
   ]
  },
  {
   "cell_type": "markdown",
   "metadata": {},
   "source": [
    "Теперь нам нужно разметить данные. Для начала создадим новый столбец, в котором будет отображаться True, если пользователь не проявлял активности больше 30 дней от текущего (на момент выгрузки данных) момента."
   ]
  },
  {
   "cell_type": "code",
   "execution_count": 43,
   "metadata": {},
   "outputs": [
    {
     "data": {
      "text/html": [
       "<div>\n",
       "<style scoped>\n",
       "    .dataframe tbody tr th:only-of-type {\n",
       "        vertical-align: middle;\n",
       "    }\n",
       "\n",
       "    .dataframe tbody tr th {\n",
       "        vertical-align: top;\n",
       "    }\n",
       "\n",
       "    .dataframe thead th {\n",
       "        text-align: right;\n",
       "    }\n",
       "</style>\n",
       "<table border=\"1\" class=\"dataframe\">\n",
       "  <thead>\n",
       "    <tr style=\"text-align: right;\">\n",
       "      <th></th>\n",
       "      <th>step_id</th>\n",
       "      <th>timestamp</th>\n",
       "      <th>action</th>\n",
       "      <th>user_id</th>\n",
       "      <th>date</th>\n",
       "      <th>month</th>\n",
       "      <th>day</th>\n",
       "    </tr>\n",
       "  </thead>\n",
       "  <tbody>\n",
       "    <tr>\n",
       "      <td>0</td>\n",
       "      <td>32815</td>\n",
       "      <td>1434340848</td>\n",
       "      <td>viewed</td>\n",
       "      <td>17632</td>\n",
       "      <td>2015-06-15 04:00:48</td>\n",
       "      <td>6</td>\n",
       "      <td>2015-06-15</td>\n",
       "    </tr>\n",
       "    <tr>\n",
       "      <td>1</td>\n",
       "      <td>32815</td>\n",
       "      <td>1434340848</td>\n",
       "      <td>passed</td>\n",
       "      <td>17632</td>\n",
       "      <td>2015-06-15 04:00:48</td>\n",
       "      <td>6</td>\n",
       "      <td>2015-06-15</td>\n",
       "    </tr>\n",
       "    <tr>\n",
       "      <td>2</td>\n",
       "      <td>32815</td>\n",
       "      <td>1434340848</td>\n",
       "      <td>discovered</td>\n",
       "      <td>17632</td>\n",
       "      <td>2015-06-15 04:00:48</td>\n",
       "      <td>6</td>\n",
       "      <td>2015-06-15</td>\n",
       "    </tr>\n",
       "    <tr>\n",
       "      <td>3</td>\n",
       "      <td>32811</td>\n",
       "      <td>1434340895</td>\n",
       "      <td>discovered</td>\n",
       "      <td>17632</td>\n",
       "      <td>2015-06-15 04:01:35</td>\n",
       "      <td>6</td>\n",
       "      <td>2015-06-15</td>\n",
       "    </tr>\n",
       "    <tr>\n",
       "      <td>4</td>\n",
       "      <td>32811</td>\n",
       "      <td>1434340895</td>\n",
       "      <td>viewed</td>\n",
       "      <td>17632</td>\n",
       "      <td>2015-06-15 04:01:35</td>\n",
       "      <td>6</td>\n",
       "      <td>2015-06-15</td>\n",
       "    </tr>\n",
       "  </tbody>\n",
       "</table>\n",
       "</div>"
      ],
      "text/plain": [
       "   step_id   timestamp      action  user_id                date  month  \\\n",
       "0    32815  1434340848      viewed    17632 2015-06-15 04:00:48      6   \n",
       "1    32815  1434340848      passed    17632 2015-06-15 04:00:48      6   \n",
       "2    32815  1434340848  discovered    17632 2015-06-15 04:00:48      6   \n",
       "3    32811  1434340895  discovered    17632 2015-06-15 04:01:35      6   \n",
       "4    32811  1434340895      viewed    17632 2015-06-15 04:01:35      6   \n",
       "\n",
       "          day  \n",
       "0  2015-06-15  \n",
       "1  2015-06-15  \n",
       "2  2015-06-15  \n",
       "3  2015-06-15  \n",
       "4  2015-06-15  "
      ]
     },
     "execution_count": 43,
     "metadata": {},
     "output_type": "execute_result"
    }
   ],
   "source": [
    "event_data.head()"
   ]
  },
  {
   "cell_type": "code",
   "execution_count": 44,
   "metadata": {},
   "outputs": [
    {
     "data": {
      "text/plain": [
       "1526772811"
      ]
     },
     "execution_count": 44,
     "metadata": {},
     "output_type": "execute_result"
    }
   ],
   "source": [
    "now_time = event_data.timestamp.max()\n",
    "now_time"
   ]
  },
  {
   "cell_type": "code",
   "execution_count": 45,
   "metadata": {},
   "outputs": [
    {
     "data": {
      "text/plain": [
       "2592000"
      ]
     },
     "execution_count": 45,
     "metadata": {},
     "output_type": "execute_result"
    }
   ],
   "source": [
    "mean_gap = 30*24*60*60 #переведем 30 дней в секунды\n",
    "mean_gap"
   ]
  },
  {
   "cell_type": "code",
   "execution_count": 46,
   "metadata": {},
   "outputs": [
    {
     "data": {
      "text/html": [
       "<div>\n",
       "<style scoped>\n",
       "    .dataframe tbody tr th:only-of-type {\n",
       "        vertical-align: middle;\n",
       "    }\n",
       "\n",
       "    .dataframe tbody tr th {\n",
       "        vertical-align: top;\n",
       "    }\n",
       "\n",
       "    .dataframe thead th {\n",
       "        text-align: right;\n",
       "    }\n",
       "</style>\n",
       "<table border=\"1\" class=\"dataframe\">\n",
       "  <thead>\n",
       "    <tr style=\"text-align: right;\">\n",
       "      <th></th>\n",
       "      <th>user_id</th>\n",
       "      <th>max_timestamp</th>\n",
       "    </tr>\n",
       "  </thead>\n",
       "  <tbody>\n",
       "    <tr>\n",
       "      <td>0</td>\n",
       "      <td>1</td>\n",
       "      <td>1472827464</td>\n",
       "    </tr>\n",
       "    <tr>\n",
       "      <td>1</td>\n",
       "      <td>2</td>\n",
       "      <td>1519226966</td>\n",
       "    </tr>\n",
       "    <tr>\n",
       "      <td>2</td>\n",
       "      <td>3</td>\n",
       "      <td>1444581588</td>\n",
       "    </tr>\n",
       "    <tr>\n",
       "      <td>3</td>\n",
       "      <td>5</td>\n",
       "      <td>1499859939</td>\n",
       "    </tr>\n",
       "    <tr>\n",
       "      <td>4</td>\n",
       "      <td>7</td>\n",
       "      <td>1521634660</td>\n",
       "    </tr>\n",
       "    <tr>\n",
       "      <td>...</td>\n",
       "      <td>...</td>\n",
       "      <td>...</td>\n",
       "    </tr>\n",
       "    <tr>\n",
       "      <td>19229</td>\n",
       "      <td>26790</td>\n",
       "      <td>1517495987</td>\n",
       "    </tr>\n",
       "    <tr>\n",
       "      <td>19230</td>\n",
       "      <td>26793</td>\n",
       "      <td>1510225034</td>\n",
       "    </tr>\n",
       "    <tr>\n",
       "      <td>19231</td>\n",
       "      <td>26794</td>\n",
       "      <td>1512035039</td>\n",
       "    </tr>\n",
       "    <tr>\n",
       "      <td>19232</td>\n",
       "      <td>26797</td>\n",
       "      <td>1509995096</td>\n",
       "    </tr>\n",
       "    <tr>\n",
       "      <td>19233</td>\n",
       "      <td>26798</td>\n",
       "      <td>1520978742</td>\n",
       "    </tr>\n",
       "  </tbody>\n",
       "</table>\n",
       "<p>19234 rows × 2 columns</p>\n",
       "</div>"
      ],
      "text/plain": [
       "       user_id  max_timestamp\n",
       "0            1     1472827464\n",
       "1            2     1519226966\n",
       "2            3     1444581588\n",
       "3            5     1499859939\n",
       "4            7     1521634660\n",
       "...        ...            ...\n",
       "19229    26790     1517495987\n",
       "19230    26793     1510225034\n",
       "19231    26794     1512035039\n",
       "19232    26797     1509995096\n",
       "19233    26798     1520978742\n",
       "\n",
       "[19234 rows x 2 columns]"
      ]
     },
     "execution_count": 46,
     "metadata": {},
     "output_type": "execute_result"
    }
   ],
   "source": [
    "users_gaps_features = event_data.groupby('user_id', as_index=False)['timestamp'].max().rename(columns={'timestamp':'max_timestamp'})\n",
    "users_gaps_features"
   ]
  },
  {
   "cell_type": "code",
   "execution_count": 47,
   "metadata": {},
   "outputs": [
    {
     "data": {
      "text/html": [
       "<div>\n",
       "<style scoped>\n",
       "    .dataframe tbody tr th:only-of-type {\n",
       "        vertical-align: middle;\n",
       "    }\n",
       "\n",
       "    .dataframe tbody tr th {\n",
       "        vertical-align: top;\n",
       "    }\n",
       "\n",
       "    .dataframe thead th {\n",
       "        text-align: right;\n",
       "    }\n",
       "</style>\n",
       "<table border=\"1\" class=\"dataframe\">\n",
       "  <thead>\n",
       "    <tr style=\"text-align: right;\">\n",
       "      <th></th>\n",
       "      <th>user_id</th>\n",
       "      <th>max_timestamp</th>\n",
       "      <th>is_gape_more_30</th>\n",
       "    </tr>\n",
       "  </thead>\n",
       "  <tbody>\n",
       "    <tr>\n",
       "      <td>0</td>\n",
       "      <td>1</td>\n",
       "      <td>1472827464</td>\n",
       "      <td>True</td>\n",
       "    </tr>\n",
       "    <tr>\n",
       "      <td>1</td>\n",
       "      <td>2</td>\n",
       "      <td>1519226966</td>\n",
       "      <td>True</td>\n",
       "    </tr>\n",
       "    <tr>\n",
       "      <td>2</td>\n",
       "      <td>3</td>\n",
       "      <td>1444581588</td>\n",
       "      <td>True</td>\n",
       "    </tr>\n",
       "    <tr>\n",
       "      <td>3</td>\n",
       "      <td>5</td>\n",
       "      <td>1499859939</td>\n",
       "      <td>True</td>\n",
       "    </tr>\n",
       "    <tr>\n",
       "      <td>4</td>\n",
       "      <td>7</td>\n",
       "      <td>1521634660</td>\n",
       "      <td>True</td>\n",
       "    </tr>\n",
       "    <tr>\n",
       "      <td>...</td>\n",
       "      <td>...</td>\n",
       "      <td>...</td>\n",
       "      <td>...</td>\n",
       "    </tr>\n",
       "    <tr>\n",
       "      <td>19229</td>\n",
       "      <td>26790</td>\n",
       "      <td>1517495987</td>\n",
       "      <td>True</td>\n",
       "    </tr>\n",
       "    <tr>\n",
       "      <td>19230</td>\n",
       "      <td>26793</td>\n",
       "      <td>1510225034</td>\n",
       "      <td>True</td>\n",
       "    </tr>\n",
       "    <tr>\n",
       "      <td>19231</td>\n",
       "      <td>26794</td>\n",
       "      <td>1512035039</td>\n",
       "      <td>True</td>\n",
       "    </tr>\n",
       "    <tr>\n",
       "      <td>19232</td>\n",
       "      <td>26797</td>\n",
       "      <td>1509995096</td>\n",
       "      <td>True</td>\n",
       "    </tr>\n",
       "    <tr>\n",
       "      <td>19233</td>\n",
       "      <td>26798</td>\n",
       "      <td>1520978742</td>\n",
       "      <td>True</td>\n",
       "    </tr>\n",
       "  </tbody>\n",
       "</table>\n",
       "<p>19234 rows × 3 columns</p>\n",
       "</div>"
      ],
      "text/plain": [
       "       user_id  max_timestamp  is_gape_more_30\n",
       "0            1     1472827464             True\n",
       "1            2     1519226966             True\n",
       "2            3     1444581588             True\n",
       "3            5     1499859939             True\n",
       "4            7     1521634660             True\n",
       "...        ...            ...              ...\n",
       "19229    26790     1517495987             True\n",
       "19230    26793     1510225034             True\n",
       "19231    26794     1512035039             True\n",
       "19232    26797     1509995096             True\n",
       "19233    26798     1520978742             True\n",
       "\n",
       "[19234 rows x 3 columns]"
      ]
     },
     "execution_count": 47,
     "metadata": {},
     "output_type": "execute_result"
    }
   ],
   "source": [
    "users_gaps_features['is_gape_more_30'] = (now_time - users_gaps_features.max_timestamp) >= mean_gap\n",
    "users_gaps_features"
   ]
  },
  {
   "cell_type": "markdown",
   "metadata": {},
   "source": [
    "Теперь необходимо эту разметку подкорректировать таким образом, чтобы отсеять получивших сертификаты пользователей. Соединим полученную таблицу с данными о количестве правильных и ошибочных ответов для пользователей."
   ]
  },
  {
   "cell_type": "code",
   "execution_count": 48,
   "metadata": {},
   "outputs": [
    {
     "data": {
      "text/plain": [
       "Index(['correct', 'wrong'], dtype='object', name='submission_status')"
      ]
     },
     "execution_count": 48,
     "metadata": {},
     "output_type": "execute_result"
    }
   ],
   "source": [
    "submissions_data_train_pivot.columns"
   ]
  },
  {
   "cell_type": "code",
   "execution_count": 49,
   "metadata": {},
   "outputs": [],
   "source": [
    "submissions_data_train_pivot.columns = ['correct', 'wrong']"
   ]
  },
  {
   "cell_type": "code",
   "execution_count": 50,
   "metadata": {},
   "outputs": [],
   "source": [
    "submissions_data_train_pivot['user_id'] = submissions_data_train_pivot.index\n",
    "submissions_data_train_pivot = submissions_data_train_pivot.reset_index(drop=True)"
   ]
  },
  {
   "cell_type": "code",
   "execution_count": 51,
   "metadata": {},
   "outputs": [
    {
     "data": {
      "text/html": [
       "<div>\n",
       "<style scoped>\n",
       "    .dataframe tbody tr th:only-of-type {\n",
       "        vertical-align: middle;\n",
       "    }\n",
       "\n",
       "    .dataframe tbody tr th {\n",
       "        vertical-align: top;\n",
       "    }\n",
       "\n",
       "    .dataframe thead th {\n",
       "        text-align: right;\n",
       "    }\n",
       "</style>\n",
       "<table border=\"1\" class=\"dataframe\">\n",
       "  <thead>\n",
       "    <tr style=\"text-align: right;\">\n",
       "      <th></th>\n",
       "      <th>user_id</th>\n",
       "      <th>max_timestamp</th>\n",
       "      <th>is_gape_more_30</th>\n",
       "      <th>correct</th>\n",
       "      <th>wrong</th>\n",
       "    </tr>\n",
       "  </thead>\n",
       "  <tbody>\n",
       "    <tr>\n",
       "      <td>0</td>\n",
       "      <td>1</td>\n",
       "      <td>1472827464</td>\n",
       "      <td>True</td>\n",
       "      <td>NaN</td>\n",
       "      <td>NaN</td>\n",
       "    </tr>\n",
       "    <tr>\n",
       "      <td>1</td>\n",
       "      <td>2</td>\n",
       "      <td>1519226966</td>\n",
       "      <td>True</td>\n",
       "      <td>2.0</td>\n",
       "      <td>0.0</td>\n",
       "    </tr>\n",
       "    <tr>\n",
       "      <td>2</td>\n",
       "      <td>3</td>\n",
       "      <td>1444581588</td>\n",
       "      <td>True</td>\n",
       "      <td>29.0</td>\n",
       "      <td>23.0</td>\n",
       "    </tr>\n",
       "    <tr>\n",
       "      <td>3</td>\n",
       "      <td>5</td>\n",
       "      <td>1499859939</td>\n",
       "      <td>True</td>\n",
       "      <td>2.0</td>\n",
       "      <td>2.0</td>\n",
       "    </tr>\n",
       "    <tr>\n",
       "      <td>4</td>\n",
       "      <td>7</td>\n",
       "      <td>1521634660</td>\n",
       "      <td>True</td>\n",
       "      <td>NaN</td>\n",
       "      <td>NaN</td>\n",
       "    </tr>\n",
       "    <tr>\n",
       "      <td>...</td>\n",
       "      <td>...</td>\n",
       "      <td>...</td>\n",
       "      <td>...</td>\n",
       "      <td>...</td>\n",
       "      <td>...</td>\n",
       "    </tr>\n",
       "    <tr>\n",
       "      <td>19229</td>\n",
       "      <td>26790</td>\n",
       "      <td>1517495987</td>\n",
       "      <td>True</td>\n",
       "      <td>1.0</td>\n",
       "      <td>0.0</td>\n",
       "    </tr>\n",
       "    <tr>\n",
       "      <td>19230</td>\n",
       "      <td>26793</td>\n",
       "      <td>1510225034</td>\n",
       "      <td>True</td>\n",
       "      <td>NaN</td>\n",
       "      <td>NaN</td>\n",
       "    </tr>\n",
       "    <tr>\n",
       "      <td>19231</td>\n",
       "      <td>26794</td>\n",
       "      <td>1512035039</td>\n",
       "      <td>True</td>\n",
       "      <td>33.0</td>\n",
       "      <td>9.0</td>\n",
       "    </tr>\n",
       "    <tr>\n",
       "      <td>19232</td>\n",
       "      <td>26797</td>\n",
       "      <td>1509995096</td>\n",
       "      <td>True</td>\n",
       "      <td>2.0</td>\n",
       "      <td>0.0</td>\n",
       "    </tr>\n",
       "    <tr>\n",
       "      <td>19233</td>\n",
       "      <td>26798</td>\n",
       "      <td>1520978742</td>\n",
       "      <td>True</td>\n",
       "      <td>2.0</td>\n",
       "      <td>1.0</td>\n",
       "    </tr>\n",
       "  </tbody>\n",
       "</table>\n",
       "<p>19234 rows × 5 columns</p>\n",
       "</div>"
      ],
      "text/plain": [
       "       user_id  max_timestamp  is_gape_more_30  correct  wrong\n",
       "0            1     1472827464             True      NaN    NaN\n",
       "1            2     1519226966             True      2.0    0.0\n",
       "2            3     1444581588             True     29.0   23.0\n",
       "3            5     1499859939             True      2.0    2.0\n",
       "4            7     1521634660             True      NaN    NaN\n",
       "...        ...            ...              ...      ...    ...\n",
       "19229    26790     1517495987             True      1.0    0.0\n",
       "19230    26793     1510225034             True      NaN    NaN\n",
       "19231    26794     1512035039             True     33.0    9.0\n",
       "19232    26797     1509995096             True      2.0    0.0\n",
       "19233    26798     1520978742             True      2.0    1.0\n",
       "\n",
       "[19234 rows x 5 columns]"
      ]
     },
     "execution_count": 51,
     "metadata": {},
     "output_type": "execute_result"
    }
   ],
   "source": [
    "users_gaps_features_merged = users_gaps_features.merge(submissions_data_train_pivot, on='user_id', how='left')\n",
    "users_gaps_features_merged"
   ]
  },
  {
   "cell_type": "code",
   "execution_count": 52,
   "metadata": {},
   "outputs": [
    {
     "data": {
      "text/html": [
       "<div>\n",
       "<style scoped>\n",
       "    .dataframe tbody tr th:only-of-type {\n",
       "        vertical-align: middle;\n",
       "    }\n",
       "\n",
       "    .dataframe tbody tr th {\n",
       "        vertical-align: top;\n",
       "    }\n",
       "\n",
       "    .dataframe thead th {\n",
       "        text-align: right;\n",
       "    }\n",
       "</style>\n",
       "<table border=\"1\" class=\"dataframe\">\n",
       "  <thead>\n",
       "    <tr style=\"text-align: right;\">\n",
       "      <th></th>\n",
       "      <th>user_id</th>\n",
       "      <th>max_timestamp</th>\n",
       "      <th>is_gape_more_30</th>\n",
       "      <th>correct</th>\n",
       "      <th>wrong</th>\n",
       "      <th>discovered</th>\n",
       "      <th>passed</th>\n",
       "      <th>started_attempt</th>\n",
       "      <th>viewed</th>\n",
       "    </tr>\n",
       "  </thead>\n",
       "  <tbody>\n",
       "    <tr>\n",
       "      <td>0</td>\n",
       "      <td>1</td>\n",
       "      <td>1472827464</td>\n",
       "      <td>True</td>\n",
       "      <td>NaN</td>\n",
       "      <td>NaN</td>\n",
       "      <td>1.0</td>\n",
       "      <td>0.0</td>\n",
       "      <td>0.0</td>\n",
       "      <td>1.0</td>\n",
       "    </tr>\n",
       "    <tr>\n",
       "      <td>1</td>\n",
       "      <td>2</td>\n",
       "      <td>1519226966</td>\n",
       "      <td>True</td>\n",
       "      <td>2.0</td>\n",
       "      <td>0.0</td>\n",
       "      <td>9.0</td>\n",
       "      <td>9.0</td>\n",
       "      <td>2.0</td>\n",
       "      <td>10.0</td>\n",
       "    </tr>\n",
       "    <tr>\n",
       "      <td>2</td>\n",
       "      <td>3</td>\n",
       "      <td>1444581588</td>\n",
       "      <td>True</td>\n",
       "      <td>29.0</td>\n",
       "      <td>23.0</td>\n",
       "      <td>91.0</td>\n",
       "      <td>87.0</td>\n",
       "      <td>30.0</td>\n",
       "      <td>192.0</td>\n",
       "    </tr>\n",
       "    <tr>\n",
       "      <td>3</td>\n",
       "      <td>5</td>\n",
       "      <td>1499859939</td>\n",
       "      <td>True</td>\n",
       "      <td>2.0</td>\n",
       "      <td>2.0</td>\n",
       "      <td>11.0</td>\n",
       "      <td>11.0</td>\n",
       "      <td>4.0</td>\n",
       "      <td>12.0</td>\n",
       "    </tr>\n",
       "    <tr>\n",
       "      <td>4</td>\n",
       "      <td>7</td>\n",
       "      <td>1521634660</td>\n",
       "      <td>True</td>\n",
       "      <td>NaN</td>\n",
       "      <td>NaN</td>\n",
       "      <td>1.0</td>\n",
       "      <td>1.0</td>\n",
       "      <td>0.0</td>\n",
       "      <td>1.0</td>\n",
       "    </tr>\n",
       "    <tr>\n",
       "      <td>...</td>\n",
       "      <td>...</td>\n",
       "      <td>...</td>\n",
       "      <td>...</td>\n",
       "      <td>...</td>\n",
       "      <td>...</td>\n",
       "      <td>...</td>\n",
       "      <td>...</td>\n",
       "      <td>...</td>\n",
       "      <td>...</td>\n",
       "    </tr>\n",
       "    <tr>\n",
       "      <td>19229</td>\n",
       "      <td>26790</td>\n",
       "      <td>1517495987</td>\n",
       "      <td>True</td>\n",
       "      <td>1.0</td>\n",
       "      <td>0.0</td>\n",
       "      <td>8.0</td>\n",
       "      <td>8.0</td>\n",
       "      <td>1.0</td>\n",
       "      <td>9.0</td>\n",
       "    </tr>\n",
       "    <tr>\n",
       "      <td>19230</td>\n",
       "      <td>26793</td>\n",
       "      <td>1510225034</td>\n",
       "      <td>True</td>\n",
       "      <td>NaN</td>\n",
       "      <td>NaN</td>\n",
       "      <td>1.0</td>\n",
       "      <td>0.0</td>\n",
       "      <td>1.0</td>\n",
       "      <td>1.0</td>\n",
       "    </tr>\n",
       "    <tr>\n",
       "      <td>19231</td>\n",
       "      <td>26794</td>\n",
       "      <td>1512035039</td>\n",
       "      <td>True</td>\n",
       "      <td>33.0</td>\n",
       "      <td>9.0</td>\n",
       "      <td>69.0</td>\n",
       "      <td>69.0</td>\n",
       "      <td>34.0</td>\n",
       "      <td>180.0</td>\n",
       "    </tr>\n",
       "    <tr>\n",
       "      <td>19232</td>\n",
       "      <td>26797</td>\n",
       "      <td>1509995096</td>\n",
       "      <td>True</td>\n",
       "      <td>2.0</td>\n",
       "      <td>0.0</td>\n",
       "      <td>10.0</td>\n",
       "      <td>10.0</td>\n",
       "      <td>2.0</td>\n",
       "      <td>13.0</td>\n",
       "    </tr>\n",
       "    <tr>\n",
       "      <td>19233</td>\n",
       "      <td>26798</td>\n",
       "      <td>1520978742</td>\n",
       "      <td>True</td>\n",
       "      <td>2.0</td>\n",
       "      <td>1.0</td>\n",
       "      <td>12.0</td>\n",
       "      <td>12.0</td>\n",
       "      <td>3.0</td>\n",
       "      <td>12.0</td>\n",
       "    </tr>\n",
       "  </tbody>\n",
       "</table>\n",
       "<p>19234 rows × 9 columns</p>\n",
       "</div>"
      ],
      "text/plain": [
       "       user_id  max_timestamp  is_gape_more_30  correct  wrong  discovered  \\\n",
       "0            1     1472827464             True      NaN    NaN         1.0   \n",
       "1            2     1519226966             True      2.0    0.0         9.0   \n",
       "2            3     1444581588             True     29.0   23.0        91.0   \n",
       "3            5     1499859939             True      2.0    2.0        11.0   \n",
       "4            7     1521634660             True      NaN    NaN         1.0   \n",
       "...        ...            ...              ...      ...    ...         ...   \n",
       "19229    26790     1517495987             True      1.0    0.0         8.0   \n",
       "19230    26793     1510225034             True      NaN    NaN         1.0   \n",
       "19231    26794     1512035039             True     33.0    9.0        69.0   \n",
       "19232    26797     1509995096             True      2.0    0.0        10.0   \n",
       "19233    26798     1520978742             True      2.0    1.0        12.0   \n",
       "\n",
       "       passed  started_attempt  viewed  \n",
       "0         0.0              0.0     1.0  \n",
       "1         9.0              2.0    10.0  \n",
       "2        87.0             30.0   192.0  \n",
       "3        11.0              4.0    12.0  \n",
       "4         1.0              0.0     1.0  \n",
       "...       ...              ...     ...  \n",
       "19229     8.0              1.0     9.0  \n",
       "19230     0.0              1.0     1.0  \n",
       "19231    69.0             34.0   180.0  \n",
       "19232    10.0              2.0    13.0  \n",
       "19233    12.0              3.0    12.0  \n",
       "\n",
       "[19234 rows x 9 columns]"
      ]
     },
     "execution_count": 52,
     "metadata": {},
     "output_type": "execute_result"
    }
   ],
   "source": [
    "users_data = users_gaps_features_merged.merge(passed2, how='left')\n",
    "users_data"
   ]
  },
  {
   "cell_type": "markdown",
   "metadata": {},
   "source": [
    "Теперь у нас есть сводная статистическая таблица по каждому пользователю: его последняя активность, был ли перерыв больше 30 дней с момента выгрузки данных, количество корректных и ошибочных ответов, количество открытых и пройденных шагов и количество просмотром. \n",
    "\n",
    "Теперь добавим в таблицу еще один элемент - количество активных дней. "
   ]
  },
  {
   "cell_type": "code",
   "execution_count": 53,
   "metadata": {},
   "outputs": [
    {
     "data": {
      "text/html": [
       "<div>\n",
       "<style scoped>\n",
       "    .dataframe tbody tr th:only-of-type {\n",
       "        vertical-align: middle;\n",
       "    }\n",
       "\n",
       "    .dataframe tbody tr th {\n",
       "        vertical-align: top;\n",
       "    }\n",
       "\n",
       "    .dataframe thead th {\n",
       "        text-align: right;\n",
       "    }\n",
       "</style>\n",
       "<table border=\"1\" class=\"dataframe\">\n",
       "  <thead>\n",
       "    <tr style=\"text-align: right;\">\n",
       "      <th></th>\n",
       "      <th>user_id</th>\n",
       "      <th>day</th>\n",
       "    </tr>\n",
       "  </thead>\n",
       "  <tbody>\n",
       "    <tr>\n",
       "      <td>0</td>\n",
       "      <td>1</td>\n",
       "      <td>2</td>\n",
       "    </tr>\n",
       "    <tr>\n",
       "      <td>1</td>\n",
       "      <td>2</td>\n",
       "      <td>30</td>\n",
       "    </tr>\n",
       "    <tr>\n",
       "      <td>2</td>\n",
       "      <td>3</td>\n",
       "      <td>400</td>\n",
       "    </tr>\n",
       "    <tr>\n",
       "      <td>3</td>\n",
       "      <td>5</td>\n",
       "      <td>38</td>\n",
       "    </tr>\n",
       "    <tr>\n",
       "      <td>4</td>\n",
       "      <td>7</td>\n",
       "      <td>3</td>\n",
       "    </tr>\n",
       "    <tr>\n",
       "      <td>...</td>\n",
       "      <td>...</td>\n",
       "      <td>...</td>\n",
       "    </tr>\n",
       "    <tr>\n",
       "      <td>19229</td>\n",
       "      <td>26790</td>\n",
       "      <td>26</td>\n",
       "    </tr>\n",
       "    <tr>\n",
       "      <td>19230</td>\n",
       "      <td>26793</td>\n",
       "      <td>3</td>\n",
       "    </tr>\n",
       "    <tr>\n",
       "      <td>19231</td>\n",
       "      <td>26794</td>\n",
       "      <td>352</td>\n",
       "    </tr>\n",
       "    <tr>\n",
       "      <td>19232</td>\n",
       "      <td>26797</td>\n",
       "      <td>35</td>\n",
       "    </tr>\n",
       "    <tr>\n",
       "      <td>19233</td>\n",
       "      <td>26798</td>\n",
       "      <td>39</td>\n",
       "    </tr>\n",
       "  </tbody>\n",
       "</table>\n",
       "<p>19234 rows × 2 columns</p>\n",
       "</div>"
      ],
      "text/plain": [
       "       user_id  day\n",
       "0            1    2\n",
       "1            2   30\n",
       "2            3  400\n",
       "3            5   38\n",
       "4            7    3\n",
       "...        ...  ...\n",
       "19229    26790   26\n",
       "19230    26793    3\n",
       "19231    26794  352\n",
       "19232    26797   35\n",
       "19233    26798   39\n",
       "\n",
       "[19234 rows x 2 columns]"
      ]
     },
     "execution_count": 53,
     "metadata": {},
     "output_type": "execute_result"
    }
   ],
   "source": [
    "days = event_data.groupby('user_id', as_index=False)['day'].count()\n",
    "days"
   ]
  },
  {
   "cell_type": "code",
   "execution_count": 54,
   "metadata": {},
   "outputs": [
    {
     "data": {
      "text/html": [
       "<div>\n",
       "<style scoped>\n",
       "    .dataframe tbody tr th:only-of-type {\n",
       "        vertical-align: middle;\n",
       "    }\n",
       "\n",
       "    .dataframe tbody tr th {\n",
       "        vertical-align: top;\n",
       "    }\n",
       "\n",
       "    .dataframe thead th {\n",
       "        text-align: right;\n",
       "    }\n",
       "</style>\n",
       "<table border=\"1\" class=\"dataframe\">\n",
       "  <thead>\n",
       "    <tr style=\"text-align: right;\">\n",
       "      <th></th>\n",
       "      <th>user_id</th>\n",
       "      <th>max_timestamp</th>\n",
       "      <th>is_gape_more_30</th>\n",
       "      <th>correct</th>\n",
       "      <th>wrong</th>\n",
       "      <th>discovered</th>\n",
       "      <th>passed</th>\n",
       "      <th>started_attempt</th>\n",
       "      <th>viewed</th>\n",
       "      <th>day</th>\n",
       "    </tr>\n",
       "  </thead>\n",
       "  <tbody>\n",
       "    <tr>\n",
       "      <td>0</td>\n",
       "      <td>1</td>\n",
       "      <td>1472827464</td>\n",
       "      <td>True</td>\n",
       "      <td>NaN</td>\n",
       "      <td>NaN</td>\n",
       "      <td>1.0</td>\n",
       "      <td>0.0</td>\n",
       "      <td>0.0</td>\n",
       "      <td>1.0</td>\n",
       "      <td>2</td>\n",
       "    </tr>\n",
       "    <tr>\n",
       "      <td>1</td>\n",
       "      <td>2</td>\n",
       "      <td>1519226966</td>\n",
       "      <td>True</td>\n",
       "      <td>2.0</td>\n",
       "      <td>0.0</td>\n",
       "      <td>9.0</td>\n",
       "      <td>9.0</td>\n",
       "      <td>2.0</td>\n",
       "      <td>10.0</td>\n",
       "      <td>30</td>\n",
       "    </tr>\n",
       "    <tr>\n",
       "      <td>2</td>\n",
       "      <td>3</td>\n",
       "      <td>1444581588</td>\n",
       "      <td>True</td>\n",
       "      <td>29.0</td>\n",
       "      <td>23.0</td>\n",
       "      <td>91.0</td>\n",
       "      <td>87.0</td>\n",
       "      <td>30.0</td>\n",
       "      <td>192.0</td>\n",
       "      <td>400</td>\n",
       "    </tr>\n",
       "    <tr>\n",
       "      <td>3</td>\n",
       "      <td>5</td>\n",
       "      <td>1499859939</td>\n",
       "      <td>True</td>\n",
       "      <td>2.0</td>\n",
       "      <td>2.0</td>\n",
       "      <td>11.0</td>\n",
       "      <td>11.0</td>\n",
       "      <td>4.0</td>\n",
       "      <td>12.0</td>\n",
       "      <td>38</td>\n",
       "    </tr>\n",
       "    <tr>\n",
       "      <td>4</td>\n",
       "      <td>7</td>\n",
       "      <td>1521634660</td>\n",
       "      <td>True</td>\n",
       "      <td>NaN</td>\n",
       "      <td>NaN</td>\n",
       "      <td>1.0</td>\n",
       "      <td>1.0</td>\n",
       "      <td>0.0</td>\n",
       "      <td>1.0</td>\n",
       "      <td>3</td>\n",
       "    </tr>\n",
       "    <tr>\n",
       "      <td>...</td>\n",
       "      <td>...</td>\n",
       "      <td>...</td>\n",
       "      <td>...</td>\n",
       "      <td>...</td>\n",
       "      <td>...</td>\n",
       "      <td>...</td>\n",
       "      <td>...</td>\n",
       "      <td>...</td>\n",
       "      <td>...</td>\n",
       "      <td>...</td>\n",
       "    </tr>\n",
       "    <tr>\n",
       "      <td>19229</td>\n",
       "      <td>26790</td>\n",
       "      <td>1517495987</td>\n",
       "      <td>True</td>\n",
       "      <td>1.0</td>\n",
       "      <td>0.0</td>\n",
       "      <td>8.0</td>\n",
       "      <td>8.0</td>\n",
       "      <td>1.0</td>\n",
       "      <td>9.0</td>\n",
       "      <td>26</td>\n",
       "    </tr>\n",
       "    <tr>\n",
       "      <td>19230</td>\n",
       "      <td>26793</td>\n",
       "      <td>1510225034</td>\n",
       "      <td>True</td>\n",
       "      <td>NaN</td>\n",
       "      <td>NaN</td>\n",
       "      <td>1.0</td>\n",
       "      <td>0.0</td>\n",
       "      <td>1.0</td>\n",
       "      <td>1.0</td>\n",
       "      <td>3</td>\n",
       "    </tr>\n",
       "    <tr>\n",
       "      <td>19231</td>\n",
       "      <td>26794</td>\n",
       "      <td>1512035039</td>\n",
       "      <td>True</td>\n",
       "      <td>33.0</td>\n",
       "      <td>9.0</td>\n",
       "      <td>69.0</td>\n",
       "      <td>69.0</td>\n",
       "      <td>34.0</td>\n",
       "      <td>180.0</td>\n",
       "      <td>352</td>\n",
       "    </tr>\n",
       "    <tr>\n",
       "      <td>19232</td>\n",
       "      <td>26797</td>\n",
       "      <td>1509995096</td>\n",
       "      <td>True</td>\n",
       "      <td>2.0</td>\n",
       "      <td>0.0</td>\n",
       "      <td>10.0</td>\n",
       "      <td>10.0</td>\n",
       "      <td>2.0</td>\n",
       "      <td>13.0</td>\n",
       "      <td>35</td>\n",
       "    </tr>\n",
       "    <tr>\n",
       "      <td>19233</td>\n",
       "      <td>26798</td>\n",
       "      <td>1520978742</td>\n",
       "      <td>True</td>\n",
       "      <td>2.0</td>\n",
       "      <td>1.0</td>\n",
       "      <td>12.0</td>\n",
       "      <td>12.0</td>\n",
       "      <td>3.0</td>\n",
       "      <td>12.0</td>\n",
       "      <td>39</td>\n",
       "    </tr>\n",
       "  </tbody>\n",
       "</table>\n",
       "<p>19234 rows × 10 columns</p>\n",
       "</div>"
      ],
      "text/plain": [
       "       user_id  max_timestamp  is_gape_more_30  correct  wrong  discovered  \\\n",
       "0            1     1472827464             True      NaN    NaN         1.0   \n",
       "1            2     1519226966             True      2.0    0.0         9.0   \n",
       "2            3     1444581588             True     29.0   23.0        91.0   \n",
       "3            5     1499859939             True      2.0    2.0        11.0   \n",
       "4            7     1521634660             True      NaN    NaN         1.0   \n",
       "...        ...            ...              ...      ...    ...         ...   \n",
       "19229    26790     1517495987             True      1.0    0.0         8.0   \n",
       "19230    26793     1510225034             True      NaN    NaN         1.0   \n",
       "19231    26794     1512035039             True     33.0    9.0        69.0   \n",
       "19232    26797     1509995096             True      2.0    0.0        10.0   \n",
       "19233    26798     1520978742             True      2.0    1.0        12.0   \n",
       "\n",
       "       passed  started_attempt  viewed  day  \n",
       "0         0.0              0.0     1.0    2  \n",
       "1         9.0              2.0    10.0   30  \n",
       "2        87.0             30.0   192.0  400  \n",
       "3        11.0              4.0    12.0   38  \n",
       "4         1.0              0.0     1.0    3  \n",
       "...       ...              ...     ...  ...  \n",
       "19229     8.0              1.0     9.0   26  \n",
       "19230     0.0              1.0     1.0    3  \n",
       "19231    69.0             34.0   180.0  352  \n",
       "19232    10.0              2.0    13.0   35  \n",
       "19233    12.0              3.0    12.0   39  \n",
       "\n",
       "[19234 rows x 10 columns]"
      ]
     },
     "execution_count": 54,
     "metadata": {},
     "output_type": "execute_result"
    }
   ],
   "source": [
    "users_data = users_data.merge(days, how='left')\n",
    "users_data"
   ]
  },
  {
   "cell_type": "markdown",
   "metadata": {},
   "source": [
    "Убедимся, что мы не потеряли юзеров при всех этих преобразованиях."
   ]
  },
  {
   "cell_type": "code",
   "execution_count": 55,
   "metadata": {},
   "outputs": [
    {
     "data": {
      "text/plain": [
       "19234"
      ]
     },
     "execution_count": 55,
     "metadata": {},
     "output_type": "execute_result"
    }
   ],
   "source": [
    "users_data.user_id.nunique()"
   ]
  },
  {
   "cell_type": "code",
   "execution_count": 56,
   "metadata": {},
   "outputs": [
    {
     "data": {
      "text/plain": [
       "19234"
      ]
     },
     "execution_count": 56,
     "metadata": {},
     "output_type": "execute_result"
    }
   ],
   "source": [
    "event_data.user_id.nunique()"
   ]
  },
  {
   "cell_type": "markdown",
   "metadata": {},
   "source": [
    "Количество пользователей совпадает, никого не потеряли. Теперь добавим последний признак - закончил ли пользователь курс. \n",
    "Добавим столбец, где будет указано True, если количество пройденных степов больше 170 (условие для получения сертификата)."
   ]
  },
  {
   "cell_type": "code",
   "execution_count": 57,
   "metadata": {},
   "outputs": [],
   "source": [
    "users_data = users_data.fillna(0)"
   ]
  },
  {
   "cell_type": "code",
   "execution_count": 58,
   "metadata": {},
   "outputs": [
    {
     "data": {
      "text/html": [
       "<div>\n",
       "<style scoped>\n",
       "    .dataframe tbody tr th:only-of-type {\n",
       "        vertical-align: middle;\n",
       "    }\n",
       "\n",
       "    .dataframe tbody tr th {\n",
       "        vertical-align: top;\n",
       "    }\n",
       "\n",
       "    .dataframe thead th {\n",
       "        text-align: right;\n",
       "    }\n",
       "</style>\n",
       "<table border=\"1\" class=\"dataframe\">\n",
       "  <thead>\n",
       "    <tr style=\"text-align: right;\">\n",
       "      <th></th>\n",
       "      <th>user_id</th>\n",
       "      <th>max_timestamp</th>\n",
       "      <th>is_gape_more_30</th>\n",
       "      <th>correct</th>\n",
       "      <th>wrong</th>\n",
       "      <th>discovered</th>\n",
       "      <th>passed</th>\n",
       "      <th>started_attempt</th>\n",
       "      <th>viewed</th>\n",
       "      <th>day</th>\n",
       "      <th>passed_course</th>\n",
       "    </tr>\n",
       "  </thead>\n",
       "  <tbody>\n",
       "    <tr>\n",
       "      <td>0</td>\n",
       "      <td>1</td>\n",
       "      <td>1472827464</td>\n",
       "      <td>True</td>\n",
       "      <td>0.0</td>\n",
       "      <td>0.0</td>\n",
       "      <td>1.0</td>\n",
       "      <td>0.0</td>\n",
       "      <td>0.0</td>\n",
       "      <td>1.0</td>\n",
       "      <td>2</td>\n",
       "      <td>False</td>\n",
       "    </tr>\n",
       "    <tr>\n",
       "      <td>1</td>\n",
       "      <td>2</td>\n",
       "      <td>1519226966</td>\n",
       "      <td>True</td>\n",
       "      <td>2.0</td>\n",
       "      <td>0.0</td>\n",
       "      <td>9.0</td>\n",
       "      <td>9.0</td>\n",
       "      <td>2.0</td>\n",
       "      <td>10.0</td>\n",
       "      <td>30</td>\n",
       "      <td>False</td>\n",
       "    </tr>\n",
       "    <tr>\n",
       "      <td>2</td>\n",
       "      <td>3</td>\n",
       "      <td>1444581588</td>\n",
       "      <td>True</td>\n",
       "      <td>29.0</td>\n",
       "      <td>23.0</td>\n",
       "      <td>91.0</td>\n",
       "      <td>87.0</td>\n",
       "      <td>30.0</td>\n",
       "      <td>192.0</td>\n",
       "      <td>400</td>\n",
       "      <td>False</td>\n",
       "    </tr>\n",
       "    <tr>\n",
       "      <td>3</td>\n",
       "      <td>5</td>\n",
       "      <td>1499859939</td>\n",
       "      <td>True</td>\n",
       "      <td>2.0</td>\n",
       "      <td>2.0</td>\n",
       "      <td>11.0</td>\n",
       "      <td>11.0</td>\n",
       "      <td>4.0</td>\n",
       "      <td>12.0</td>\n",
       "      <td>38</td>\n",
       "      <td>False</td>\n",
       "    </tr>\n",
       "    <tr>\n",
       "      <td>4</td>\n",
       "      <td>7</td>\n",
       "      <td>1521634660</td>\n",
       "      <td>True</td>\n",
       "      <td>0.0</td>\n",
       "      <td>0.0</td>\n",
       "      <td>1.0</td>\n",
       "      <td>1.0</td>\n",
       "      <td>0.0</td>\n",
       "      <td>1.0</td>\n",
       "      <td>3</td>\n",
       "      <td>False</td>\n",
       "    </tr>\n",
       "    <tr>\n",
       "      <td>...</td>\n",
       "      <td>...</td>\n",
       "      <td>...</td>\n",
       "      <td>...</td>\n",
       "      <td>...</td>\n",
       "      <td>...</td>\n",
       "      <td>...</td>\n",
       "      <td>...</td>\n",
       "      <td>...</td>\n",
       "      <td>...</td>\n",
       "      <td>...</td>\n",
       "      <td>...</td>\n",
       "    </tr>\n",
       "    <tr>\n",
       "      <td>19229</td>\n",
       "      <td>26790</td>\n",
       "      <td>1517495987</td>\n",
       "      <td>True</td>\n",
       "      <td>1.0</td>\n",
       "      <td>0.0</td>\n",
       "      <td>8.0</td>\n",
       "      <td>8.0</td>\n",
       "      <td>1.0</td>\n",
       "      <td>9.0</td>\n",
       "      <td>26</td>\n",
       "      <td>False</td>\n",
       "    </tr>\n",
       "    <tr>\n",
       "      <td>19230</td>\n",
       "      <td>26793</td>\n",
       "      <td>1510225034</td>\n",
       "      <td>True</td>\n",
       "      <td>0.0</td>\n",
       "      <td>0.0</td>\n",
       "      <td>1.0</td>\n",
       "      <td>0.0</td>\n",
       "      <td>1.0</td>\n",
       "      <td>1.0</td>\n",
       "      <td>3</td>\n",
       "      <td>False</td>\n",
       "    </tr>\n",
       "    <tr>\n",
       "      <td>19231</td>\n",
       "      <td>26794</td>\n",
       "      <td>1512035039</td>\n",
       "      <td>True</td>\n",
       "      <td>33.0</td>\n",
       "      <td>9.0</td>\n",
       "      <td>69.0</td>\n",
       "      <td>69.0</td>\n",
       "      <td>34.0</td>\n",
       "      <td>180.0</td>\n",
       "      <td>352</td>\n",
       "      <td>False</td>\n",
       "    </tr>\n",
       "    <tr>\n",
       "      <td>19232</td>\n",
       "      <td>26797</td>\n",
       "      <td>1509995096</td>\n",
       "      <td>True</td>\n",
       "      <td>2.0</td>\n",
       "      <td>0.0</td>\n",
       "      <td>10.0</td>\n",
       "      <td>10.0</td>\n",
       "      <td>2.0</td>\n",
       "      <td>13.0</td>\n",
       "      <td>35</td>\n",
       "      <td>False</td>\n",
       "    </tr>\n",
       "    <tr>\n",
       "      <td>19233</td>\n",
       "      <td>26798</td>\n",
       "      <td>1520978742</td>\n",
       "      <td>True</td>\n",
       "      <td>2.0</td>\n",
       "      <td>1.0</td>\n",
       "      <td>12.0</td>\n",
       "      <td>12.0</td>\n",
       "      <td>3.0</td>\n",
       "      <td>12.0</td>\n",
       "      <td>39</td>\n",
       "      <td>False</td>\n",
       "    </tr>\n",
       "  </tbody>\n",
       "</table>\n",
       "<p>19234 rows × 11 columns</p>\n",
       "</div>"
      ],
      "text/plain": [
       "       user_id  max_timestamp  is_gape_more_30  correct  wrong  discovered  \\\n",
       "0            1     1472827464             True      0.0    0.0         1.0   \n",
       "1            2     1519226966             True      2.0    0.0         9.0   \n",
       "2            3     1444581588             True     29.0   23.0        91.0   \n",
       "3            5     1499859939             True      2.0    2.0        11.0   \n",
       "4            7     1521634660             True      0.0    0.0         1.0   \n",
       "...        ...            ...              ...      ...    ...         ...   \n",
       "19229    26790     1517495987             True      1.0    0.0         8.0   \n",
       "19230    26793     1510225034             True      0.0    0.0         1.0   \n",
       "19231    26794     1512035039             True     33.0    9.0        69.0   \n",
       "19232    26797     1509995096             True      2.0    0.0        10.0   \n",
       "19233    26798     1520978742             True      2.0    1.0        12.0   \n",
       "\n",
       "       passed  started_attempt  viewed  day  passed_course  \n",
       "0         0.0              0.0     1.0    2          False  \n",
       "1         9.0              2.0    10.0   30          False  \n",
       "2        87.0             30.0   192.0  400          False  \n",
       "3        11.0              4.0    12.0   38          False  \n",
       "4         1.0              0.0     1.0    3          False  \n",
       "...       ...              ...     ...  ...            ...  \n",
       "19229     8.0              1.0     9.0   26          False  \n",
       "19230     0.0              1.0     1.0    3          False  \n",
       "19231    69.0             34.0   180.0  352          False  \n",
       "19232    10.0              2.0    13.0   35          False  \n",
       "19233    12.0              3.0    12.0   39          False  \n",
       "\n",
       "[19234 rows x 11 columns]"
      ]
     },
     "execution_count": 58,
     "metadata": {},
     "output_type": "execute_result"
    }
   ],
   "source": [
    "users_data['passed_course'] = users_data.passed >= 170\n",
    "users_data"
   ]
  },
  {
   "cell_type": "markdown",
   "metadata": {},
   "source": [
    "Посмотрим, как много юзеров справилось с курсом:"
   ]
  },
  {
   "cell_type": "code",
   "execution_count": 59,
   "metadata": {},
   "outputs": [
    {
     "data": {
      "text/plain": [
       "False    17801\n",
       "True      1433\n",
       "Name: passed_course, dtype: int64"
      ]
     },
     "execution_count": 59,
     "metadata": {},
     "output_type": "execute_result"
    }
   ],
   "source": [
    "users_data.passed_course.value_counts()"
   ]
  },
  {
   "cell_type": "markdown",
   "metadata": {},
   "source": [
    "Успешно завершили курс около 8% пользователей. "
   ]
  },
  {
   "cell_type": "markdown",
   "metadata": {},
   "source": [
    "## Вывод"
   ]
  },
  {
   "cell_type": "markdown",
   "metadata": {},
   "source": [
    "В данном разделе мы ознакомились с данными, провели их предобработку, проанализировали поведение пользователей и создали сводную таблицу по каждому пользователю с указанием важной статистической информации по нему. \n",
    "\n",
    "Мы выяснили, что:\n",
    "- Успешно завершили курс около 8% пользователей.\n",
    "- Для большинства пользователей максимальный перерыв между активными днями - 30 дней. Очень малое их количество заходило на курс еще раз, если проходило более, чем 30 дней перерыва.\n",
    "- Большая часть пользователей решила максимум 100 заданий, при этом на каждый верный ответ наиболее часто приходилось 2-4 неверных."
   ]
  },
  {
   "cell_type": "markdown",
   "metadata": {},
   "source": [
    "# Шаг 2. Построение моделей"
   ]
  },
  {
   "cell_type": "code",
   "execution_count": 60,
   "metadata": {},
   "outputs": [],
   "source": [
    "from sklearn import tree"
   ]
  },
  {
   "cell_type": "markdown",
   "metadata": {},
   "source": [
    "Нам предстоит решить, за какой минимальный срок от начала прохождения курса мы сможем достаточно точно классифицировать, покинет ли пользователь курс.\n",
    "\n",
    "То есть план действий будет такой: \n",
    "- Определить периоды: по первому дню активности, по 3м дням, по неделе, по двум неделям, по месяцу. \n",
    "- Предположительно, чем более долгий срок мы указываем - тем больше шансов правильно классифицировать, однако нас может не устроить слишком долгий срок понимания, потому что можно не успеть отреагировать и удержать пользователя. Поэтому, нам нужно посмотреть на различие результатов работы моделей и подобрать оптимальный срок. \n",
    "\n",
    "Для начала нам необходимо убрать из глобальной таблицы users_data тех пользователей, для которых is_gape_more_30 = False: это пользователи, про которых мы считаем, что нам неизвестно еще, покинут они курс или нет, поскольку, предположительно, находятся еще в стадии прохождения. При этом нам нужно оставить тех из них, кто уже получил сертификат. "
   ]
  },
  {
   "cell_type": "code",
   "execution_count": 61,
   "metadata": {},
   "outputs": [],
   "source": [
    "actual_users = users_data.query('is_gape_more_30 == True or (is_gape_more_30 == False and passed_course == True)')"
   ]
  },
  {
   "cell_type": "code",
   "execution_count": 62,
   "metadata": {
    "scrolled": true
   },
   "outputs": [
    {
     "name": "stdout",
     "output_type": "stream",
     "text": [
      "<class 'pandas.core.frame.DataFrame'>\n",
      "Int64Index: 17986 entries, 0 to 19233\n",
      "Data columns (total 11 columns):\n",
      "user_id            17986 non-null int64\n",
      "max_timestamp      17986 non-null int64\n",
      "is_gape_more_30    17986 non-null bool\n",
      "correct            17986 non-null float64\n",
      "wrong              17986 non-null float64\n",
      "discovered         17986 non-null float64\n",
      "passed             17986 non-null float64\n",
      "started_attempt    17986 non-null float64\n",
      "viewed             17986 non-null float64\n",
      "day                17986 non-null int64\n",
      "passed_course      17986 non-null bool\n",
      "dtypes: bool(2), float64(6), int64(3)\n",
      "memory usage: 1.4 MB\n"
     ]
    }
   ],
   "source": [
    "actual_users.info()"
   ]
  },
  {
   "cell_type": "markdown",
   "metadata": {},
   "source": [
    "Добавим в таблицу actual_users еще столбец timestamp_min."
   ]
  },
  {
   "cell_type": "code",
   "execution_count": 63,
   "metadata": {},
   "outputs": [
    {
     "data": {
      "text/html": [
       "<div>\n",
       "<style scoped>\n",
       "    .dataframe tbody tr th:only-of-type {\n",
       "        vertical-align: middle;\n",
       "    }\n",
       "\n",
       "    .dataframe tbody tr th {\n",
       "        vertical-align: top;\n",
       "    }\n",
       "\n",
       "    .dataframe thead th {\n",
       "        text-align: right;\n",
       "    }\n",
       "</style>\n",
       "<table border=\"1\" class=\"dataframe\">\n",
       "  <thead>\n",
       "    <tr style=\"text-align: right;\">\n",
       "      <th></th>\n",
       "      <th>step_id</th>\n",
       "      <th>timestamp</th>\n",
       "      <th>action</th>\n",
       "      <th>user_id</th>\n",
       "      <th>date</th>\n",
       "      <th>month</th>\n",
       "      <th>day</th>\n",
       "    </tr>\n",
       "  </thead>\n",
       "  <tbody>\n",
       "    <tr>\n",
       "      <td>0</td>\n",
       "      <td>32815</td>\n",
       "      <td>1434340848</td>\n",
       "      <td>viewed</td>\n",
       "      <td>17632</td>\n",
       "      <td>2015-06-15 04:00:48</td>\n",
       "      <td>6</td>\n",
       "      <td>2015-06-15</td>\n",
       "    </tr>\n",
       "    <tr>\n",
       "      <td>1</td>\n",
       "      <td>32815</td>\n",
       "      <td>1434340848</td>\n",
       "      <td>passed</td>\n",
       "      <td>17632</td>\n",
       "      <td>2015-06-15 04:00:48</td>\n",
       "      <td>6</td>\n",
       "      <td>2015-06-15</td>\n",
       "    </tr>\n",
       "    <tr>\n",
       "      <td>2</td>\n",
       "      <td>32815</td>\n",
       "      <td>1434340848</td>\n",
       "      <td>discovered</td>\n",
       "      <td>17632</td>\n",
       "      <td>2015-06-15 04:00:48</td>\n",
       "      <td>6</td>\n",
       "      <td>2015-06-15</td>\n",
       "    </tr>\n",
       "    <tr>\n",
       "      <td>3</td>\n",
       "      <td>32811</td>\n",
       "      <td>1434340895</td>\n",
       "      <td>discovered</td>\n",
       "      <td>17632</td>\n",
       "      <td>2015-06-15 04:01:35</td>\n",
       "      <td>6</td>\n",
       "      <td>2015-06-15</td>\n",
       "    </tr>\n",
       "    <tr>\n",
       "      <td>4</td>\n",
       "      <td>32811</td>\n",
       "      <td>1434340895</td>\n",
       "      <td>viewed</td>\n",
       "      <td>17632</td>\n",
       "      <td>2015-06-15 04:01:35</td>\n",
       "      <td>6</td>\n",
       "      <td>2015-06-15</td>\n",
       "    </tr>\n",
       "  </tbody>\n",
       "</table>\n",
       "</div>"
      ],
      "text/plain": [
       "   step_id   timestamp      action  user_id                date  month  \\\n",
       "0    32815  1434340848      viewed    17632 2015-06-15 04:00:48      6   \n",
       "1    32815  1434340848      passed    17632 2015-06-15 04:00:48      6   \n",
       "2    32815  1434340848  discovered    17632 2015-06-15 04:00:48      6   \n",
       "3    32811  1434340895  discovered    17632 2015-06-15 04:01:35      6   \n",
       "4    32811  1434340895      viewed    17632 2015-06-15 04:01:35      6   \n",
       "\n",
       "          day  \n",
       "0  2015-06-15  \n",
       "1  2015-06-15  \n",
       "2  2015-06-15  \n",
       "3  2015-06-15  \n",
       "4  2015-06-15  "
      ]
     },
     "execution_count": 63,
     "metadata": {},
     "output_type": "execute_result"
    }
   ],
   "source": [
    "event_data.head()"
   ]
  },
  {
   "cell_type": "code",
   "execution_count": 64,
   "metadata": {},
   "outputs": [],
   "source": [
    "event_data_group = event_data.groupby('user_id', as_index=False)['timestamp'].min()\n",
    "event_data_group = event_data_group.rename(columns={'timestamp':'min_timestamp'})"
   ]
  },
  {
   "cell_type": "code",
   "execution_count": 65,
   "metadata": {},
   "outputs": [],
   "source": [
    "event_data = event_data.merge(event_data_group, on='user_id', how='inner')"
   ]
  },
  {
   "cell_type": "code",
   "execution_count": 66,
   "metadata": {},
   "outputs": [],
   "source": [
    "actual_users = actual_users.merge(event_data_group[['user_id', 'min_timestamp']], on = 'user_id', how = 'inner')"
   ]
  },
  {
   "cell_type": "code",
   "execution_count": 67,
   "metadata": {},
   "outputs": [
    {
     "data": {
      "text/html": [
       "<div>\n",
       "<style scoped>\n",
       "    .dataframe tbody tr th:only-of-type {\n",
       "        vertical-align: middle;\n",
       "    }\n",
       "\n",
       "    .dataframe tbody tr th {\n",
       "        vertical-align: top;\n",
       "    }\n",
       "\n",
       "    .dataframe thead th {\n",
       "        text-align: right;\n",
       "    }\n",
       "</style>\n",
       "<table border=\"1\" class=\"dataframe\">\n",
       "  <thead>\n",
       "    <tr style=\"text-align: right;\">\n",
       "      <th></th>\n",
       "      <th>user_id</th>\n",
       "      <th>max_timestamp</th>\n",
       "      <th>is_gape_more_30</th>\n",
       "      <th>correct</th>\n",
       "      <th>wrong</th>\n",
       "      <th>discovered</th>\n",
       "      <th>passed</th>\n",
       "      <th>started_attempt</th>\n",
       "      <th>viewed</th>\n",
       "      <th>day</th>\n",
       "      <th>passed_course</th>\n",
       "      <th>min_timestamp</th>\n",
       "    </tr>\n",
       "  </thead>\n",
       "  <tbody>\n",
       "    <tr>\n",
       "      <td>0</td>\n",
       "      <td>1</td>\n",
       "      <td>1472827464</td>\n",
       "      <td>True</td>\n",
       "      <td>0.0</td>\n",
       "      <td>0.0</td>\n",
       "      <td>1.0</td>\n",
       "      <td>0.0</td>\n",
       "      <td>0.0</td>\n",
       "      <td>1.0</td>\n",
       "      <td>2</td>\n",
       "      <td>False</td>\n",
       "      <td>1472827464</td>\n",
       "    </tr>\n",
       "    <tr>\n",
       "      <td>1</td>\n",
       "      <td>2</td>\n",
       "      <td>1519226966</td>\n",
       "      <td>True</td>\n",
       "      <td>2.0</td>\n",
       "      <td>0.0</td>\n",
       "      <td>9.0</td>\n",
       "      <td>9.0</td>\n",
       "      <td>2.0</td>\n",
       "      <td>10.0</td>\n",
       "      <td>30</td>\n",
       "      <td>False</td>\n",
       "      <td>1514383364</td>\n",
       "    </tr>\n",
       "    <tr>\n",
       "      <td>2</td>\n",
       "      <td>3</td>\n",
       "      <td>1444581588</td>\n",
       "      <td>True</td>\n",
       "      <td>29.0</td>\n",
       "      <td>23.0</td>\n",
       "      <td>91.0</td>\n",
       "      <td>87.0</td>\n",
       "      <td>30.0</td>\n",
       "      <td>192.0</td>\n",
       "      <td>400</td>\n",
       "      <td>False</td>\n",
       "      <td>1434358476</td>\n",
       "    </tr>\n",
       "    <tr>\n",
       "      <td>3</td>\n",
       "      <td>5</td>\n",
       "      <td>1499859939</td>\n",
       "      <td>True</td>\n",
       "      <td>2.0</td>\n",
       "      <td>2.0</td>\n",
       "      <td>11.0</td>\n",
       "      <td>11.0</td>\n",
       "      <td>4.0</td>\n",
       "      <td>12.0</td>\n",
       "      <td>38</td>\n",
       "      <td>False</td>\n",
       "      <td>1466156809</td>\n",
       "    </tr>\n",
       "    <tr>\n",
       "      <td>4</td>\n",
       "      <td>7</td>\n",
       "      <td>1521634660</td>\n",
       "      <td>True</td>\n",
       "      <td>0.0</td>\n",
       "      <td>0.0</td>\n",
       "      <td>1.0</td>\n",
       "      <td>1.0</td>\n",
       "      <td>0.0</td>\n",
       "      <td>1.0</td>\n",
       "      <td>3</td>\n",
       "      <td>False</td>\n",
       "      <td>1521634660</td>\n",
       "    </tr>\n",
       "    <tr>\n",
       "      <td>...</td>\n",
       "      <td>...</td>\n",
       "      <td>...</td>\n",
       "      <td>...</td>\n",
       "      <td>...</td>\n",
       "      <td>...</td>\n",
       "      <td>...</td>\n",
       "      <td>...</td>\n",
       "      <td>...</td>\n",
       "      <td>...</td>\n",
       "      <td>...</td>\n",
       "      <td>...</td>\n",
       "      <td>...</td>\n",
       "    </tr>\n",
       "    <tr>\n",
       "      <td>17981</td>\n",
       "      <td>26790</td>\n",
       "      <td>1517495987</td>\n",
       "      <td>True</td>\n",
       "      <td>1.0</td>\n",
       "      <td>0.0</td>\n",
       "      <td>8.0</td>\n",
       "      <td>8.0</td>\n",
       "      <td>1.0</td>\n",
       "      <td>9.0</td>\n",
       "      <td>26</td>\n",
       "      <td>False</td>\n",
       "      <td>1451484016</td>\n",
       "    </tr>\n",
       "    <tr>\n",
       "      <td>17982</td>\n",
       "      <td>26793</td>\n",
       "      <td>1510225034</td>\n",
       "      <td>True</td>\n",
       "      <td>0.0</td>\n",
       "      <td>0.0</td>\n",
       "      <td>1.0</td>\n",
       "      <td>0.0</td>\n",
       "      <td>1.0</td>\n",
       "      <td>1.0</td>\n",
       "      <td>3</td>\n",
       "      <td>False</td>\n",
       "      <td>1510225031</td>\n",
       "    </tr>\n",
       "    <tr>\n",
       "      <td>17983</td>\n",
       "      <td>26794</td>\n",
       "      <td>1512035039</td>\n",
       "      <td>True</td>\n",
       "      <td>33.0</td>\n",
       "      <td>9.0</td>\n",
       "      <td>69.0</td>\n",
       "      <td>69.0</td>\n",
       "      <td>34.0</td>\n",
       "      <td>180.0</td>\n",
       "      <td>352</td>\n",
       "      <td>False</td>\n",
       "      <td>1495287049</td>\n",
       "    </tr>\n",
       "    <tr>\n",
       "      <td>17984</td>\n",
       "      <td>26797</td>\n",
       "      <td>1509995096</td>\n",
       "      <td>True</td>\n",
       "      <td>2.0</td>\n",
       "      <td>0.0</td>\n",
       "      <td>10.0</td>\n",
       "      <td>10.0</td>\n",
       "      <td>2.0</td>\n",
       "      <td>13.0</td>\n",
       "      <td>35</td>\n",
       "      <td>False</td>\n",
       "      <td>1508425316</td>\n",
       "    </tr>\n",
       "    <tr>\n",
       "      <td>17985</td>\n",
       "      <td>26798</td>\n",
       "      <td>1520978742</td>\n",
       "      <td>True</td>\n",
       "      <td>2.0</td>\n",
       "      <td>1.0</td>\n",
       "      <td>12.0</td>\n",
       "      <td>12.0</td>\n",
       "      <td>3.0</td>\n",
       "      <td>12.0</td>\n",
       "      <td>39</td>\n",
       "      <td>False</td>\n",
       "      <td>1520975763</td>\n",
       "    </tr>\n",
       "  </tbody>\n",
       "</table>\n",
       "<p>17986 rows × 12 columns</p>\n",
       "</div>"
      ],
      "text/plain": [
       "       user_id  max_timestamp  is_gape_more_30  correct  wrong  discovered  \\\n",
       "0            1     1472827464             True      0.0    0.0         1.0   \n",
       "1            2     1519226966             True      2.0    0.0         9.0   \n",
       "2            3     1444581588             True     29.0   23.0        91.0   \n",
       "3            5     1499859939             True      2.0    2.0        11.0   \n",
       "4            7     1521634660             True      0.0    0.0         1.0   \n",
       "...        ...            ...              ...      ...    ...         ...   \n",
       "17981    26790     1517495987             True      1.0    0.0         8.0   \n",
       "17982    26793     1510225034             True      0.0    0.0         1.0   \n",
       "17983    26794     1512035039             True     33.0    9.0        69.0   \n",
       "17984    26797     1509995096             True      2.0    0.0        10.0   \n",
       "17985    26798     1520978742             True      2.0    1.0        12.0   \n",
       "\n",
       "       passed  started_attempt  viewed  day  passed_course  min_timestamp  \n",
       "0         0.0              0.0     1.0    2          False     1472827464  \n",
       "1         9.0              2.0    10.0   30          False     1514383364  \n",
       "2        87.0             30.0   192.0  400          False     1434358476  \n",
       "3        11.0              4.0    12.0   38          False     1466156809  \n",
       "4         1.0              0.0     1.0    3          False     1521634660  \n",
       "...       ...              ...     ...  ...            ...            ...  \n",
       "17981     8.0              1.0     9.0   26          False     1451484016  \n",
       "17982     0.0              1.0     1.0    3          False     1510225031  \n",
       "17983    69.0             34.0   180.0  352          False     1495287049  \n",
       "17984    10.0              2.0    13.0   35          False     1508425316  \n",
       "17985    12.0              3.0    12.0   39          False     1520975763  \n",
       "\n",
       "[17986 rows x 12 columns]"
      ]
     },
     "execution_count": 67,
     "metadata": {},
     "output_type": "execute_result"
    }
   ],
   "source": [
    "actual_users"
   ]
  },
  {
   "cell_type": "code",
   "execution_count": 230,
   "metadata": {},
   "outputs": [],
   "source": [
    "submissions_data_train = submissions_data_train.merge(event_data_group, on='user_id', how='inner')"
   ]
  },
  {
   "cell_type": "code",
   "execution_count": 68,
   "metadata": {},
   "outputs": [],
   "source": [
    "submissions = submissions_data_train[['submission_status', \n",
    "                        'user_id', 'step_id']].pivot_table(index='user_id',\n",
    "                                                          columns = 'submission_status',\n",
    "                                                          values = 'step_id', aggfunc='count').reset_index().fillna(0)"
   ]
  },
  {
   "cell_type": "code",
   "execution_count": 69,
   "metadata": {},
   "outputs": [
    {
     "data": {
      "text/html": [
       "<div>\n",
       "<style scoped>\n",
       "    .dataframe tbody tr th:only-of-type {\n",
       "        vertical-align: middle;\n",
       "    }\n",
       "\n",
       "    .dataframe tbody tr th {\n",
       "        vertical-align: top;\n",
       "    }\n",
       "\n",
       "    .dataframe thead th {\n",
       "        text-align: right;\n",
       "    }\n",
       "</style>\n",
       "<table border=\"1\" class=\"dataframe\">\n",
       "  <thead>\n",
       "    <tr style=\"text-align: right;\">\n",
       "      <th>submission_status</th>\n",
       "      <th>user_id</th>\n",
       "      <th>correct</th>\n",
       "      <th>wrong</th>\n",
       "    </tr>\n",
       "  </thead>\n",
       "  <tbody>\n",
       "    <tr>\n",
       "      <td>0</td>\n",
       "      <td>2</td>\n",
       "      <td>2.0</td>\n",
       "      <td>0.0</td>\n",
       "    </tr>\n",
       "    <tr>\n",
       "      <td>1</td>\n",
       "      <td>3</td>\n",
       "      <td>29.0</td>\n",
       "      <td>23.0</td>\n",
       "    </tr>\n",
       "    <tr>\n",
       "      <td>2</td>\n",
       "      <td>5</td>\n",
       "      <td>2.0</td>\n",
       "      <td>2.0</td>\n",
       "    </tr>\n",
       "    <tr>\n",
       "      <td>3</td>\n",
       "      <td>8</td>\n",
       "      <td>9.0</td>\n",
       "      <td>21.0</td>\n",
       "    </tr>\n",
       "    <tr>\n",
       "      <td>4</td>\n",
       "      <td>14</td>\n",
       "      <td>0.0</td>\n",
       "      <td>1.0</td>\n",
       "    </tr>\n",
       "    <tr>\n",
       "      <td>...</td>\n",
       "      <td>...</td>\n",
       "      <td>...</td>\n",
       "      <td>...</td>\n",
       "    </tr>\n",
       "    <tr>\n",
       "      <td>9935</td>\n",
       "      <td>26787</td>\n",
       "      <td>3.0</td>\n",
       "      <td>0.0</td>\n",
       "    </tr>\n",
       "    <tr>\n",
       "      <td>9936</td>\n",
       "      <td>26790</td>\n",
       "      <td>1.0</td>\n",
       "      <td>0.0</td>\n",
       "    </tr>\n",
       "    <tr>\n",
       "      <td>9937</td>\n",
       "      <td>26794</td>\n",
       "      <td>33.0</td>\n",
       "      <td>9.0</td>\n",
       "    </tr>\n",
       "    <tr>\n",
       "      <td>9938</td>\n",
       "      <td>26797</td>\n",
       "      <td>2.0</td>\n",
       "      <td>0.0</td>\n",
       "    </tr>\n",
       "    <tr>\n",
       "      <td>9939</td>\n",
       "      <td>26798</td>\n",
       "      <td>2.0</td>\n",
       "      <td>1.0</td>\n",
       "    </tr>\n",
       "  </tbody>\n",
       "</table>\n",
       "<p>9940 rows × 3 columns</p>\n",
       "</div>"
      ],
      "text/plain": [
       "submission_status  user_id  correct  wrong\n",
       "0                        2      2.0    0.0\n",
       "1                        3     29.0   23.0\n",
       "2                        5      2.0    2.0\n",
       "3                        8      9.0   21.0\n",
       "4                       14      0.0    1.0\n",
       "...                    ...      ...    ...\n",
       "9935                 26787      3.0    0.0\n",
       "9936                 26790      1.0    0.0\n",
       "9937                 26794     33.0    9.0\n",
       "9938                 26797      2.0    0.0\n",
       "9939                 26798      2.0    1.0\n",
       "\n",
       "[9940 rows x 3 columns]"
      ]
     },
     "execution_count": 69,
     "metadata": {},
     "output_type": "execute_result"
    }
   ],
   "source": [
    "submissions"
   ]
  },
  {
   "cell_type": "code",
   "execution_count": 70,
   "metadata": {},
   "outputs": [],
   "source": [
    "users_data = users_data.merge(event_data_group, on='user_id', how='left').rename(columns={'timestamp':'min_timestamp'})"
   ]
  },
  {
   "cell_type": "markdown",
   "metadata": {},
   "source": [
    "Теперь напишем функцию, которая будет на вход получать количество дней, а на выходе формировать таблицу про прототипу actual_users, только с данными за указанное количество дней активности, а не за весь период."
   ]
  },
  {
   "cell_type": "code",
   "execution_count": 245,
   "metadata": {},
   "outputs": [],
   "source": [
    "def query_days(d):\n",
    "    days = event_data.copy()\n",
    "    days['period'] = days['min_timestamp'] + d*24*60*60\n",
    "    days_query = days.query('min_timestamp <= timestamp <= period')\n",
    "    days_pivot = days_query.pivot_table(index = 'user_id', \n",
    "                                       columns = 'action', \n",
    "                                       values = 'step_id', \n",
    "                                       aggfunc='count').reset_index().fillna(0)\n",
    "    merged = days_pivot.merge(actual_users[['max_timestamp', 'passed_course', 'min_timestamp', 'user_id']], on = 'user_id', how='left')\n",
    "    submissions_d = submissions_data_train.copy()\n",
    "    submissions_d['periodS'] = submissions_d['min_timestamp'] + d*24*60*60\n",
    "    submissions_d = submissions_d.query('min_timestamp <= timestamp <= periodS')\n",
    "    submissions_pivot = submissions_d[['submission_status', \n",
    "                        'user_id', 'step_id']].pivot_table(index='user_id',\n",
    "                                                          columns = 'submission_status',\n",
    "                                                          values = 'step_id', aggfunc='count').reset_index().fillna(0)\n",
    "    merged = merged.merge(submissions_pivot, on = 'user_id', how = 'left')\n",
    "    merged.passed_course = merged.passed_course.fillna(0).astype('int')\n",
    "    return merged.fillna(0).set_index('user_id').reset_index().drop(['min_timestamp', 'max_timestamp', 'user_id'], axis=1)"
   ]
  },
  {
   "cell_type": "markdown",
   "metadata": {},
   "source": [
    "Теперь мы можем формировать actual_users за любой период. Мы оставили в ней только те признаки, который понадобятся для обучения моделей. \n"
   ]
  },
  {
   "cell_type": "markdown",
   "metadata": {},
   "source": [
    "Проверим функцию. Например, получим таблицу actual_users для 3х дней."
   ]
  },
  {
   "cell_type": "code",
   "execution_count": 361,
   "metadata": {},
   "outputs": [],
   "source": [
    "three = query_days(3)"
   ]
  },
  {
   "cell_type": "code",
   "execution_count": 362,
   "metadata": {},
   "outputs": [
    {
     "data": {
      "text/html": [
       "<div>\n",
       "<style scoped>\n",
       "    .dataframe tbody tr th:only-of-type {\n",
       "        vertical-align: middle;\n",
       "    }\n",
       "\n",
       "    .dataframe tbody tr th {\n",
       "        vertical-align: top;\n",
       "    }\n",
       "\n",
       "    .dataframe thead th {\n",
       "        text-align: right;\n",
       "    }\n",
       "</style>\n",
       "<table border=\"1\" class=\"dataframe\">\n",
       "  <thead>\n",
       "    <tr style=\"text-align: right;\">\n",
       "      <th></th>\n",
       "      <th>discovered</th>\n",
       "      <th>passed</th>\n",
       "      <th>started_attempt</th>\n",
       "      <th>viewed</th>\n",
       "      <th>passed_course</th>\n",
       "      <th>correct</th>\n",
       "      <th>wrong</th>\n",
       "    </tr>\n",
       "  </thead>\n",
       "  <tbody>\n",
       "    <tr>\n",
       "      <td>0</td>\n",
       "      <td>1.0</td>\n",
       "      <td>0.0</td>\n",
       "      <td>0.0</td>\n",
       "      <td>1.0</td>\n",
       "      <td>0</td>\n",
       "      <td>0.0</td>\n",
       "      <td>0.0</td>\n",
       "    </tr>\n",
       "    <tr>\n",
       "      <td>1</td>\n",
       "      <td>9.0</td>\n",
       "      <td>9.0</td>\n",
       "      <td>2.0</td>\n",
       "      <td>9.0</td>\n",
       "      <td>0</td>\n",
       "      <td>2.0</td>\n",
       "      <td>0.0</td>\n",
       "    </tr>\n",
       "    <tr>\n",
       "      <td>2</td>\n",
       "      <td>15.0</td>\n",
       "      <td>15.0</td>\n",
       "      <td>4.0</td>\n",
       "      <td>20.0</td>\n",
       "      <td>0</td>\n",
       "      <td>4.0</td>\n",
       "      <td>4.0</td>\n",
       "    </tr>\n",
       "    <tr>\n",
       "      <td>3</td>\n",
       "      <td>1.0</td>\n",
       "      <td>1.0</td>\n",
       "      <td>0.0</td>\n",
       "      <td>1.0</td>\n",
       "      <td>0</td>\n",
       "      <td>0.0</td>\n",
       "      <td>0.0</td>\n",
       "    </tr>\n",
       "    <tr>\n",
       "      <td>4</td>\n",
       "      <td>1.0</td>\n",
       "      <td>1.0</td>\n",
       "      <td>0.0</td>\n",
       "      <td>1.0</td>\n",
       "      <td>0</td>\n",
       "      <td>0.0</td>\n",
       "      <td>0.0</td>\n",
       "    </tr>\n",
       "    <tr>\n",
       "      <td>...</td>\n",
       "      <td>...</td>\n",
       "      <td>...</td>\n",
       "      <td>...</td>\n",
       "      <td>...</td>\n",
       "      <td>...</td>\n",
       "      <td>...</td>\n",
       "      <td>...</td>\n",
       "    </tr>\n",
       "    <tr>\n",
       "      <td>19229</td>\n",
       "      <td>6.0</td>\n",
       "      <td>6.0</td>\n",
       "      <td>1.0</td>\n",
       "      <td>6.0</td>\n",
       "      <td>0</td>\n",
       "      <td>1.0</td>\n",
       "      <td>0.0</td>\n",
       "    </tr>\n",
       "    <tr>\n",
       "      <td>19230</td>\n",
       "      <td>1.0</td>\n",
       "      <td>0.0</td>\n",
       "      <td>1.0</td>\n",
       "      <td>1.0</td>\n",
       "      <td>0</td>\n",
       "      <td>0.0</td>\n",
       "      <td>0.0</td>\n",
       "    </tr>\n",
       "    <tr>\n",
       "      <td>19231</td>\n",
       "      <td>61.0</td>\n",
       "      <td>61.0</td>\n",
       "      <td>32.0</td>\n",
       "      <td>134.0</td>\n",
       "      <td>0</td>\n",
       "      <td>31.0</td>\n",
       "      <td>9.0</td>\n",
       "    </tr>\n",
       "    <tr>\n",
       "      <td>19232</td>\n",
       "      <td>10.0</td>\n",
       "      <td>10.0</td>\n",
       "      <td>2.0</td>\n",
       "      <td>10.0</td>\n",
       "      <td>0</td>\n",
       "      <td>2.0</td>\n",
       "      <td>0.0</td>\n",
       "    </tr>\n",
       "    <tr>\n",
       "      <td>19233</td>\n",
       "      <td>12.0</td>\n",
       "      <td>12.0</td>\n",
       "      <td>3.0</td>\n",
       "      <td>12.0</td>\n",
       "      <td>0</td>\n",
       "      <td>2.0</td>\n",
       "      <td>1.0</td>\n",
       "    </tr>\n",
       "  </tbody>\n",
       "</table>\n",
       "<p>19234 rows × 7 columns</p>\n",
       "</div>"
      ],
      "text/plain": [
       "       discovered  passed  started_attempt  viewed  passed_course  correct  \\\n",
       "0             1.0     0.0              0.0     1.0              0      0.0   \n",
       "1             9.0     9.0              2.0     9.0              0      2.0   \n",
       "2            15.0    15.0              4.0    20.0              0      4.0   \n",
       "3             1.0     1.0              0.0     1.0              0      0.0   \n",
       "4             1.0     1.0              0.0     1.0              0      0.0   \n",
       "...           ...     ...              ...     ...            ...      ...   \n",
       "19229         6.0     6.0              1.0     6.0              0      1.0   \n",
       "19230         1.0     0.0              1.0     1.0              0      0.0   \n",
       "19231        61.0    61.0             32.0   134.0              0     31.0   \n",
       "19232        10.0    10.0              2.0    10.0              0      2.0   \n",
       "19233        12.0    12.0              3.0    12.0              0      2.0   \n",
       "\n",
       "       wrong  \n",
       "0        0.0  \n",
       "1        0.0  \n",
       "2        4.0  \n",
       "3        0.0  \n",
       "4        0.0  \n",
       "...      ...  \n",
       "19229    0.0  \n",
       "19230    0.0  \n",
       "19231    9.0  \n",
       "19232    0.0  \n",
       "19233    1.0  \n",
       "\n",
       "[19234 rows x 7 columns]"
      ]
     },
     "execution_count": 362,
     "metadata": {},
     "output_type": "execute_result"
    }
   ],
   "source": [
    "three"
   ]
  },
  {
   "cell_type": "markdown",
   "metadata": {},
   "source": [
    "Теперь получим для 1 дня и для 14 дней, после чего сравним, насколько отличаются данные друг от друга."
   ]
  },
  {
   "cell_type": "code",
   "execution_count": 248,
   "metadata": {},
   "outputs": [],
   "source": [
    "one = query_days(1)\n",
    "fourteen = query_days(14)"
   ]
  },
  {
   "cell_type": "code",
   "execution_count": 249,
   "metadata": {},
   "outputs": [
    {
     "data": {
      "text/plain": [
       "True     13382\n",
       "False     5852\n",
       "Name: wrong, dtype: int64"
      ]
     },
     "execution_count": 249,
     "metadata": {},
     "output_type": "execute_result"
    }
   ],
   "source": [
    "compare = one['wrong']==fifty['wrong']\n",
    "compare.value_counts()"
   ]
  },
  {
   "cell_type": "code",
   "execution_count": 250,
   "metadata": {},
   "outputs": [
    {
     "data": {
      "text/plain": [
       "True     13435\n",
       "False     5799\n",
       "Name: discovered, dtype: int64"
      ]
     },
     "execution_count": 250,
     "metadata": {},
     "output_type": "execute_result"
    }
   ],
   "source": [
    "compare = one['discovered']==fourteen['discovered']\n",
    "compare.value_counts()"
   ]
  },
  {
   "cell_type": "markdown",
   "metadata": {},
   "source": [
    "Всего лишь для 5799 юзеров из 19234 отличается результат между первым и 14-м днем, во всяком случае для проверенных столбцов. Проверим эту информацию для остальных."
   ]
  },
  {
   "cell_type": "code",
   "execution_count": 263,
   "metadata": {},
   "outputs": [],
   "source": [
    "compare = one.iloc[:, 0]==fourteen.iloc[:, 0]\n",
    "for i in range(1,7):\n",
    "    compare = compare & (one.iloc[:, i]==fourteen.iloc[:, i])\n",
    "    \n",
    "    "
   ]
  },
  {
   "cell_type": "code",
   "execution_count": 264,
   "metadata": {},
   "outputs": [
    {
     "data": {
      "text/plain": [
       "True     12020\n",
       "False     7214\n",
       "dtype: int64"
      ]
     },
     "execution_count": 264,
     "metadata": {},
     "output_type": "execute_result"
    }
   ],
   "source": [
    "compare.value_counts()"
   ]
  },
  {
   "cell_type": "markdown",
   "metadata": {},
   "source": [
    "Всего лишь для 7214 юзеров из 19234 хоть как-то отличаются по своим действиям между 1м и 14м днем активности. Это говорит о том, что большинство юзеров, которые так и не прошли курс - причем, подавляющее большинство, - проявились уже в первый день. Так же это означает, что понять, будет ли пользователь дальше проходить курс или нет, можно и по первому его дню активности, в большинстве случаев. \n",
    "\n",
    "Можем предположить, что если брать разницу между вторым и 14м днем, то она будет еще меньше: те, кто записался на курс, попробовал его пройти только на следующий день и там же прекратил свое намерение."
   ]
  },
  {
   "cell_type": "code",
   "execution_count": 265,
   "metadata": {},
   "outputs": [],
   "source": [
    "two = query_days(2)"
   ]
  },
  {
   "cell_type": "code",
   "execution_count": 266,
   "metadata": {},
   "outputs": [
    {
     "data": {
      "text/plain": [
       "True     12684\n",
       "False     6550\n",
       "dtype: int64"
      ]
     },
     "execution_count": 266,
     "metadata": {},
     "output_type": "execute_result"
    }
   ],
   "source": [
    "compare = two.iloc[:, 0]==fourteen.iloc[:, 0]\n",
    "for i in range(1,7):\n",
    "    compare = compare & (two.iloc[:, i]==fourteen.iloc[:, i])\n",
    "compare.value_counts()"
   ]
  },
  {
   "cell_type": "markdown",
   "metadata": {},
   "source": [
    "Действительно, это количество сократилось еще почти на тысячу. В связи этим, попробуем обучить модель на данных за 2 дня активности. "
   ]
  },
  {
   "cell_type": "code",
   "execution_count": 354,
   "metadata": {},
   "outputs": [],
   "source": [
    "class Research():\n",
    "    def Rfit(self, data):\n",
    "        self.data = data\n",
    "    def tvt_split(self):\n",
    "        '''функцию, которая будет разбивать таблицу на 4 части: \n",
    "        обучающую, валидационную и тестовую и обучающе-валидационную (для переобучения модели \n",
    "        перед финальным тестированием).'''\n",
    "        from sklearn.model_selection import train_test_split\n",
    "        self.train_valid, self.test = train_test_split(self.data, \n",
    "                                                        test_size=0.2)\n",
    "        self.train, self.valid = train_test_split(self.train_valid, test_size=0.2)\n",
    "        return self.train_valid, self.train, self.valid, self.test\n",
    "    def make_f(self):\n",
    "        '''Разбивает признаки на обучающие и целевой'''\n",
    "        self.tr_vX, self.tr_vY = self.train_valid.drop('passed_course',\n",
    "                                                       axis=1), self.train_valid.passed_course\n",
    "        self.trX, self.trY = self.train.drop('passed_course',\n",
    "                                                       axis=1), self.train.passed_course\n",
    "        self.vX, self.vY = self.valid.drop('passed_course',\n",
    "                                                       axis=1), self.valid.passed_course\n",
    "        self.tX, self.tY = self.test.drop('passed_course',\n",
    "                                                       axis=1), self.test.passed_course\n",
    "        return self.tr_vX, self.tr_vY, self.trX, self.trY, self.vX, self.vY, self.tX, self.tY\n",
    "    def best_forest(self, dict_f):\n",
    "        '''Принимает на вход словарь параметров и возвращает лучший \n",
    "        результат для леса'''\n",
    "        from sklearn.model_selection import GridSearchCV\n",
    "        from sklearn.ensemble import RandomForestClassifier     \n",
    "        from sklearn.metrics import roc_auc_score\n",
    "        params = dict_f\n",
    "        model = RandomForestClassifier(random_state = 0)\n",
    "        grid = GridSearchCV(model, params, cv=3)\n",
    "        grid.fit(self.trX, self.trY)\n",
    "        self.forest = grid.best_estimator_\n",
    "        self.forest.fit(self.trX, self.trY)\n",
    "        self.proba_forest = self.forest.predict_proba(self.vX)\n",
    "        self.proba_forest1 = self.proba_forest[:,1]\n",
    "        self.auc_forest = roc_auc_score(self.vY, self.proba_forest1)\n",
    "        return self.auc_forest\n",
    "    def best_cat(self, dict_c):\n",
    "        '''Принимает на вход словарь параметров и возвращает лучший \n",
    "        результат для cat boosting'''\n",
    "        from catboost import CatBoostClassifier\n",
    "        from sklearn.metrics import roc_auc_score\n",
    "        params = dict_c\n",
    "        self.cat = CatBoostClassifier(iterations = 300, random_state = 0)\n",
    "        self.cat.grid_search(params, X = self.trX, y = self.trY,\n",
    "                            verbose = False, plot = False, search_by_train_test_split = True,\n",
    "                            cv = 3, refit=True, shuffle=True)\n",
    "        \n",
    "        self.cat.fit(self.trX, self.trY)\n",
    "        self.cat_proba = self.cat.predict_proba(self.vX)\n",
    "        self.cat_proba1 = self.cat_proba[:,1]\n",
    "        self.auc_cat = roc_auc_score(self.vY, self.cat_proba1)\n",
    "        \n",
    "        return self.auc_cat\n",
    "    def best_lgbm(self, dict_l):\n",
    "        from lightgbm import LGBMClassifier\n",
    "        from sklearn.model_selection import GridSearchCV\n",
    "        from sklearn.metrics import roc_auc_score\n",
    "        params1 = dict_l\n",
    "        model = LGBMClassifier(random_state = 0, n_estimators=300)\n",
    "        grid = GridSearchCV(model, params1, cv=3)\n",
    "        grid.fit(self.trX, self.trY)\n",
    "        self.light = grid.best_estimator_\n",
    "        self.light.fit(self.trX, self.trY)        \n",
    "        self.light_proba = self.light.predict_proba(self.vX)\n",
    "        self.light_proba1 = self.light_proba[:,1]\n",
    "        self.auc_light = roc_auc_score(self.vY, self.light_proba1)\n",
    "        \n",
    "        return self.auc_light\n",
    "    def auc_roc_func(self, kind):\n",
    "        '''Переобучает модель на более полных данных и выводит график\n",
    "        roc кривой для тестовой выборки'''\n",
    "        from sklearn.metrics import roc_auc_score\n",
    "        from sklearn.metrics import roc_curve\n",
    "        import matplotlib.pyplot as plt\n",
    "        if kind == 'forest_m':\n",
    "            self.forest.fit(self.tr_vX, self.tr_vY)\n",
    "            self.proba_forest2 = self.forest.predict_proba(self.tX)\n",
    "            proba = self.proba_forest2\n",
    "        elif kind == 'cat_m':\n",
    "            self.cat.fit(self.tr_vX, self.tr_vY)\n",
    "            self.cat_proba2 = self.cat.predict_proba(self.tX)\n",
    "            proba = self.cat_proba2\n",
    "        elif kind == 'lgbm_m':\n",
    "            self.light.fit(self.tr_vX, self.tr_vY)\n",
    "            self.light_proba2 = self.light.predict_proba(self.tX)\n",
    "            proba = self.light_proba2\n",
    "        else:\n",
    "            print('kind может принимать только значения forest_m, cat_m или lgbm_m')\n",
    "        proba1 = proba[:, 1]\n",
    "        self.auc = roc_auc_score(self.tY, proba1)\n",
    "        fpr, tpr, thresholds = roc_curve(self.tY, proba1)\n",
    "        plt.figure()\n",
    "        plt.plot(fpr, tpr)\n",
    "        plt.plot([0,1], linestyle='--')\n",
    "        plt.xlim([0.0,1.0])\n",
    "        plt.ylim([0.0,1.0])\n",
    "        plt.xlabel('false positive rate')\n",
    "        plt.ylabel('true positive rate')\n",
    "        plt.title('ROC curve')\n",
    "        plt.show()\n",
    "        \n",
    "        return print('roc_auc_score^ ', self.auc)\n"
   ]
  },
  {
   "cell_type": "markdown",
   "metadata": {},
   "source": [
    "Теперь протестируем 3 вида моделей с различными гипер-параметрвми."
   ]
  },
  {
   "cell_type": "code",
   "execution_count": 355,
   "metadata": {},
   "outputs": [],
   "source": [
    "r =  Research()\n",
    "\n",
    "r.Rfit(two)\n",
    "\n",
    "train_valid, train, valid, test = r.tvt_split()\n",
    "\n",
    "tr_vX, tr_vY, trX, trY, vX, vY, tX, tY = r.make_f()"
   ]
  },
  {
   "cell_type": "code",
   "execution_count": 359,
   "metadata": {},
   "outputs": [
    {
     "data": {
      "text/plain": [
       "0.8154162707232219"
      ]
     },
     "execution_count": 359,
     "metadata": {},
     "output_type": "execute_result"
    }
   ],
   "source": [
    "d = {'max_depth':range(3,13), 'n_estimators':range(20, 130, 5)}\n",
    "\n",
    "r.best_forest(d)"
   ]
  },
  {
   "cell_type": "code",
   "execution_count": 345,
   "metadata": {},
   "outputs": [
    {
     "name": "stdout",
     "output_type": "stream",
     "text": [
      "\n",
      "bestTest = 0.2106747598\n",
      "bestIteration = 77\n",
      "\n",
      "\n",
      "bestTest = 0.2094585038\n",
      "bestIteration = 47\n",
      "\n",
      "\n",
      "bestTest = 0.2114571727\n",
      "bestIteration = 31\n",
      "\n",
      "\n",
      "bestTest = 0.2104329102\n",
      "bestIteration = 95\n",
      "\n",
      "\n",
      "bestTest = 0.2116972509\n",
      "bestIteration = 49\n",
      "\n",
      "\n",
      "bestTest = 0.2125841381\n",
      "bestIteration = 9\n",
      "\n",
      "\n",
      "bestTest = 0.2123530989\n",
      "bestIteration = 22\n",
      "\n",
      "\n",
      "bestTest = 0.2114788694\n",
      "bestIteration = 12\n",
      "\n",
      "\n",
      "bestTest = 0.2125020793\n",
      "bestIteration = 12\n",
      "\n",
      "\n",
      "bestTest = 0.2111456752\n",
      "bestIteration = 28\n",
      "\n",
      "\n",
      "bestTest = 0.2121924579\n",
      "bestIteration = 20\n",
      "\n",
      "\n",
      "bestTest = 0.2127837441\n",
      "bestIteration = 15\n",
      "\n",
      "0:\tlearn: 0.4072849\ttotal: 4.36ms\tremaining: 1.3s\n",
      "1:\tlearn: 0.3040715\ttotal: 8.93ms\tremaining: 1.33s\n",
      "2:\tlearn: 0.2500185\ttotal: 13.1ms\tremaining: 1.29s\n",
      "3:\tlearn: 0.2342032\ttotal: 17.5ms\tremaining: 1.3s\n",
      "4:\tlearn: 0.2224639\ttotal: 21.8ms\tremaining: 1.29s\n",
      "5:\tlearn: 0.2194442\ttotal: 26.1ms\tremaining: 1.28s\n",
      "6:\tlearn: 0.2159362\ttotal: 30.5ms\tremaining: 1.28s\n",
      "7:\tlearn: 0.2134793\ttotal: 35ms\tremaining: 1.28s\n",
      "8:\tlearn: 0.2116761\ttotal: 39.3ms\tremaining: 1.27s\n",
      "9:\tlearn: 0.2109172\ttotal: 43.6ms\tremaining: 1.26s\n",
      "10:\tlearn: 0.2097668\ttotal: 48.1ms\tremaining: 1.26s\n",
      "11:\tlearn: 0.2093404\ttotal: 52.6ms\tremaining: 1.26s\n",
      "12:\tlearn: 0.2089272\ttotal: 56.9ms\tremaining: 1.26s\n",
      "13:\tlearn: 0.2087897\ttotal: 61.3ms\tremaining: 1.25s\n",
      "14:\tlearn: 0.2081622\ttotal: 65.8ms\tremaining: 1.25s\n",
      "15:\tlearn: 0.2073554\ttotal: 70.1ms\tremaining: 1.24s\n",
      "16:\tlearn: 0.2070380\ttotal: 74.4ms\tremaining: 1.24s\n",
      "17:\tlearn: 0.2067947\ttotal: 78.8ms\tremaining: 1.23s\n",
      "18:\tlearn: 0.2066388\ttotal: 83.1ms\tremaining: 1.23s\n",
      "19:\tlearn: 0.2061909\ttotal: 87.4ms\tremaining: 1.22s\n",
      "20:\tlearn: 0.2054227\ttotal: 92.7ms\tremaining: 1.23s\n",
      "21:\tlearn: 0.2049028\ttotal: 97.3ms\tremaining: 1.23s\n",
      "22:\tlearn: 0.2045999\ttotal: 102ms\tremaining: 1.22s\n",
      "23:\tlearn: 0.2044793\ttotal: 106ms\tremaining: 1.22s\n",
      "24:\tlearn: 0.2041466\ttotal: 109ms\tremaining: 1.2s\n",
      "25:\tlearn: 0.2037537\ttotal: 114ms\tremaining: 1.2s\n",
      "26:\tlearn: 0.2034948\ttotal: 118ms\tremaining: 1.19s\n",
      "27:\tlearn: 0.2030072\ttotal: 123ms\tremaining: 1.19s\n",
      "28:\tlearn: 0.2020690\ttotal: 127ms\tremaining: 1.19s\n",
      "29:\tlearn: 0.2019686\ttotal: 131ms\tremaining: 1.18s\n",
      "30:\tlearn: 0.2017224\ttotal: 136ms\tremaining: 1.18s\n",
      "31:\tlearn: 0.2014851\ttotal: 140ms\tremaining: 1.17s\n",
      "32:\tlearn: 0.2013927\ttotal: 144ms\tremaining: 1.17s\n",
      "33:\tlearn: 0.2008362\ttotal: 148ms\tremaining: 1.16s\n",
      "34:\tlearn: 0.2006441\ttotal: 152ms\tremaining: 1.15s\n",
      "35:\tlearn: 0.2003725\ttotal: 157ms\tremaining: 1.15s\n",
      "36:\tlearn: 0.1997155\ttotal: 161ms\tremaining: 1.14s\n",
      "37:\tlearn: 0.1995723\ttotal: 165ms\tremaining: 1.14s\n",
      "38:\tlearn: 0.1991789\ttotal: 170ms\tremaining: 1.13s\n",
      "39:\tlearn: 0.1986514\ttotal: 174ms\tremaining: 1.13s\n",
      "40:\tlearn: 0.1981422\ttotal: 178ms\tremaining: 1.13s\n",
      "41:\tlearn: 0.1973963\ttotal: 183ms\tremaining: 1.13s\n",
      "42:\tlearn: 0.1969254\ttotal: 188ms\tremaining: 1.12s\n",
      "43:\tlearn: 0.1966885\ttotal: 193ms\tremaining: 1.12s\n",
      "44:\tlearn: 0.1961880\ttotal: 199ms\tremaining: 1.13s\n",
      "45:\tlearn: 0.1958791\ttotal: 204ms\tremaining: 1.13s\n",
      "46:\tlearn: 0.1955388\ttotal: 211ms\tremaining: 1.13s\n",
      "47:\tlearn: 0.1950035\ttotal: 216ms\tremaining: 1.13s\n",
      "48:\tlearn: 0.1946677\ttotal: 221ms\tremaining: 1.13s\n",
      "49:\tlearn: 0.1942159\ttotal: 225ms\tremaining: 1.13s\n",
      "50:\tlearn: 0.1939291\ttotal: 229ms\tremaining: 1.12s\n",
      "51:\tlearn: 0.1936968\ttotal: 234ms\tremaining: 1.12s\n",
      "52:\tlearn: 0.1929930\ttotal: 238ms\tremaining: 1.11s\n",
      "53:\tlearn: 0.1929113\ttotal: 242ms\tremaining: 1.1s\n",
      "54:\tlearn: 0.1922704\ttotal: 247ms\tremaining: 1.1s\n",
      "55:\tlearn: 0.1919323\ttotal: 251ms\tremaining: 1.09s\n",
      "56:\tlearn: 0.1918338\ttotal: 255ms\tremaining: 1.09s\n",
      "57:\tlearn: 0.1913120\ttotal: 259ms\tremaining: 1.08s\n",
      "58:\tlearn: 0.1907408\ttotal: 263ms\tremaining: 1.07s\n",
      "59:\tlearn: 0.1903261\ttotal: 267ms\tremaining: 1.07s\n",
      "60:\tlearn: 0.1900680\ttotal: 272ms\tremaining: 1.06s\n",
      "61:\tlearn: 0.1898180\ttotal: 276ms\tremaining: 1.06s\n",
      "62:\tlearn: 0.1897423\ttotal: 280ms\tremaining: 1.05s\n",
      "63:\tlearn: 0.1895132\ttotal: 284ms\tremaining: 1.05s\n",
      "64:\tlearn: 0.1894508\ttotal: 288ms\tremaining: 1.04s\n",
      "65:\tlearn: 0.1891632\ttotal: 293ms\tremaining: 1.04s\n",
      "66:\tlearn: 0.1888737\ttotal: 297ms\tremaining: 1.03s\n",
      "67:\tlearn: 0.1885286\ttotal: 301ms\tremaining: 1.03s\n",
      "68:\tlearn: 0.1883265\ttotal: 305ms\tremaining: 1.02s\n",
      "69:\tlearn: 0.1878557\ttotal: 309ms\tremaining: 1.02s\n",
      "70:\tlearn: 0.1875176\ttotal: 314ms\tremaining: 1.01s\n",
      "71:\tlearn: 0.1871962\ttotal: 318ms\tremaining: 1.01s\n",
      "72:\tlearn: 0.1869983\ttotal: 322ms\tremaining: 1s\n",
      "73:\tlearn: 0.1868423\ttotal: 326ms\tremaining: 996ms\n",
      "74:\tlearn: 0.1867714\ttotal: 330ms\tremaining: 991ms\n",
      "75:\tlearn: 0.1863897\ttotal: 335ms\tremaining: 987ms\n",
      "76:\tlearn: 0.1863402\ttotal: 339ms\tremaining: 981ms\n",
      "77:\tlearn: 0.1861241\ttotal: 343ms\tremaining: 977ms\n",
      "78:\tlearn: 0.1859165\ttotal: 348ms\tremaining: 973ms\n",
      "79:\tlearn: 0.1855500\ttotal: 352ms\tremaining: 969ms\n",
      "80:\tlearn: 0.1852360\ttotal: 357ms\tremaining: 966ms\n",
      "81:\tlearn: 0.1849538\ttotal: 362ms\tremaining: 963ms\n",
      "82:\tlearn: 0.1846054\ttotal: 367ms\tremaining: 960ms\n",
      "83:\tlearn: 0.1841178\ttotal: 375ms\tremaining: 963ms\n",
      "84:\tlearn: 0.1840217\ttotal: 379ms\tremaining: 958ms\n",
      "85:\tlearn: 0.1837846\ttotal: 383ms\tremaining: 954ms\n",
      "86:\tlearn: 0.1836029\ttotal: 388ms\tremaining: 951ms\n",
      "87:\tlearn: 0.1833918\ttotal: 393ms\tremaining: 948ms\n",
      "88:\tlearn: 0.1833036\ttotal: 398ms\tremaining: 944ms\n",
      "89:\tlearn: 0.1832369\ttotal: 403ms\tremaining: 940ms\n",
      "90:\tlearn: 0.1830664\ttotal: 407ms\tremaining: 935ms\n",
      "91:\tlearn: 0.1828644\ttotal: 412ms\tremaining: 930ms\n",
      "92:\tlearn: 0.1827371\ttotal: 416ms\tremaining: 926ms\n",
      "93:\tlearn: 0.1823727\ttotal: 421ms\tremaining: 924ms\n",
      "94:\tlearn: 0.1820827\ttotal: 426ms\tremaining: 919ms\n",
      "95:\tlearn: 0.1819015\ttotal: 431ms\tremaining: 915ms\n",
      "96:\tlearn: 0.1817979\ttotal: 435ms\tremaining: 911ms\n",
      "97:\tlearn: 0.1816087\ttotal: 440ms\tremaining: 907ms\n",
      "98:\tlearn: 0.1815033\ttotal: 444ms\tremaining: 902ms\n",
      "99:\tlearn: 0.1812454\ttotal: 449ms\tremaining: 898ms\n",
      "100:\tlearn: 0.1809902\ttotal: 456ms\tremaining: 898ms\n",
      "101:\tlearn: 0.1806731\ttotal: 460ms\tremaining: 893ms\n",
      "102:\tlearn: 0.1806588\ttotal: 465ms\tremaining: 889ms\n",
      "103:\tlearn: 0.1803413\ttotal: 469ms\tremaining: 884ms\n",
      "104:\tlearn: 0.1800603\ttotal: 473ms\tremaining: 879ms\n",
      "105:\tlearn: 0.1798526\ttotal: 478ms\tremaining: 874ms\n",
      "106:\tlearn: 0.1797318\ttotal: 482ms\tremaining: 869ms\n",
      "107:\tlearn: 0.1794864\ttotal: 486ms\tremaining: 864ms\n",
      "108:\tlearn: 0.1793252\ttotal: 490ms\tremaining: 859ms\n",
      "109:\tlearn: 0.1792036\ttotal: 495ms\tremaining: 855ms\n",
      "110:\tlearn: 0.1790369\ttotal: 499ms\tremaining: 850ms\n",
      "111:\tlearn: 0.1786867\ttotal: 504ms\tremaining: 846ms\n",
      "112:\tlearn: 0.1785322\ttotal: 508ms\tremaining: 841ms\n",
      "113:\tlearn: 0.1783527\ttotal: 512ms\tremaining: 836ms\n",
      "114:\tlearn: 0.1781288\ttotal: 517ms\tremaining: 831ms\n",
      "115:\tlearn: 0.1779619\ttotal: 521ms\tremaining: 827ms\n",
      "116:\tlearn: 0.1777519\ttotal: 529ms\tremaining: 828ms\n",
      "117:\tlearn: 0.1775805\ttotal: 534ms\tremaining: 824ms\n",
      "118:\tlearn: 0.1772659\ttotal: 539ms\tremaining: 819ms\n",
      "119:\tlearn: 0.1771123\ttotal: 543ms\tremaining: 815ms\n",
      "120:\tlearn: 0.1768736\ttotal: 548ms\tremaining: 810ms\n",
      "121:\tlearn: 0.1765713\ttotal: 552ms\tremaining: 805ms\n",
      "122:\tlearn: 0.1765098\ttotal: 556ms\tremaining: 800ms\n",
      "123:\tlearn: 0.1762705\ttotal: 560ms\tremaining: 795ms\n",
      "124:\tlearn: 0.1760331\ttotal: 565ms\tremaining: 791ms\n",
      "125:\tlearn: 0.1758484\ttotal: 569ms\tremaining: 786ms\n",
      "126:\tlearn: 0.1756868\ttotal: 573ms\tremaining: 781ms\n",
      "127:\tlearn: 0.1756117\ttotal: 578ms\tremaining: 776ms\n",
      "128:\tlearn: 0.1754659\ttotal: 582ms\tremaining: 772ms\n",
      "129:\tlearn: 0.1754567\ttotal: 586ms\tremaining: 767ms\n",
      "130:\tlearn: 0.1753308\ttotal: 591ms\tremaining: 762ms\n",
      "131:\tlearn: 0.1751392\ttotal: 595ms\tremaining: 757ms\n",
      "132:\tlearn: 0.1750309\ttotal: 599ms\tremaining: 752ms\n",
      "133:\tlearn: 0.1748012\ttotal: 604ms\tremaining: 748ms\n",
      "134:\tlearn: 0.1747103\ttotal: 608ms\tremaining: 743ms\n",
      "135:\tlearn: 0.1746787\ttotal: 612ms\tremaining: 738ms\n",
      "136:\tlearn: 0.1743998\ttotal: 616ms\tremaining: 733ms\n",
      "137:\tlearn: 0.1742274\ttotal: 621ms\tremaining: 729ms\n",
      "138:\tlearn: 0.1739022\ttotal: 626ms\tremaining: 725ms\n",
      "139:\tlearn: 0.1738632\ttotal: 630ms\tremaining: 720ms\n",
      "140:\tlearn: 0.1736559\ttotal: 634ms\tremaining: 715ms\n",
      "141:\tlearn: 0.1735694\ttotal: 639ms\tremaining: 711ms\n",
      "142:\tlearn: 0.1734144\ttotal: 643ms\tremaining: 706ms\n",
      "143:\tlearn: 0.1732073\ttotal: 647ms\tremaining: 701ms\n",
      "144:\tlearn: 0.1730746\ttotal: 652ms\tremaining: 697ms\n",
      "145:\tlearn: 0.1730012\ttotal: 656ms\tremaining: 692ms\n",
      "146:\tlearn: 0.1728648\ttotal: 660ms\tremaining: 687ms\n",
      "147:\tlearn: 0.1727163\ttotal: 665ms\tremaining: 683ms\n",
      "148:\tlearn: 0.1726233\ttotal: 669ms\tremaining: 678ms\n",
      "149:\tlearn: 0.1723107\ttotal: 674ms\tremaining: 674ms\n",
      "150:\tlearn: 0.1721910\ttotal: 678ms\tremaining: 669ms\n",
      "151:\tlearn: 0.1720363\ttotal: 682ms\tremaining: 664ms\n",
      "152:\tlearn: 0.1718965\ttotal: 686ms\tremaining: 659ms\n",
      "153:\tlearn: 0.1717231\ttotal: 691ms\tremaining: 655ms\n",
      "154:\tlearn: 0.1717171\ttotal: 696ms\tremaining: 651ms\n",
      "155:\tlearn: 0.1716983\ttotal: 701ms\tremaining: 647ms\n",
      "156:\tlearn: 0.1715125\ttotal: 707ms\tremaining: 644ms\n",
      "157:\tlearn: 0.1713469\ttotal: 711ms\tremaining: 639ms\n",
      "158:\tlearn: 0.1711254\ttotal: 716ms\tremaining: 635ms\n",
      "159:\tlearn: 0.1710344\ttotal: 720ms\tremaining: 630ms\n",
      "160:\tlearn: 0.1709803\ttotal: 725ms\tremaining: 626ms\n",
      "161:\tlearn: 0.1709261\ttotal: 729ms\tremaining: 621ms\n",
      "162:\tlearn: 0.1707703\ttotal: 733ms\tremaining: 616ms\n",
      "163:\tlearn: 0.1706444\ttotal: 738ms\tremaining: 612ms\n",
      "164:\tlearn: 0.1705743\ttotal: 742ms\tremaining: 607ms\n",
      "165:\tlearn: 0.1703301\ttotal: 748ms\tremaining: 604ms\n",
      "166:\tlearn: 0.1701759\ttotal: 752ms\tremaining: 599ms\n",
      "167:\tlearn: 0.1700772\ttotal: 757ms\tremaining: 595ms\n",
      "168:\tlearn: 0.1700566\ttotal: 761ms\tremaining: 590ms\n",
      "169:\tlearn: 0.1698814\ttotal: 765ms\tremaining: 585ms\n",
      "170:\tlearn: 0.1697075\ttotal: 770ms\tremaining: 581ms\n",
      "171:\tlearn: 0.1695870\ttotal: 774ms\tremaining: 576ms\n",
      "172:\tlearn: 0.1695095\ttotal: 778ms\tremaining: 571ms\n",
      "173:\tlearn: 0.1694199\ttotal: 783ms\tremaining: 567ms\n",
      "174:\tlearn: 0.1694141\ttotal: 787ms\tremaining: 562ms\n",
      "175:\tlearn: 0.1692413\ttotal: 791ms\tremaining: 557ms\n",
      "176:\tlearn: 0.1689194\ttotal: 795ms\tremaining: 553ms\n",
      "177:\tlearn: 0.1686658\ttotal: 799ms\tremaining: 548ms\n",
      "178:\tlearn: 0.1684924\ttotal: 804ms\tremaining: 543ms\n",
      "179:\tlearn: 0.1683186\ttotal: 808ms\tremaining: 539ms\n",
      "180:\tlearn: 0.1681519\ttotal: 812ms\tremaining: 534ms\n",
      "181:\tlearn: 0.1679811\ttotal: 816ms\tremaining: 529ms\n",
      "182:\tlearn: 0.1679594\ttotal: 820ms\tremaining: 524ms\n",
      "183:\tlearn: 0.1678637\ttotal: 825ms\tremaining: 520ms\n",
      "184:\tlearn: 0.1678420\ttotal: 829ms\tremaining: 515ms\n",
      "185:\tlearn: 0.1675589\ttotal: 833ms\tremaining: 511ms\n",
      "186:\tlearn: 0.1673043\ttotal: 837ms\tremaining: 506ms\n",
      "187:\tlearn: 0.1672389\ttotal: 842ms\tremaining: 501ms\n",
      "188:\tlearn: 0.1670455\ttotal: 846ms\tremaining: 497ms\n",
      "189:\tlearn: 0.1668322\ttotal: 850ms\tremaining: 492ms\n",
      "190:\tlearn: 0.1667224\ttotal: 855ms\tremaining: 488ms\n",
      "191:\tlearn: 0.1665344\ttotal: 859ms\tremaining: 483ms\n",
      "192:\tlearn: 0.1662955\ttotal: 863ms\tremaining: 479ms\n",
      "193:\tlearn: 0.1661184\ttotal: 874ms\tremaining: 478ms\n",
      "194:\tlearn: 0.1660922\ttotal: 879ms\tremaining: 473ms\n",
      "195:\tlearn: 0.1659165\ttotal: 884ms\tremaining: 469ms\n",
      "196:\tlearn: 0.1659053\ttotal: 888ms\tremaining: 464ms\n",
      "197:\tlearn: 0.1658656\ttotal: 892ms\tremaining: 460ms\n",
      "198:\tlearn: 0.1657345\ttotal: 897ms\tremaining: 455ms\n",
      "199:\tlearn: 0.1655577\ttotal: 901ms\tremaining: 451ms\n",
      "200:\tlearn: 0.1654713\ttotal: 905ms\tremaining: 446ms\n",
      "201:\tlearn: 0.1653779\ttotal: 910ms\tremaining: 441ms\n",
      "202:\tlearn: 0.1652148\ttotal: 915ms\tremaining: 437ms\n",
      "203:\tlearn: 0.1650126\ttotal: 920ms\tremaining: 433ms\n",
      "204:\tlearn: 0.1649284\ttotal: 925ms\tremaining: 429ms\n",
      "205:\tlearn: 0.1648504\ttotal: 929ms\tremaining: 424ms\n",
      "206:\tlearn: 0.1646479\ttotal: 933ms\tremaining: 419ms\n",
      "207:\tlearn: 0.1644947\ttotal: 937ms\tremaining: 415ms\n",
      "208:\tlearn: 0.1643248\ttotal: 941ms\tremaining: 410ms\n",
      "209:\tlearn: 0.1642417\ttotal: 946ms\tremaining: 405ms\n",
      "210:\tlearn: 0.1641965\ttotal: 950ms\tremaining: 401ms\n",
      "211:\tlearn: 0.1641901\ttotal: 954ms\tremaining: 396ms\n",
      "212:\tlearn: 0.1640567\ttotal: 958ms\tremaining: 391ms\n",
      "213:\tlearn: 0.1640377\ttotal: 962ms\tremaining: 387ms\n",
      "214:\tlearn: 0.1639567\ttotal: 969ms\tremaining: 383ms\n",
      "215:\tlearn: 0.1638677\ttotal: 973ms\tremaining: 379ms\n",
      "216:\tlearn: 0.1637495\ttotal: 978ms\tremaining: 374ms\n",
      "217:\tlearn: 0.1636320\ttotal: 982ms\tremaining: 369ms\n",
      "218:\tlearn: 0.1635455\ttotal: 986ms\tremaining: 365ms\n",
      "219:\tlearn: 0.1634320\ttotal: 990ms\tremaining: 360ms\n",
      "220:\tlearn: 0.1632783\ttotal: 995ms\tremaining: 356ms\n",
      "221:\tlearn: 0.1631326\ttotal: 999ms\tremaining: 351ms\n",
      "222:\tlearn: 0.1630648\ttotal: 1s\tremaining: 346ms\n",
      "223:\tlearn: 0.1629233\ttotal: 1.01s\tremaining: 342ms\n",
      "224:\tlearn: 0.1627651\ttotal: 1.01s\tremaining: 337ms\n",
      "225:\tlearn: 0.1626948\ttotal: 1.02s\tremaining: 333ms\n",
      "226:\tlearn: 0.1624921\ttotal: 1.02s\tremaining: 328ms\n",
      "227:\tlearn: 0.1620805\ttotal: 1.02s\tremaining: 324ms\n",
      "228:\tlearn: 0.1618844\ttotal: 1.03s\tremaining: 319ms\n",
      "229:\tlearn: 0.1617584\ttotal: 1.03s\tremaining: 315ms\n",
      "230:\tlearn: 0.1615289\ttotal: 1.04s\tremaining: 310ms\n",
      "231:\tlearn: 0.1615029\ttotal: 1.04s\tremaining: 305ms\n",
      "232:\tlearn: 0.1615004\ttotal: 1.05s\tremaining: 301ms\n",
      "233:\tlearn: 0.1613512\ttotal: 1.05s\tremaining: 297ms\n",
      "234:\tlearn: 0.1612322\ttotal: 1.06s\tremaining: 292ms\n",
      "235:\tlearn: 0.1611067\ttotal: 1.06s\tremaining: 288ms\n",
      "236:\tlearn: 0.1609769\ttotal: 1.07s\tremaining: 283ms\n",
      "237:\tlearn: 0.1608168\ttotal: 1.07s\tremaining: 279ms\n",
      "238:\tlearn: 0.1607190\ttotal: 1.07s\tremaining: 274ms\n",
      "239:\tlearn: 0.1606917\ttotal: 1.08s\tremaining: 270ms\n",
      "240:\tlearn: 0.1604853\ttotal: 1.08s\tremaining: 265ms\n",
      "241:\tlearn: 0.1604038\ttotal: 1.09s\tremaining: 261ms\n",
      "242:\tlearn: 0.1601671\ttotal: 1.09s\tremaining: 256ms\n",
      "243:\tlearn: 0.1601211\ttotal: 1.1s\tremaining: 252ms\n",
      "244:\tlearn: 0.1599866\ttotal: 1.1s\tremaining: 247ms\n",
      "245:\tlearn: 0.1597012\ttotal: 1.1s\tremaining: 243ms\n",
      "246:\tlearn: 0.1596910\ttotal: 1.11s\tremaining: 238ms\n",
      "247:\tlearn: 0.1595379\ttotal: 1.11s\tremaining: 234ms\n",
      "248:\tlearn: 0.1594354\ttotal: 1.12s\tremaining: 229ms\n",
      "249:\tlearn: 0.1593194\ttotal: 1.12s\tremaining: 225ms\n",
      "250:\tlearn: 0.1592249\ttotal: 1.13s\tremaining: 220ms\n",
      "251:\tlearn: 0.1591140\ttotal: 1.13s\tremaining: 216ms\n",
      "252:\tlearn: 0.1589771\ttotal: 1.14s\tremaining: 211ms\n",
      "253:\tlearn: 0.1589135\ttotal: 1.14s\tremaining: 207ms\n",
      "254:\tlearn: 0.1588547\ttotal: 1.14s\tremaining: 202ms\n",
      "255:\tlearn: 0.1588120\ttotal: 1.15s\tremaining: 198ms\n",
      "256:\tlearn: 0.1587748\ttotal: 1.16s\tremaining: 193ms\n",
      "257:\tlearn: 0.1587523\ttotal: 1.16s\tremaining: 189ms\n",
      "258:\tlearn: 0.1587434\ttotal: 1.16s\tremaining: 184ms\n",
      "259:\tlearn: 0.1585347\ttotal: 1.17s\tremaining: 180ms\n",
      "260:\tlearn: 0.1584370\ttotal: 1.17s\tremaining: 175ms\n",
      "261:\tlearn: 0.1583561\ttotal: 1.18s\tremaining: 171ms\n",
      "262:\tlearn: 0.1582648\ttotal: 1.18s\tremaining: 166ms\n",
      "263:\tlearn: 0.1580974\ttotal: 1.19s\tremaining: 162ms\n",
      "264:\tlearn: 0.1580732\ttotal: 1.19s\tremaining: 157ms\n",
      "265:\tlearn: 0.1579815\ttotal: 1.19s\tremaining: 153ms\n",
      "266:\tlearn: 0.1577736\ttotal: 1.2s\tremaining: 148ms\n",
      "267:\tlearn: 0.1577072\ttotal: 1.2s\tremaining: 144ms\n",
      "268:\tlearn: 0.1576188\ttotal: 1.21s\tremaining: 139ms\n",
      "269:\tlearn: 0.1574738\ttotal: 1.21s\tremaining: 135ms\n",
      "270:\tlearn: 0.1574495\ttotal: 1.22s\tremaining: 130ms\n",
      "271:\tlearn: 0.1573678\ttotal: 1.22s\tremaining: 126ms\n",
      "272:\tlearn: 0.1573050\ttotal: 1.23s\tremaining: 121ms\n",
      "273:\tlearn: 0.1572325\ttotal: 1.23s\tremaining: 117ms\n",
      "274:\tlearn: 0.1570236\ttotal: 1.24s\tremaining: 113ms\n",
      "275:\tlearn: 0.1569815\ttotal: 1.24s\tremaining: 108ms\n",
      "276:\tlearn: 0.1569526\ttotal: 1.25s\tremaining: 103ms\n",
      "277:\tlearn: 0.1568715\ttotal: 1.25s\tremaining: 99ms\n",
      "278:\tlearn: 0.1567736\ttotal: 1.25s\tremaining: 94.5ms\n",
      "279:\tlearn: 0.1566703\ttotal: 1.26s\tremaining: 90ms\n",
      "280:\tlearn: 0.1565846\ttotal: 1.26s\tremaining: 85.5ms\n",
      "281:\tlearn: 0.1565157\ttotal: 1.27s\tremaining: 81ms\n",
      "282:\tlearn: 0.1563569\ttotal: 1.27s\tremaining: 76.5ms\n",
      "283:\tlearn: 0.1561729\ttotal: 1.28s\tremaining: 71.9ms\n",
      "284:\tlearn: 0.1560838\ttotal: 1.28s\tremaining: 67.4ms\n",
      "285:\tlearn: 0.1560714\ttotal: 1.28s\tremaining: 62.9ms\n",
      "286:\tlearn: 0.1559344\ttotal: 1.29s\tremaining: 58.4ms\n",
      "287:\tlearn: 0.1557851\ttotal: 1.29s\tremaining: 53.9ms\n",
      "288:\tlearn: 0.1557585\ttotal: 1.3s\tremaining: 49.4ms\n",
      "289:\tlearn: 0.1556416\ttotal: 1.3s\tremaining: 44.9ms\n",
      "290:\tlearn: 0.1553960\ttotal: 1.31s\tremaining: 40.4ms\n",
      "291:\tlearn: 0.1551971\ttotal: 1.31s\tremaining: 35.9ms\n",
      "292:\tlearn: 0.1551458\ttotal: 1.31s\tremaining: 31.4ms\n",
      "293:\tlearn: 0.1550344\ttotal: 1.32s\tremaining: 26.9ms\n",
      "294:\tlearn: 0.1550170\ttotal: 1.32s\tremaining: 22.4ms\n",
      "295:\tlearn: 0.1548848\ttotal: 1.33s\tremaining: 18ms\n",
      "296:\tlearn: 0.1547275\ttotal: 1.33s\tremaining: 13.5ms\n",
      "297:\tlearn: 0.1547096\ttotal: 1.34s\tremaining: 8.97ms\n",
      "298:\tlearn: 0.1545611\ttotal: 1.34s\tremaining: 4.48ms\n",
      "299:\tlearn: 0.1544965\ttotal: 1.34s\tremaining: 0us\n"
     ]
    },
    {
     "data": {
      "text/plain": [
       "0.8011709944059447"
      ]
     },
     "execution_count": 345,
     "metadata": {},
     "output_type": "execute_result"
    }
   ],
   "source": [
    "c = {'max_depth':range(4,8), 'learning_rate':[0.2,0.3,0.4]}\n",
    "r.best_cat(c)"
   ]
  },
  {
   "cell_type": "code",
   "execution_count": 356,
   "metadata": {},
   "outputs": [
    {
     "data": {
      "text/plain": [
       "0.800771206207346"
      ]
     },
     "execution_count": 356,
     "metadata": {},
     "output_type": "execute_result"
    }
   ],
   "source": [
    "l = {'max_depth':range(4,10), 'learning_rate':[0.2,0.3,0.4]}\n",
    "r.best_lgbm(l)"
   ]
  },
  {
   "cell_type": "markdown",
   "metadata": {},
   "source": [
    "Итак, при текущих параметрах наилучший результат показала модель случайного леса. Посмотрим на рок-кривую этой модели, а также на резултат метрики для тестовой выборки."
   ]
  },
  {
   "cell_type": "code",
   "execution_count": 360,
   "metadata": {},
   "outputs": [
    {
     "data": {
      "image/png": "[encoded data removed]",
      "text/plain": [
       "<Figure size 576x432 with 1 Axes>"
      ]
     },
     "metadata": {
      "needs_background": "light"
     },
     "output_type": "display_data"
    },
    {
     "name": "stdout",
     "output_type": "stream",
     "text": [
      "roc_auc_score^  0.8190540840377705\n"
     ]
    }
   ],
   "source": [
    "r.auc_roc_func('forest_m')"
   ]
  },
  {
   "cell_type": "markdown",
   "metadata": {},
   "source": [
    "Теперь посмотрим, насколько нам удастся улучшить результат, если мы будем оценивать не 2 дня активности, а 3. "
   ]
  },
  {
   "cell_type": "code",
   "execution_count": 363,
   "metadata": {},
   "outputs": [],
   "source": [
    "r =  Research()\n",
    "\n",
    "r.Rfit(three)\n",
    "\n",
    "train_valid, train, valid, test = r.tvt_split()\n",
    "\n",
    "tr_vX, tr_vY, trX, trY, vX, vY, tX, tY = r.make_f()"
   ]
  },
  {
   "cell_type": "code",
   "execution_count": 364,
   "metadata": {},
   "outputs": [
    {
     "data": {
      "text/plain": [
       "0.8294048091243142"
      ]
     },
     "execution_count": 364,
     "metadata": {},
     "output_type": "execute_result"
    }
   ],
   "source": [
    "r.best_forest(d)"
   ]
  },
  {
   "cell_type": "markdown",
   "metadata": {},
   "source": [
    "Оценка немного выросла, что, впрочем, понятно: за три дня еще больше информации, чем за два. "
   ]
  },
  {
   "cell_type": "code",
   "execution_count": 365,
   "metadata": {},
   "outputs": [
    {
     "data": {
      "image/png": "[encoded data removed]",
      "text/plain": [
       "<Figure size 576x432 with 1 Axes>"
      ]
     },
     "metadata": {
      "needs_background": "light"
     },
     "output_type": "display_data"
    },
    {
     "name": "stdout",
     "output_type": "stream",
     "text": [
      "roc_auc_score^  0.8338236710787431\n"
     ]
    }
   ],
   "source": [
    "r.auc_roc_func('forest_m')"
   ]
  },
  {
   "cell_type": "markdown",
   "metadata": {},
   "source": [
    "На тестовой выборке результат снова получился выше."
   ]
  },
  {
   "cell_type": "markdown",
   "metadata": {},
   "source": [
    "## Вывод"
   ]
  },
  {
   "cell_type": "markdown",
   "metadata": {},
   "source": [
    "В этом проекте мы проанализировали поведение студентов онлайн-курса с платформы Степик. \n",
    "\n",
    "По итогам мы можем сказать следующее:\n",
    "\n",
    "- Большинство студентов (возле 2/3) не продолжает проходить курс спустя 1-2 дня: вероятно, это те, кто не нашли в этом курсе того, что искали, и сразу это поняли. Либо те, кому курс показался слишком сложным. \n",
    "- Для того, чтобы понять, пройдет ли человек курс или нет, в подавляющем большинстве случаев должно хватить лишь 3х дней наблюдения.\n",
    "\n",
    "Также мы выяснили, что:\n",
    "\n",
    "- Успешно завершили курс около 8% пользователей.\n",
    "- Для большинства пользователей максимальный перерыв между активными днями - 30 дней. Очень малое их количество заходило на курс еще раз, если проходило более, чем 30 дней перерыва.\n",
    "- Большая часть пользователей решила максимум 100 заданий, при этом на каждый верный ответ наиболее часто приходилось 2-4 неверных.\n",
    "\n",
    "По итогам анализа мы протестировали три модели с различными гиперпараметрами и отобрали лучшую из них. Наиболее высокое значение метрики, которой удалось добиться на тестовой выборке - 0.8338.\n",
    "\n"
   ]
  }
 ],
 "metadata": {
  "kernelspec": {
   "display_name": "Python 3",
   "language": "python",
   "name": "python3"
  },
  "language_info": {
   "codemirror_mode": {
    "name": "ipython",
    "version": 3
   },
   "file_extension": ".py",
   "mimetype": "text/x-python",
   "name": "python",
   "nbconvert_exporter": "python",
   "pygments_lexer": "ipython3",
   "version": "3.7.4"
  }
 },
 "nbformat": 4,
 "nbformat_minor": 2
}
